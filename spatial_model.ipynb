{
 "cells": [
  {
   "cell_type": "code",
   "execution_count": 1,
   "metadata": {
    "collapsed": true
   },
   "outputs": [],
   "source": [
    "using Distributions, TimeIt, ProgressMeter, PyPlot"
   ]
  },
  {
   "cell_type": "code",
   "execution_count": 2,
   "metadata": {},
   "outputs": [
    {
     "data": {
      "text/plain": [
       "get_clustering (generic function with 1 method)"
      ]
     },
     "execution_count": 2,
     "metadata": {},
     "output_type": "execute_result"
    }
   ],
   "source": [
    "include(\"zz_structures_DuLuSuSe.jl\")\n",
    "include(\"mbsampler.jl\")"
   ]
  },
  {
   "cell_type": "code",
   "execution_count": 17,
   "metadata": {
    "collapsed": true
   },
   "outputs": [],
   "source": [
    "N = 100\n",
    "x = randn(N)\n",
    "D_matrix = zeros(N,N)\n",
    "for i in 1:N \n",
    "    for j in 1:N \n",
    "        D_matrix[i,j] = abs(x[i]-x[j])\n",
    "    end\n",
    "end"
   ]
  },
  {
   "cell_type": "code",
   "execution_count": 18,
   "metadata": {},
   "outputs": [],
   "source": [
    "τ2_true = 1\n",
    "ϕ_true = 1\n",
    "\n",
    "cov_matrix = τ2_true*exp.(-ϕ_true*D_matrix);"
   ]
  },
  {
   "cell_type": "code",
   "execution_count": 19,
   "metadata": {},
   "outputs": [
    {
     "data": {
      "text/plain": [
       "(1.0, 0.004188144780934119)"
      ]
     },
     "execution_count": 19,
     "metadata": {},
     "output_type": "execute_result"
    }
   ],
   "source": [
    "maximum(cov_matrix), minimum(cov_matrix)"
   ]
  },
  {
   "cell_type": "code",
   "execution_count": 20,
   "metadata": {},
   "outputs": [
    {
     "data": {
      "text/plain": [
       "100×100 Array{Float64,2}:\n",
       " 1.0        0.543012  0.785669   …  0.303992   0.76342    0.274038 \n",
       " 0.543012   1.0       0.691147      0.165071   0.414546   0.504662 \n",
       " 0.785669   0.691147  1.0           0.238837   0.599795   0.348795 \n",
       " 0.249589   0.459637  0.317677      0.0758729  0.190541   0.910783 \n",
       " 0.912434   0.495463  0.716871      0.333166   0.836685   0.250041 \n",
       " 0.128204   0.236099  0.163179   …  0.0389731  0.0978738  0.467835 \n",
       " 0.403776   0.743585  0.513926      0.122744   0.30825    0.678687 \n",
       " 0.519527   0.956749  0.661254      0.157932   0.396617   0.527475 \n",
       " 0.0613266  0.112938  0.0780565     0.0186428  0.0468179  0.223789 \n",
       " 0.633659   0.856947  0.806522      0.192627   0.483748   0.432468 \n",
       " 0.711918   0.38658   0.559332   …  0.427004   0.932538   0.195092 \n",
       " 0.481606   0.261518  0.378383      0.631204   0.630854   0.131978 \n",
       " 0.62702    0.866021  0.798072      0.190609   0.478679   0.437048 \n",
       " ⋮                               ⋱                                 \n",
       " 0.167974   0.309338  0.213798      0.0510628  0.128235   0.612961 \n",
       " 0.322389   0.175061  0.253291      0.942935   0.422296   0.0883467\n",
       " 0.225179   0.414684  0.286608   …  0.0684525  0.171906   0.821707 \n",
       " 0.41298    0.224253  0.324466      0.736093   0.540961   0.113172 \n",
       " 0.856438   0.465057  0.672877      0.354949   0.891389   0.234696 \n",
       " 0.604609   0.898121  0.769547      0.183796   0.46157    0.453248 \n",
       " 0.37931    0.20597   0.298012      0.801433   0.496857   0.103945 \n",
       " 0.478493   0.259828  0.375937   …  0.63531    0.626776   0.131125 \n",
       " 0.283905   0.154164  0.223055      0.933924   0.371886   0.0778006\n",
       " 0.303992   0.165071  0.238837      1.0        0.398197   0.0833051\n",
       " 0.76342    0.414546  0.599795      0.398197   1.0        0.209206 \n",
       " 0.274038   0.504662  0.348795      0.0833051  0.209206   1.0      "
      ]
     },
     "execution_count": 20,
     "metadata": {},
     "output_type": "execute_result"
    }
   ],
   "source": [
    "cov_matrix"
   ]
  },
  {
   "cell_type": "code",
   "execution_count": 28,
   "metadata": {},
   "outputs": [],
   "source": [
    "ψ = rand(MvNormal(zeros(N), cov_matrix))\n",
    "prob = 1./(1+exp.(-ψ))\n",
    "y = [rand(Binomial(1,prob[i])) for i in 1:N];"
   ]
  },
  {
   "cell_type": "code",
   "execution_count": null,
   "metadata": {
    "collapsed": true
   },
   "outputs": [],
   "source": []
  }
 ],
 "metadata": {
  "kernelspec": {
   "display_name": "Julia 0.6.4",
   "language": "julia",
   "name": "julia-0.6"
  },
  "language_info": {
   "file_extension": ".jl",
   "mimetype": "application/julia",
   "name": "julia",
   "version": "0.6.4"
  }
 },
 "nbformat": 4,
 "nbformat_minor": 2
}
