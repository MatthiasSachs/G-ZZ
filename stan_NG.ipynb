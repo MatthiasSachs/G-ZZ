{
 "cells": [
  {
   "cell_type": "code",
   "execution_count": 1,
   "metadata": {
    "collapsed": true
   },
   "outputs": [],
   "source": [
    "import numpy as np, pandas as pd, pystan as ps, numpy.random as npr, matplotlib.pyplot as plt, h5py\n",
    "%matplotlib inline \n",
    "from time import time\n",
    "from pylab import plot, show, legend\n",
    "from scipy.stats import pearsonr, spearmanr, norm, invgamma"
   ]
  },
  {
   "cell_type": "code",
   "execution_count": 3,
   "metadata": {},
   "outputs": [
    {
     "name": "stderr",
     "output_type": "stream",
     "text": [
      "INFO:pystan:COMPILING THE C++ CODE FOR MODEL anon_model_ec2d62b169a03cfdb12340a1ec25c195 NOW.\n"
     ]
    }
   ],
   "source": [
    "sm_ng = ps.StanModel(file=\"ng_logistic.stan\") "
   ]
  },
  {
   "cell_type": "code",
   "execution_count": 4,
   "metadata": {
    "collapsed": true
   },
   "outputs": [],
   "source": [
    "data = h5py.File(\"GZZ_data.jld\", \"r\")\n",
    "X = data[\"X\"].value\n",
    "y = data[\"y\"].value\n",
    "ξ_true = data[\"xi_true\"].value\n",
    "d, Nobs = np.shape(X.transpose())\n",
    "\n",
    "data = dict(N=Nobs, d=d, y=y.astype(int), X=X)"
   ]
  },
  {
   "cell_type": "code",
   "execution_count": null,
   "metadata": {},
   "outputs": [],
   "source": [
    "start = time()\n",
    "fit_ng = sm_ng.sampling(data=data, thin=1, n_jobs=4, init=\"random\", iter=5_000, algorithm=\"HMC\")\n",
    "print(round((time()-start)/60, 2), \"mins to run\")\n",
    "print(fit_ng);"
   ]
  },
  {
   "cell_type": "code",
   "execution_count": null,
   "metadata": {
    "collapsed": true
   },
   "outputs": [],
   "source": [
    "trace = fit_ng.extract()\n",
    "xi_samples = trace[\"xi\"]"
   ]
  },
  {
   "cell_type": "code",
   "execution_count": null,
   "metadata": {},
   "outputs": [],
   "source": [
    "np.shape(xi_samples)"
   ]
  },
  {
   "cell_type": "code",
   "execution_count": null,
   "metadata": {
    "collapsed": true
   },
   "outputs": [],
   "source": [
    "cover = np.zeros(d)\n",
    "ci = np.zeros((d,2))\n",
    "for i in range(d) :\n",
    "    ci[i,:] = np.percentile(xi_samples[:,i], q=[5, 95])\n",
    "    cover[i] = (ci[i,0]<ξ_true[i])&(ξ_true[i]<ci[i,1])"
   ]
  },
  {
   "cell_type": "code",
   "execution_count": null,
   "metadata": {},
   "outputs": [],
   "source": [
    "100*np.mean(cover)"
   ]
  },
  {
   "cell_type": "code",
   "execution_count": null,
   "metadata": {},
   "outputs": [],
   "source": [
    "plt.plot(ci[:,0])\n",
    "plt.plot(ci[:,1])"
   ]
  },
  {
   "cell_type": "code",
   "execution_count": null,
   "metadata": {
    "collapsed": true
   },
   "outputs": [],
   "source": []
  }
 ],
 "metadata": {
  "kernelspec": {
   "display_name": "Python 3",
   "language": "python",
   "name": "python3"
  },
  "language_info": {
   "codemirror_mode": {
    "name": "ipython",
    "version": 3
   },
   "file_extension": ".py",
   "mimetype": "text/x-python",
   "name": "python",
   "nbconvert_exporter": "python",
   "pygments_lexer": "ipython3",
   "version": "3.6.2"
  }
 },
 "nbformat": 4,
 "nbformat_minor": 2
}
