{
 "cells": [
  {
   "cell_type": "markdown",
   "metadata": {},
   "source": [
    "#### Testing out Gibbs zig-zag code:"
   ]
  },
  {
   "cell_type": "code",
   "execution_count": 1,
   "metadata": {
    "collapsed": true
   },
   "outputs": [],
   "source": [
    "using Distributions, TimeIt, ProgressMeter, PyPlot"
   ]
  },
  {
   "cell_type": "code",
   "execution_count": 2,
   "metadata": {},
   "outputs": [
    {
     "data": {
      "text/plain": [
       "get_clustering (generic function with 1 method)"
      ]
     },
     "execution_count": 2,
     "metadata": {},
     "output_type": "execute_result"
    }
   ],
   "source": [
    "include(\"zz_structures.jl\")\n",
    "include(\"mbsampler.jl\")"
   ]
  },
  {
   "cell_type": "code",
   "execution_count": 3,
   "metadata": {},
   "outputs": [
    {
     "data": {
      "text/plain": [
       "GDP_prior(5, 1.0, [1.0, 1.0, 1.0, 1.0], [1.0, 1.0, 1.0, 1.0], 1.0, 1.0, 1.0, 1.0, 1.0)"
      ]
     },
     "execution_count": 3,
     "metadata": {},
     "output_type": "execute_result"
    }
   ],
   "source": [
    "d, Nobs = 5, 100\n",
    "p = 1e-1\n",
    "X = rand(Normal(), d, Nobs) .* rand(Binomial(1,p), d, Nobs)\n",
    "X[1,:] = ones(Nobs)\n",
    "ξ_true = rand(Normal(),d).* rand(Binomial(1,0.5), d)\n",
    "ξ_true[1] = rand(Normal())\n",
    "y = [rand(Binomial(1, 1/(1+exp(-ξ_true'X[:,j]))), 1)[1] + 0. for j in 1:Nobs];\n",
    "mb_size = 10\n",
    "σ02 = 1\n",
    "\n",
    "# prior = HS_prior(d, σ02)\n",
    "prior = GDP_prior(d, σ02)\n",
    "# prior = gaussian_prior_nh(d, σ02)"
   ]
  },
  {
   "cell_type": "code",
   "execution_count": 4,
   "metadata": {
    "collapsed": true
   },
   "outputs": [],
   "source": [
    "my_ll = ll_logistic(X,y);\n",
    "my_model = model(my_ll, prior)\n",
    "root = find_root(my_model, rand(d));"
   ]
  },
  {
   "cell_type": "code",
   "execution_count": 5,
   "metadata": {
    "collapsed": true
   },
   "outputs": [],
   "source": [
    "# Sub-sampling with weights \n",
    "ϵ = 1e-2\n",
    "weights = abs.(X) + ϵ\n",
    "weights ./= sum(weights,2)\n",
    "mb_size = 10;\n",
    "gs = [wumbsampler(Nobs, mb_size, weights[i,:]) for i in 1:d]\n",
    "gs_list = mbsampler_list(d,gs);"
   ]
  },
  {
   "cell_type": "raw",
   "metadata": {},
   "source": [
    "# Sub-Sampling with control variate (and weights)\n",
    "ϵ = 1e-2\n",
    "weights_cv = zeros(d, Nobs)\n",
    "for n in 1:Nobs\n",
    "    weights_cv[:,n] = [abs.(X[i,n])*norm(X[:,n]) for i in 1:d] + ϵ\n",
    "end\n",
    "weights_cv ./= sum(weights_cv,2);mbs = [wumbsampler(Nobs, mb_size, weights_cv[i,:]) for i in 1:d];\n",
    "gs_list = cvmbsampler_list(my_model, mbs, root);"
   ]
  },
  {
   "cell_type": "code",
   "execution_count": 6,
   "metadata": {
    "collapsed": true
   },
   "outputs": [],
   "source": [
    "A = eye(d)\n",
    "opf = projopf(A, 100, hyperparam_size(prior))\n",
    "opt = maxa_opt(10^5)\n",
    "outp = outputscheduler(opf,opt);"
   ]
  },
  {
   "cell_type": "code",
   "execution_count": 7,
   "metadata": {
    "collapsed": true
   },
   "outputs": [],
   "source": [
    "my_zz_sampler = zz_sampler(0, gs_list, linear_bound(my_model.ll, my_model.pr, gs_list))\n",
    "hyper_sampler = block_gibbs_sampler(1.)\n",
    "blocksampler = Array{msampler}(2)\n",
    "blocksampler[1] = my_zz_sampler\n",
    "blocksampler[2] = hyper_sampler;"
   ]
  },
  {
   "cell_type": "code",
   "execution_count": 8,
   "metadata": {
    "scrolled": true
   },
   "outputs": [
    {
     "name": "stdout",
     "output_type": "stream",
     "text": [
      "0.21 mins"
     ]
    }
   ],
   "source": [
    "start = time()\n",
    "ZZ_block_sample(my_model::model, outp::outputscheduler, blocksampler::Array{msampler})\n",
    "print( round((time()-start)/60, 2), \" mins\")"
   ]
  },
  {
   "cell_type": "code",
   "execution_count": 9,
   "metadata": {
    "collapsed": true
   },
   "outputs": [],
   "source": [
    "n_samples = 10^4\n",
    "xi_samples = extract_samples(outp.opf.xi_skeleton, \n",
    "                             outp.opf.bt_skeleton, \n",
    "                             outp.opf.bt_skeleton[end]/n_samples,\n",
    "                             \"linear\");\n",
    "hyper_samples = extract_samples(outp.opf.hyper_skeleton, \n",
    "                                outp.opf.bt_skeleton, \n",
    "                                outp.opf.bt_skeleton[end]/n_samples, \n",
    "                                \"constant\");"
   ]
  },
  {
   "cell_type": "code",
   "execution_count": 10,
   "metadata": {},
   "outputs": [
    {
     "data": {
      "text/plain": [
       "5-element Array{Float64,1}:\n",
       " 0.846718\n",
       " 1.16419 \n",
       " 1.03893 \n",
       " 1.42396 \n",
       " 1.16749 "
      ]
     },
     "execution_count": 10,
     "metadata": {},
     "output_type": "execute_result"
    }
   ],
   "source": [
    "[compute_configT(my_model, xi_samples[:,1:end-1], hyper_samples[:,1:end-1], k) for k in 1:d]"
   ]
  },
  {
   "cell_type": "code",
   "execution_count": null,
   "metadata": {
    "collapsed": true
   },
   "outputs": [],
   "source": []
  }
 ],
 "metadata": {
  "kernelspec": {
   "display_name": "Julia 0.6.4",
   "language": "julia",
   "name": "julia-0.6"
  },
  "language_info": {
   "file_extension": ".jl",
   "mimetype": "application/julia",
   "name": "julia",
   "version": "0.6.4"
  }
 },
 "nbformat": 4,
 "nbformat_minor": 2
}
