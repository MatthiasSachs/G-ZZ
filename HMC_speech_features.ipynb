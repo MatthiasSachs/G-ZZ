{
 "cells": [
  {
   "cell_type": "code",
   "execution_count": 1,
   "metadata": {},
   "outputs": [
    {
     "data": {
      "text/plain": [
       "get_clustering (generic function with 1 method)"
      ]
     },
     "execution_count": 1,
     "metadata": {},
     "output_type": "execute_result"
    }
   ],
   "source": [
    "using Distributions, TimeIt, ProgressMeter, PyPlot, CSV\n",
    "include(\"zz_structures_DuLuSuSe.jl\")\n",
    "include(\"mbsampler.jl\")"
   ]
  },
  {
   "cell_type": "code",
   "execution_count": 2,
   "metadata": {
    "collapsed": true
   },
   "outputs": [],
   "source": [
    "m = CSV.read(\"pd_speech_features.csv\", header=false);"
   ]
  },
  {
   "cell_type": "code",
   "execution_count": 3,
   "metadata": {
    "collapsed": true
   },
   "outputs": [],
   "source": [
    "X = zeros(size(m,1)-2,size(m,2)-2)\n",
    "for i in 3:size(m,1) \n",
    "    for j in 2:size(m,2)-1 \n",
    "        X[i-2,j-1] = parse(m[i,j])\n",
    "    end\n",
    "end\n",
    "mu, sd = vec(mean(X[:,2:end],1)), vec(std(X[:,2:end],1))\n",
    "X_normalised = zeros(size(X))\n",
    "for i in 1:size(X,1) \n",
    "    X_normalised[i,2:end] = (X[i,2:end]-mu)./sd\n",
    "end\n",
    "X_normalised = X_normalised';\n",
    "y = vec([parse(m[i,end]) for i in 3:size(m,1)]);"
   ]
  },
  {
   "cell_type": "code",
   "execution_count": 4,
   "metadata": {
    "collapsed": true
   },
   "outputs": [],
   "source": [
    "d, Nobs = size(X_normalised)\n",
    "σ02 = 1;"
   ]
  },
  {
   "cell_type": "code",
   "execution_count": null,
   "metadata": {
    "collapsed": true
   },
   "outputs": [],
   "source": []
  },
  {
   "cell_type": "code",
   "execution_count": 6,
   "metadata": {
    "collapsed": true
   },
   "outputs": [],
   "source": [
    "prior = SS_prior(d, σ02)\n",
    "my_ll = ll_logistic(X_normalised,y)\n",
    "my_model = model(my_ll, prior);"
   ]
  },
  {
   "cell_type": "code",
   "execution_count": null,
   "metadata": {},
   "outputs": [],
   "source": [
    "ξ0 = zeros(d)\n",
    "epsilon = 3e-5\n",
    "L = 20\n",
    "T = 100\n",
    "\n",
    "xi_samples, hyper_samples, acc = GibbsHMC(my_model, ξ0, epsilon, L, T);"
   ]
  },
  {
   "cell_type": "code",
   "execution_count": null,
   "metadata": {
    "collapsed": true
   },
   "outputs": [],
   "source": [
    "for i in 1:size(xi_samples,1) \n",
    "    plot(acf(xi_samples[i,:], 500))\n",
    "end\n",
    "grid(true)"
   ]
  },
  {
   "cell_type": "code",
   "execution_count": null,
   "metadata": {
    "collapsed": true
   },
   "outputs": [],
   "source": []
  },
  {
   "cell_type": "code",
   "execution_count": null,
   "metadata": {
    "collapsed": true
   },
   "outputs": [],
   "source": []
  }
 ],
 "metadata": {
  "kernelspec": {
   "display_name": "Julia 0.6.4",
   "language": "julia",
   "name": "julia-0.6"
  },
  "language_info": {
   "file_extension": ".jl",
   "mimetype": "application/julia",
   "name": "julia",
   "version": "0.6.4"
  }
 },
 "nbformat": 4,
 "nbformat_minor": 2
}
