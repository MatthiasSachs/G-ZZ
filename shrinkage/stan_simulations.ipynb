{
 "cells": [
  {
   "cell_type": "code",
   "execution_count": 1,
   "metadata": {
    "collapsed": true
   },
   "outputs": [],
   "source": [
    "import numpy as np, pystan as ps, numpy.random as npr, matplotlib.pyplot as plt, h5py\n",
    "%matplotlib inline \n",
    "from time import time\n",
    "from pylab import plot, show, legend\n",
    "from stan_temp import *"
   ]
  },
  {
   "cell_type": "markdown",
   "metadata": {},
   "source": [
    "#### Compile Stan code:"
   ]
  },
  {
   "cell_type": "code",
   "execution_count": 2,
   "metadata": {},
   "outputs": [
    {
     "name": "stderr",
     "output_type": "stream",
     "text": [
      "INFO:pystan:COMPILING THE C++ CODE FOR MODEL anon_model_bf1f70352a45ebcc131d582eff912e1a NOW.\n",
      "INFO:pystan:COMPILING THE C++ CODE FOR MODEL anon_model_5218e2900be47b3d461b8ba25a5dd4f5 NOW.\n"
     ]
    }
   ],
   "source": [
    "sm_gdP = ps.StanModel(file=\"gdP_logistic.stan\") \n",
    "sm_HS = ps.StanModel(file=\"horseshoe_logistic.stan\") "
   ]
  },
  {
   "cell_type": "code",
   "execution_count": 3,
   "metadata": {
    "collapsed": true
   },
   "outputs": [],
   "source": [
    "xi_samples_HS, cover_HS, ci_HS = [], [], []\n",
    "xi_samples_gdP, cover_gdP, ci_gdP = [], [], []\n",
    "dat_files = [\"GZZ_data1.jld\", \"GZZ_data2.jld\", \"GZZ_data3.jld\", \"GZZ_data4.jld\", \"GZZ_data5.jld\"]\n",
    "n_iter = 2500\n",
    "n_chains = 4"
   ]
  },
  {
   "cell_type": "markdown",
   "metadata": {},
   "source": [
    "#### Run HMC with Stan:"
   ]
  },
  {
   "cell_type": "code",
   "execution_count": 4,
   "metadata": {
    "collapsed": true
   },
   "outputs": [],
   "source": [
    "control = dict(stepsize=1e-3, int_time=1e0, adapt_engaged=False) "
   ]
  },
  {
   "cell_type": "code",
   "execution_count": 5,
   "metadata": {
    "scrolled": true
   },
   "outputs": [
    {
     "name": "stderr",
     "output_type": "stream",
     "text": [
      "WARNING:pystan:Rhat above 1.1 or below 0.9 indicates that the chains very likely have not mixed\n",
      "WARNING:pystan:Skipping check of divergent transitions (divergence)\n",
      "WARNING:pystan:Skipping check of transitions ending prematurely due to maximum tree depth limit (treedepth)\n",
      "WARNING:pystan:Chain 1: E-BFMI = 0.195\n",
      "WARNING:pystan:Chain 3: E-BFMI = 0.164\n",
      "WARNING:pystan:Chain 4: E-BFMI = 0.153\n",
      "WARNING:pystan:E-BFMI below 0.2 indicates you may need to reparameterize your model\n",
      "WARNING:pystan:Rhat above 1.1 or below 0.9 indicates that the chains very likely have not mixed\n",
      "WARNING:pystan:Skipping check of divergent transitions (divergence)\n",
      "WARNING:pystan:Skipping check of transitions ending prematurely due to maximum tree depth limit (treedepth)\n",
      "WARNING:pystan:Skipping check of divergent transitions (divergence)\n",
      "WARNING:pystan:Skipping check of transitions ending prematurely due to maximum tree depth limit (treedepth)\n",
      "WARNING:pystan:Rhat above 1.1 or below 0.9 indicates that the chains very likely have not mixed\n",
      "WARNING:pystan:Skipping check of divergent transitions (divergence)\n",
      "WARNING:pystan:Skipping check of transitions ending prematurely due to maximum tree depth limit (treedepth)\n",
      "WARNING:pystan:Rhat above 1.1 or below 0.9 indicates that the chains very likely have not mixed\n",
      "WARNING:pystan:Skipping check of divergent transitions (divergence)\n",
      "WARNING:pystan:Skipping check of transitions ending prematurely due to maximum tree depth limit (treedepth)\n",
      "WARNING:pystan:Rhat above 1.1 or below 0.9 indicates that the chains very likely have not mixed\n",
      "WARNING:pystan:Skipping check of divergent transitions (divergence)\n",
      "WARNING:pystan:Skipping check of transitions ending prematurely due to maximum tree depth limit (treedepth)\n",
      "WARNING:pystan:Chain 3: E-BFMI = 0.175\n",
      "WARNING:pystan:E-BFMI below 0.2 indicates you may need to reparameterize your model\n",
      "WARNING:pystan:Skipping check of divergent transitions (divergence)\n",
      "WARNING:pystan:Skipping check of transitions ending prematurely due to maximum tree depth limit (treedepth)\n",
      "WARNING:pystan:Rhat above 1.1 or below 0.9 indicates that the chains very likely have not mixed\n",
      "WARNING:pystan:Skipping check of divergent transitions (divergence)\n",
      "WARNING:pystan:Skipping check of transitions ending prematurely due to maximum tree depth limit (treedepth)\n",
      "WARNING:pystan:Rhat above 1.1 or below 0.9 indicates that the chains very likely have not mixed\n",
      "WARNING:pystan:Skipping check of divergent transitions (divergence)\n",
      "WARNING:pystan:Skipping check of transitions ending prematurely due to maximum tree depth limit (treedepth)\n",
      "WARNING:pystan:Rhat above 1.1 or below 0.9 indicates that the chains very likely have not mixed\n",
      "WARNING:pystan:Skipping check of divergent transitions (divergence)\n",
      "WARNING:pystan:Skipping check of transitions ending prematurely due to maximum tree depth limit (treedepth)\n"
     ]
    },
    {
     "name": "stdout",
     "output_type": "stream",
     "text": [
      "Total time:  207.17  min\n"
     ]
    }
   ],
   "source": [
    "start = time()\n",
    "for i in range(len(dat_files)) : \n",
    "    # horseshoe prior:\n",
    "    xi_samples, cover, ci = run_HMC(dat_files[i], sm_HS, n_iter, n_chains, control)\n",
    "    xi_samples_HS.append(xi_samples)\n",
    "    cover_HS.append(cover)\n",
    "    ci_HS.append(ci)\n",
    "    \n",
    "    # generalised double Pareto prior:\n",
    "    xi_samples, cover, ci = run_HMC(dat_files[i], sm_gdP, n_iter, n_chains, control)\n",
    "    xi_samples_gdP.append(xi_samples)\n",
    "    cover_gdP.append(cover)\n",
    "    ci_gdP.append(ci)\n",
    "print(\"Total time: \", round((time()-start)/60,2), \" min\")"
   ]
  },
  {
   "cell_type": "markdown",
   "metadata": {},
   "source": [
    "#### Coverage:"
   ]
  },
  {
   "cell_type": "code",
   "execution_count": 6,
   "metadata": {},
   "outputs": [
    {
     "name": "stdout",
     "output_type": "stream",
     "text": [
      "coverage for HS and GDP = 98.0, 98.0 percent.\n",
      "coverage for HS and GDP = 95.0, 96.0 percent.\n",
      "coverage for HS and GDP = 98.66666666666667, 99.33333333333333 percent.\n",
      "coverage for HS and GDP = 100.0, 100.0 percent.\n",
      "coverage for HS and GDP = 98.4, 98.8 percent.\n"
     ]
    }
   ],
   "source": [
    "for i in range(len(dat_files)) : \n",
    "    print(\"coverage for HS and GDP = {}, {} percent.\".format(100*np.mean(cover_HS[i]), \n",
    "                                                             100*np.mean(cover_gdP[i])))"
   ]
  },
  {
   "cell_type": "markdown",
   "metadata": {},
   "source": [
    "#### Save data:"
   ]
  },
  {
   "cell_type": "code",
   "execution_count": 42,
   "metadata": {
    "collapsed": true
   },
   "outputs": [],
   "source": [
    "HS_results_stan = dict(xi_samples=xi_samples_HS, cover=cover_HS, ci=ci_HS)\n",
    "gdP_results_stan = dict(xi_samples=xi_samples_gdP, cover=cover_gdP, ci=ci_gdP)\n",
    "np.save(\"HS_results_stan.npy\", HS_results_stan) \n",
    "np.save(\"gdP_results_stan.npy\", gdP_results_stan) "
   ]
  },
  {
   "cell_type": "code",
   "execution_count": 9,
   "metadata": {},
   "outputs": [
    {
     "data": {
      "text/plain": [
       "(100, 2)"
      ]
     },
     "execution_count": 9,
     "metadata": {},
     "output_type": "execute_result"
    }
   ],
   "source": [
    "np.shape(ci_HS[1])"
   ]
  },
  {
   "cell_type": "markdown",
   "metadata": {},
   "source": [
    "#### Compare with GZZ:"
   ]
  },
  {
   "cell_type": "code",
   "execution_count": null,
   "metadata": {
    "collapsed": true
   },
   "outputs": [],
   "source": []
  },
  {
   "cell_type": "code",
   "execution_count": null,
   "metadata": {
    "collapsed": true
   },
   "outputs": [],
   "source": []
  },
  {
   "cell_type": "code",
   "execution_count": 36,
   "metadata": {},
   "outputs": [
    {
     "data": {
      "image/png": "[encoded data removed]",
      "text/plain": [
       "<Figure size 1224x360 with 1 Axes>"
      ]
     },
     "metadata": {},
     "output_type": "display_data"
    },
    {
     "data": {
      "image/png": "[encoded data removed]",
      "text/plain": [
       "<Figure size 1224x360 with 1 Axes>"
      ]
     },
     "metadata": {},
     "output_type": "display_data"
    }
   ],
   "source": [
    "fig= plt.figure(figsize=(17,5))\n",
    "k = 3\n",
    "data = h5py.File(\"GZZ_data\"+str(k+1)+\".jld\", \"r\")\n",
    "ξ_true = data[\"xi_true\"].value\n",
    "\n",
    "for i in range(np.shape(ci_gdP[k])[0]) :\n",
    "    plt.plot([i+1,i+1], ci_gdP[k][i], color=\"blue\", lw=1.5)\n",
    "plt.plot(np.arange(1,np.shape(ci_gdP[k])[0]+1), ξ_true, \"ro\", markersize=4)\n",
    "plt.grid(True)\n",
    "plt.show()\n",
    "\n",
    "fig= plt.figure(figsize=(17,5))\n",
    "for i in range(np.shape(ci_HS[k])[0]) :\n",
    "    plt.plot([i+1,i+1], ci_HS[k][i], color=\"blue\", lw=1.5)\n",
    "plt.plot(np.arange(1,np.shape(ci_HS[k])[0]+1), ξ_true, \"ro\", markersize=4)\n",
    "plt.grid(True)"
   ]
  },
  {
   "cell_type": "code",
   "execution_count": null,
   "metadata": {
    "collapsed": true
   },
   "outputs": [],
   "source": []
  }
 ],
 "metadata": {
  "kernelspec": {
   "display_name": "Python 3",
   "language": "python",
   "name": "python3"
  },
  "language_info": {
   "codemirror_mode": {
    "name": "ipython",
    "version": 3
   },
   "file_extension": ".py",
   "mimetype": "text/x-python",
   "name": "python",
   "nbconvert_exporter": "python",
   "pygments_lexer": "ipython3",
   "version": "3.6.2"
  }
 },
 "nbformat": 4,
 "nbformat_minor": 2
}
