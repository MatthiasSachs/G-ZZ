{
 "cells": [
  {
   "cell_type": "code",
   "execution_count": 1,
   "metadata": {
    "collapsed": true
   },
   "outputs": [],
   "source": [
    "using Distributions, TimeIt, ProgressMeter, PyPlot, JLD\n",
    "include(\"zz_structures_DuLuSuSe.jl\")\n",
    "include(\"mbsampler.jl\")\n",
    "include(\"polyagamma.jl\");"
   ]
  },
  {
   "cell_type": "markdown",
   "metadata": {},
   "source": [
    "#### Load data:"
   ]
  },
  {
   "cell_type": "raw",
   "metadata": {
    "collapsed": true
   },
   "source": [
    "dat = \"data/GZZ_data3.jld\"\n",
    "X = load(dat, \"X\")\n",
    "y = load(dat, \"y\")\n",
    "ξ_true = load(dat, \"xi_true\");\n",
    "\n",
    "d, Nobs = size(X)\n",
    "mb_size = Int(round(Nobs/5));"
   ]
  },
  {
   "cell_type": "code",
   "execution_count": 2,
   "metadata": {
    "collapsed": true
   },
   "outputs": [],
   "source": [
    "d, Nobs = 10_000, 12_000\n",
    "X = sprandn(d, Nobs, 1e-2)\n",
    "ξ_true = 3*sprandn(d, 1e-2)\n",
    "ξ_true[1] = 3*randn()\n",
    "y = [rand(Binomial(1, 1/(1+exp(-X[:,n]'ξ_true)))) for n in 1:Nobs];"
   ]
  },
  {
   "cell_type": "markdown",
   "metadata": {},
   "source": [
    "#### Define prior:"
   ]
  },
  {
   "cell_type": "code",
   "execution_count": 3,
   "metadata": {
    "collapsed": true
   },
   "outputs": [],
   "source": [
    "σ02 = 1\n",
    "prior = SS_prior(d, σ02);\n",
    "# prior = gaussian_prior_nh(d, σ02);"
   ]
  },
  {
   "cell_type": "markdown",
   "metadata": {},
   "source": [
    "#### Define model:"
   ]
  },
  {
   "cell_type": "code",
   "execution_count": 4,
   "metadata": {
    "collapsed": true
   },
   "outputs": [],
   "source": [
    "my_ll = ll_logistic_sp(X,y);\n",
    "my_model = model(my_ll, prior);"
   ]
  },
  {
   "cell_type": "markdown",
   "metadata": {},
   "source": [
    "#### Define minibatch sampler:"
   ]
  },
  {
   "cell_type": "code",
   "execution_count": 5,
   "metadata": {},
   "outputs": [
    {
     "ename": "LoadError",
     "evalue": "\u001b[91mInterruptException:\u001b[39m",
     "output_type": "error",
     "traceback": [
      "\u001b[91mInterruptException:\u001b[39m",
      "",
      "Stacktrace:",
      " [1] \u001b[1mtypeinf_code\u001b[22m\u001b[22m\u001b[1m(\u001b[22m\u001b[22m::Core.MethodInstance, ::Bool, ::Bool, ::Core.Inference.InferenceParams\u001b[1m)\u001b[22m\u001b[22m at \u001b[1m./inference.jl:2584\u001b[22m\u001b[22m",
      " [2] \u001b[1mtypeinf_ext\u001b[22m\u001b[22m\u001b[1m(\u001b[22m\u001b[22m::Core.MethodInstance, ::UInt64\u001b[1m)\u001b[22m\u001b[22m at \u001b[1m./inference.jl:2622\u001b[22m\u001b[22m",
      " [3] \u001b[1mmacro expansion\u001b[22m\u001b[22m at \u001b[1m./In[5]:5\u001b[22m\u001b[22m [inlined]",
      " [4] \u001b[1mmacro expansion\u001b[22m\u001b[22m at \u001b[1m/home/postdoc/dsen/.julia/v0.6/ProgressMeter/src/ProgressMeter.jl:483\u001b[22m\u001b[22m [inlined]",
      " [5] \u001b[1manonymous\u001b[22m\u001b[22m at \u001b[1m./<missing>:?\u001b[22m\u001b[22m",
      " [6] \u001b[1minclude_string\u001b[22m\u001b[22m\u001b[1m(\u001b[22m\u001b[22m::String, ::String\u001b[1m)\u001b[22m\u001b[22m at \u001b[1m./loading.jl:522\u001b[22m\u001b[22m"
     ]
    }
   ],
   "source": [
    "mb_size = 200\n",
    "weights_het = spzeros(d, Nobs)\n",
    "@showprogress for i in 1:d \n",
    "    nzind = X[i,:].nzind\n",
    "    weights_het[i,nzind] = abs.(X[i,nzind])./sum(abs.(X[i,nzind]))\n",
    "end\n",
    "\n",
    "prob_het = 0.98\n",
    "gs = Array{mbsampler}(d)\n",
    "gs[1] = umbsampler(Nobs, mb_size)\n",
    "@showprogress for i in 2:d \n",
    "    gs[i] = spwumbsampler(Nobs, mb_size, weights_het[i,:], prob_het)\n",
    "end\n",
    "gs_list = mbsampler_list(d,gs);"
   ]
  },
  {
   "cell_type": "raw",
   "metadata": {
    "collapsed": true
   },
   "source": [
    "# Sub-Sampling without control variate and with weights\n",
    "ϵ = 1e-2\n",
    "weights = abs.(X) + ϵ\n",
    "weights ./= sum(weights,2)\n",
    "gs = [wumbsampler(Nobs, mb_size, weights[i,:]) for i in 1:d]\n",
    "gs_list = mbsampler_list(d,gs);"
   ]
  },
  {
   "cell_type": "raw",
   "metadata": {},
   "source": [
    "# Sub-Sampling with control variate and with weights\n",
    "ϵ = 1e-2\n",
    "weights_cv = zeros(d, Nobs)\n",
    "for n in 1:Nobs\n",
    "    weights_cv[:,n] = [abs.(X[i,n])*norm(X[:,n]) for i in 1:d] + ϵ\n",
    "end\n",
    "weights_cv ./= sum(weights_cv,2);mbs = [wumbsampler(Nobs, mb_size, weights_cv[i,:]) for i in 1:d];\n",
    "gs_list = cvmbsampler_list(my_model, mbs, root);"
   ]
  },
  {
   "cell_type": "markdown",
   "metadata": {},
   "source": [
    "#### Define output timer:"
   ]
  },
  {
   "cell_type": "code",
   "execution_count": 6,
   "metadata": {
    "collapsed": true
   },
   "outputs": [],
   "source": [
    "opt = maxa_opt(10^5)\n",
    "bb = linear_bound(my_model.ll, my_model.pr, gs_list)\n",
    "mstate = zz_state(d)\n",
    "update_bound(bb, my_ll, prior, gs_list, mstate);"
   ]
  },
  {
   "cell_type": "code",
   "execution_count": 7,
   "metadata": {
    "collapsed": true
   },
   "outputs": [],
   "source": [
    "h = 1e-4\n",
    "xi_samples = zz_samples(mstate, h) \n",
    "pr_samples = hyp_samples(prior, h);"
   ]
  },
  {
   "cell_type": "markdown",
   "metadata": {},
   "source": [
    "#### Define mbsampler + block Gibbs sampler list:"
   ]
  },
  {
   "cell_type": "code",
   "execution_count": 8,
   "metadata": {
    "collapsed": true
   },
   "outputs": [],
   "source": [
    "adapt_speed = \"by_var\" \n",
    "L = 1\n",
    "my_zz_sampler = zz_sampler(0, gs_list, bb, L, adapt_speed)\n",
    "hyper_sampler = block_gibbs_sampler(1e4)\n",
    "blocksampler = Array{msampler}(2)\n",
    "blocksampler[1] = my_zz_sampler\n",
    "blocksampler[2] = hyper_sampler;"
   ]
  },
  {
   "cell_type": "markdown",
   "metadata": {},
   "source": [
    "#### Run sampler:"
   ]
  },
  {
   "cell_type": "code",
   "execution_count": 9,
   "metadata": {},
   "outputs": [
    {
     "name": "stdout",
     "output_type": "stream",
     "text": [
      "10% attempts in 0.68 mins, zz bounces = 1978, hyp bounces = 82, samples extracted = 81\n",
      "20% attempts in 1.87 mins, zz bounces = 4599, hyp bounces = 156, samples extracted = 152\n",
      "30% attempts in 3.46 mins, zz bounces = 6815, hyp bounces = 215, samples extracted = 223\n",
      "40% attempts in 5.58 mins, zz bounces = 8590, hyp bounces = 284, samples extracted = 296\n",
      "50% attempts in 8.22 mins, zz bounces = 10130, hyp bounces = 357, samples extracted = 369\n",
      "60% attempts in 11.28 mins, zz bounces = 11453, hyp bounces = 434, samples extracted = 443\n",
      "70% attempts in 14.63 mins, zz bounces = 12742, hyp bounces = 518, samples extracted = 517\n",
      "80% attempts in 17.45 mins, zz bounces = 14109, hyp bounces = 584, samples extracted = 591\n",
      "90% attempts in 20.57 mins, zz bounces = 15557, hyp bounces = 660, samples extracted = 667\n",
      "100% attempts in 24.01 mins, zz bounces = 16992, hyp bounces = 737, samples extracted = 741\n"
     ]
    }
   ],
   "source": [
    "ZZ_block_sample_discrete(my_model, opt, blocksampler, mstate, xi_samples, pr_samples)"
   ]
  },
  {
   "cell_type": "markdown",
   "metadata": {},
   "source": [
    "* Number of bounces:"
   ]
  },
  {
   "cell_type": "code",
   "execution_count": 19,
   "metadata": {},
   "outputs": [
    {
     "name": "stdout",
     "output_type": "stream",
     "text": [
      "150304 zz bounces \n",
      "11134 hyper bouncesNumber of xi samples drawn = 2219"
     ]
    }
   ],
   "source": [
    "print(sum(mstate.n_bounces), \" zz bounces \\n\")\n",
    "print(hyper_sampler.nbounces, \" hyper bounces \\n\")\n",
    "print(\"Number of xi samples drawn = \", size(xi_samples.samples,2))"
   ]
  },
  {
   "cell_type": "markdown",
   "metadata": {},
   "source": [
    "## Note: discard some initial burn-in samples."
   ]
  },
  {
   "cell_type": "markdown",
   "metadata": {},
   "source": [
    "#### Posterior coverage:"
   ]
  },
  {
   "cell_type": "code",
   "execution_count": null,
   "metadata": {
    "collapsed": true
   },
   "outputs": [],
   "source": [
    "cover_gzz = zeros(d)\n",
    "ci_gzz = zeros(d,2)\n",
    "for i in 1:d \n",
    "    ci_gzz[i,:] = percentile(xi_samples.samples[i,:], [2.5, 97.5])\n",
    "    cover_gzz[i] = (ci_gzz[i,1]<ξ_true[i])&(ξ_true[i]<ci_gzz[i,2])\n",
    "end\n",
    "print(100*mean(cover_gzz))"
   ]
  },
  {
   "cell_type": "raw",
   "metadata": {},
   "source": [
    "fig = figure(\"pyplot_barplot\",figsize=(12,3))\n",
    "for i in 1:d\n",
    "    plot([i,i], ci[i,:], color=\"blue\", linewidth=1)\n",
    "end\n",
    "plot(1:d , ξ_true, \"o\", markersize=4, color=\"red\", markersize=1)\n",
    "grid(true)\n",
    "xlabel(\"Dimension\")\n",
    "ylabel(\"CI\")\n",
    "title(\"90% confidence intervals\");"
   ]
  },
  {
   "cell_type": "code",
   "execution_count": null,
   "metadata": {
    "collapsed": true
   },
   "outputs": [],
   "source": [
    "post_mean_gzz = mean(xi_samples.samples,2)\n",
    "post_median_gzz = median(xi_samples.samples,2);"
   ]
  },
  {
   "cell_type": "code",
   "execution_count": null,
   "metadata": {
    "collapsed": true
   },
   "outputs": [],
   "source": [
    "fig = figure(figsize=(12,3))\n",
    "plot(sort(abs.(ξ_true.nzval), rev=true), \"o-\", markersize=3, label=\"true signal\")\n",
    "plot(sort(vec(abs.(post_mean_gzz)), rev=true)[1:50], \"o-\", markersize=3, label=\"posterior mean\")\n",
    "plot(sort(vec(abs.(post_median_gzz)), rev=true)[1:50], \"o-\", markersize=3, label=\"posterior median\")\n",
    "grid(true)\n",
    "title(\"Gibbs zig-zag sampler\")\n",
    "legend(ncol=3);"
   ]
  },
  {
   "cell_type": "code",
   "execution_count": null,
   "metadata": {
    "collapsed": true
   },
   "outputs": [],
   "source": []
  },
  {
   "cell_type": "code",
   "execution_count": null,
   "metadata": {
    "collapsed": true
   },
   "outputs": [],
   "source": []
  }
 ],
 "metadata": {
  "kernelspec": {
   "display_name": "Julia 0.6.4",
   "language": "julia",
   "name": "julia-0.6"
  },
  "language_info": {
   "file_extension": ".jl",
   "mimetype": "application/julia",
   "name": "julia",
   "version": "0.6.4"
  }
 },
 "nbformat": 4,
 "nbformat_minor": 2
}
