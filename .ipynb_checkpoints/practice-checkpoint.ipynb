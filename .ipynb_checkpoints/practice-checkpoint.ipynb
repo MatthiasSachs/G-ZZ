{
 "cells": [
  {
   "cell_type": "code",
   "execution_count": 1,
   "metadata": {},
   "outputs": [
    {
     "data": {
      "text/plain": [
       "pos (generic function with 1 method)"
      ]
     },
     "execution_count": 1,
     "metadata": {},
     "output_type": "execute_result"
    }
   ],
   "source": [
    "using Distributions, StatsBase, ProgressMeter\n",
    "include(\"general_functions.jl\")\n",
    "pos(x) = max(0,x)"
   ]
  },
  {
   "cell_type": "code",
   "execution_count": 2,
   "metadata": {},
   "outputs": [
    {
     "data": {
      "text/plain": [
       "derivative_gaussian_prior (generic function with 1 method)"
      ]
     },
     "execution_count": 2,
     "metadata": {},
     "output_type": "execute_result"
    }
   ],
   "source": [
    "\"\"\" \n",
    "Unbiased estimator of derivative of loglikelihood based on minibatch.\n",
    "The derivative is a sum.\n",
    "Weights have to sum to 1.\n",
    "\"\"\"\n",
    "\n",
    "#\"No weights\"\n",
    "\n",
    "function derivative_ll(X::Array{Float64}, \n",
    "                       y::Array{Int64}, \n",
    "                       ξ::Array{Float64}, \n",
    "                       dim::Int64, \n",
    "                       mb::Array{Int64})  \n",
    "    ξ = reshape(ξ, 1, length(ξ))\n",
    "    mean(X[dim,mb].*(reshape(exp.(ξ*X[:,mb])./(1+exp.(ξ*X[:,mb])), length(mb), ) - y[mb]))*size(X,2)\n",
    "end\n",
    "\n",
    "function derivative_ll(X::Array{Float64}, \n",
    "                       y::Array{Int64}, \n",
    "                       ξ::Array{Float64}, \n",
    "                       dim::Int64, \n",
    "                       mb::Array{Int64},\n",
    "                       weights::Array{Float64})  \n",
    "    for dim in 1:length(ξ) \n",
    "        @assert abs(1 - sum(weights[dim,:])) < 1e-7\n",
    "    end\n",
    "    ξ = reshape(ξ, 1, length(ξ))\n",
    "    w = weights[dim,:]\n",
    "    mean(X[dim,mb].*(reshape(exp.(ξ*X[:,mb])./(1+exp.(ξ*X[:,mb])), length(mb), ) - y[mb])./w[mb])\n",
    "end\n",
    "\n",
    "function derivative_gaussian_prior(ξ::Array{Float64}, \n",
    "                                   dim::Int64, \n",
    "                                   σ::Float64) \n",
    "    return ξ[dim]/σ^2\n",
    "end"
   ]
  },
  {
   "cell_type": "code",
   "execution_count": 3,
   "metadata": {},
   "outputs": [
    {
     "data": {
      "text/plain": [
       "compute_configT (generic function with 1 method)"
      ]
     },
     "execution_count": 3,
     "metadata": {},
     "output_type": "execute_result"
    }
   ],
   "source": [
    "function compute_configT(samples, k, X, y, Nobs, σ)\n",
    "    d, Nobs = size(X) \n",
    "    n_samples = size(samples,2)\n",
    "    configT = 0.0\n",
    "    for j in 1:n_samples\n",
    "        configT += samples[k,j]*(derivative_ll(X, y, samples[:,j], dim, Array(1:Nobs)) \n",
    "                                 + derivative_gaussian_prior(samples[:,j], dim, σ)) \n",
    "    end\n",
    "    return configT/n_samples\n",
    "end"
   ]
  },
  {
   "cell_type": "code",
   "execution_count": 5,
   "metadata": {},
   "outputs": [
    {
     "data": {
      "text/plain": [
       "rate (generic function with 2 methods)"
      ]
     },
     "execution_count": 5,
     "metadata": {},
     "output_type": "execute_result"
    }
   ],
   "source": [
    "\"\"\"Rate without weights:\"\"\"\n",
    "\n",
    "function rate(X::Array{Float64}, \n",
    "              y::Array{Int64}, \n",
    "              ξ::Array{Float64},\n",
    "              dim::Int64, \n",
    "              mb_size::Int64, \n",
    "              θ::Array{Float64}, \n",
    "              root::Array{Float64}, \n",
    "              gradient_root::Array{Float64},\n",
    "              replace::Bool,\n",
    "              cv::Bool,\n",
    "              weights::Void)\n",
    "    d, Nobs = size(X)\n",
    "    mb = sample(1:Nobs, mb_size; replace=replace)     \n",
    "    if cv \n",
    "        rate_ξ = derivative_ll(X, y, ξ, dim, mb)\n",
    "        rate_root = derivative_ll(X, y, root, dim, mb) \n",
    "        rate_ = pos(θ[dim]*(gradient_root[dim] + rate_ξ - rate_root))\n",
    "    else\n",
    "        rate_ = pos(θ[dim]*(derivative_ll(X, y, ξ, dim, mb) \n",
    "                           + derivative_gaussian_prior(ξ, dim, σ)))\n",
    "    end\n",
    "    return rate_\n",
    "end\n",
    "\n",
    "\n",
    "function rate(X::Array{Float64}, \n",
    "              y::Array{Int64}, \n",
    "              ξ::Array{Float64},\n",
    "              dim::Int64, \n",
    "              mb_size::Int64, \n",
    "              θ::Array{Float64}, \n",
    "              root::Array{Float64}, \n",
    "              gradient_root::Array{Float64},\n",
    "              replace::Bool,\n",
    "              cv::Bool,\n",
    "              weights::Array{Float64})\n",
    "    d, Nobs = size(X)\n",
    "    for dim in 1:d \n",
    "        @assert abs(1 - sum(weights[dim,:])) < 1e-7\n",
    "    end\n",
    "    mb = wsample(1:Nobs, Weights(weights[dim,:]), mb_size; replace=replace)           \n",
    "    if cv \n",
    "        # fix this: \n",
    "        rate_ξ = derivative_ll(X, y, ξ, dim, mb, weights)\n",
    "        rate_root = derivative_ll(X, y, root, dim, mb, weights) \n",
    "        rate_ = pos(θ[dim]*(gradient_root[dim] + rate_ξ - rate_root))\n",
    "    else \n",
    "        rate_ = (pos(θ[dim]*derivative_ll(X, y, ξ, dim, mb, weights)) \n",
    "                     + pos(θ[dim]*derivative_gaussian_prior(ξ, dim, σ)))\n",
    "    end\n",
    "    return rate_\n",
    "end"
   ]
  },
  {
   "cell_type": "code",
   "execution_count": 13,
   "metadata": {},
   "outputs": [
    {
     "name": "stdout",
     "output_type": "stream",
     "text": [
      "13.211711632782393\n",
      "9.691227520745723\n",
      "0.0\n",
      "0.0\n"
     ]
    }
   ],
   "source": [
    "print(rate(X,y,ξ,dim,mb_size,θ,root,gradient_root,true,true,weights), \"\\n\")\n",
    "print(rate(X,y,ξ,dim,mb_size,θ,root,gradient_root,true,false,weights), \"\\n\")\n",
    "print(rate(X,y,ξ,dim,mb_size,θ,root,gradient_root,true,true,nothing), \"\\n\")\n",
    "print(rate(X,y,ξ,dim,mb_size,θ,root,gradient_root,true,false,nothing), \"\\n\")"
   ]
  },
  {
   "cell_type": "code",
   "execution_count": 14,
   "metadata": {},
   "outputs": [
    {
     "data": {
      "text/plain": [
       "bounds (generic function with 2 methods)"
      ]
     },
     "execution_count": 14,
     "metadata": {},
     "output_type": "execute_result"
    }
   ],
   "source": [
    "\"\"\" Bounds \"\"\"\n",
    "\n",
    "function bounds(X::Array{Float64,2},\n",
    "                cv::Bool,\n",
    "                weights::Void) \n",
    "    d, Nobs = size(X) \n",
    "    if cv \n",
    "        lipschitz_constants = zeros(d,N)\n",
    "        for n in 1:Nobs\n",
    "            lipschitz_constants[:,n] = 1/4*[abs.(X[i,n])*norm(X[:,n]) for i in 1:d]\n",
    "        end\n",
    "        return Nobs*(maximum(lipschitz_constants, 2))\n",
    "    else\n",
    "        return Nobs*(maximum(abs.(X), 2))\n",
    "    end\n",
    "end\n",
    "\n",
    "function bounds(X::Array{Float64},\n",
    "                cv::Bool,\n",
    "                weights::Array{Float64})\n",
    "#     @assert sum(weights) == 1\n",
    "    d, Nobs = size(X) \n",
    "    if cv \n",
    "        lipschitz_constants = zeros(d,N)\n",
    "        for n in 1:Nobs\n",
    "            lipschitz_constants[:,n] = 1/4*[abs.(X[i,n])*norm(X[:,n]) for i in 1:d]\n",
    "        end\n",
    "        return maximum(lipschitz_constants./weights, 2)\n",
    "    else\n",
    "        return maximum(abs.(X./weights),2)\n",
    "    end\n",
    "end"
   ]
  },
  {
   "cell_type": "code",
   "execution_count": 18,
   "metadata": {},
   "outputs": [
    {
     "name": "stdout",
     "output_type": "stream",
     "text": [
      "[100.0; 88.0; 78.0; 80.0; 83.0; 68.0; 78.0; 83.0; 75.0; 74.0]\n",
      "[100.0; 229.0; 268.0; 227.0; 304.0; 309.0; 221.0; 251.0; 234.0; 273.0]\n",
      "[123.0; 109.0; 97.0; 99.0; 103.0; 84.0; 96.0; 102.0; 93.0; 92.0]\n",
      "[123.0; 238.0; 261.0; 203.0; 356.0; 311.0; 259.0; 310.0; 192.0; 267.0]\n"
     ]
    }
   ],
   "source": [
    "print( round.(bounds(X,false,weights)), \"\\n\")\n",
    "print( round.(bounds(X,false,nothing)), \"\\n\")\n",
    "print( round.(bounds(X,true,weights)), \"\\n\")\n",
    "print( round.(bounds(X,true,nothing)), \"\\n\")"
   ]
  },
  {
   "cell_type": "code",
   "execution_count": 19,
   "metadata": {},
   "outputs": [
    {
     "data": {
      "text/plain": [
       "get_ab (generic function with 1 method)"
      ]
     },
     "execution_count": 19,
     "metadata": {},
     "output_type": "execute_result"
    }
   ],
   "source": [
    "function get_ab(θ::Array{Float64}, \n",
    "                bound::Array{Float64}, \n",
    "                σ::Float64, \n",
    "                ξ::Array{Float64}, \n",
    "                root::Array{Float64}, \n",
    "                gradient_root::Array{Float64},\n",
    "                cv::Bool)\n",
    "    d = length(ξ)\n",
    "    if cv \n",
    "        a = [pos((θ[i]*gradient_root[i])[1]) + (bound[i]+1/σ^2)*norm(ξ-root) for i in 1:d]\n",
    "        b = √d*(bound + 1/σ^2)\n",
    "        else round\n",
    "        a = bound + abs.(ξ)/σ^2 \n",
    "        b = ones(d)/σ^2\n",
    "    end\n",
    "    return a, b\n",
    "end"
   ]
  },
  {
   "cell_type": "code",
   "execution_count": 20,
   "metadata": {
    "collapsed": true
   },
   "outputs": [],
   "source": [
    "bound = bounds(X,true,nothing);"
   ]
  },
  {
   "cell_type": "code",
   "execution_count": 26,
   "metadata": {},
   "outputs": [
    {
     "data": {
      "text/plain": [
       "ZZ_logistic (generic function with 2 methods)"
      ]
     },
     "execution_count": 26,
     "metadata": {},
     "output_type": "execute_result"
    }
   ],
   "source": [
    "function ZZ_logistic(X, y, max_attempts, ξ0, mb_size, root, σ, A, weights, replace, cv)\n",
    "\n",
    "    d, Nobs = size(X) \n",
    "    m = size(A,1)\n",
    "    if weights != nothing \n",
    "        for i in 1:d \n",
    "            @assert abs.(1-sum(weights[i,:]) < 1e-7)\n",
    "        end\n",
    "    end\n",
    "    \n",
    "    # Initialise everything:\n",
    "    bouncing_times = []\n",
    "    push!(bouncing_times, 0.)\n",
    "    skeleton_points = zeros(m, 1000)\n",
    "    skeleton_points[:,1] = A*copy(ξ0)\n",
    "    ξ = copy(ξ0)\n",
    "    θ = 2rand(Binomial(),d)-1.\n",
    "    t, switches = 0, 0\n",
    "    \n",
    "    gradient_root = [derivative_ll(X, y, root, dim, Array(1:Nobs)) + derivative_gaussian_prior(root, dim, σ)  \n",
    "                     for dim in 1:d]\n",
    "    bound = bounds(X, cv, weights)\n",
    "    \n",
    "    # run sampler:\n",
    "    @showprogress for attempt in 1:max_attempts\n",
    "        a, b = get_ab(θ, bound, σ, ξ, root, gradient_root, cv)\n",
    "        event_times = [get_event_time(a[i], b[i]) for i in 1:d] \n",
    "        τ, i0 = findmin(event_times)                \n",
    "        t += τ \n",
    "        ξ_new = ξ + τ*θ\n",
    "        rate_ = rate(X, y, ξ_new, i0, mb_size, θ, root, gradient_root, replace, cv, weights)\n",
    "        actual_bound = a[i0] + b[i0]*τ\n",
    "        alpha = rate_/actual_bound\n",
    "        if alpha > 1 \n",
    "            print(\"Error, rate larger than bound \\n\")\n",
    "            break\n",
    "        elseif rand() < alpha\n",
    "            θ[i0] *= -1\n",
    "            switches += 1\n",
    "            skeleton_points[:,switches+1] = A*ξ_new\n",
    "            push!(bouncing_times, t)\n",
    "        end   \n",
    "        if switches == size(skeleton_points,2) - 1 \n",
    "            skeleton_points = extend_skeleton_points(skeleton_points)\n",
    "        end\n",
    "        ξ = copy(ξ_new)\n",
    "    end\n",
    "    \n",
    "    # Return stuff:\n",
    "    print(signif(100*switches/max_attempts,2),\"% of switches accepted \\n\")\n",
    "    return hcat(skeleton_points[:,1:switches+1], A*ξ), push!(bouncing_times, t)\n",
    "end"
   ]
  },
  {
   "cell_type": "code",
   "execution_count": 39,
   "metadata": {
    "collapsed": true
   },
   "outputs": [],
   "source": [
    "d, N = 2, 100\n",
    "X = rand(Normal(), d, N)\n",
    "# X[1,:] = 1\n",
    "y = rand(Binomial(),N);"
   ]
  },
  {
   "cell_type": "code",
   "execution_count": 45,
   "metadata": {
    "collapsed": true
   },
   "outputs": [],
   "source": [
    "σ = 1.\n",
    "mb_size = 10\n",
    "replace = true\n",
    "A = eye(d)\n",
    "max_attempts = 10^6\n",
    "ξ0 = rand(d)\n",
    "cv = false\n",
    "root = zeros(d)\n",
    "weights = nothing"
   ]
  },
  {
   "cell_type": "code",
   "execution_count": 46,
   "metadata": {},
   "outputs": [
    {
     "name": "stderr",
     "output_type": "stream",
     "text": [
      "\u001b[32mProgress:  96%|███████████████████████████████████████  |  ETA: 0:00:00\u001b[39m"
     ]
    },
    {
     "name": "stdout",
     "output_type": "stream",
     "text": [
      "2.7% of switches accepted \n"
     ]
    },
    {
     "name": "stderr",
     "output_type": "stream",
     "text": [
      "\r",
      "\u001b[32mProgress:  99%|████████████████████████████████████████ |  ETA: 0:00:00\u001b[39m\r",
      "\u001b[32mProgress: 100%|█████████████████████████████████████████| Time: 0:00:03\u001b[39m\n"
     ]
    }
   ],
   "source": [
    "s, b = ZZ_logistic(X, y, max_attempts, ξ0, mb_size, root, σ, A, weights, replace, cv);"
   ]
  },
  {
   "cell_type": "code",
   "execution_count": 47,
   "metadata": {},
   "outputs": [
    {
     "data": {
      "text/plain": [
       "1914.9188594410289"
      ]
     },
     "execution_count": 47,
     "metadata": {},
     "output_type": "execute_result"
    }
   ],
   "source": [
    "b[end]"
   ]
  },
  {
   "cell_type": "code",
   "execution_count": 48,
   "metadata": {},
   "outputs": [
    {
     "data": {
      "text/plain": [
       "2-element Array{Float64,1}:\n",
       "  0.947701 \n",
       " -0.0263316"
      ]
     },
     "execution_count": 48,
     "metadata": {},
     "output_type": "execute_result"
    }
   ],
   "source": [
    "samples = extract_samples(s, b, 0.1)\n",
    "[compute_configT(samples, dim, X, y, N, σ) for dim in 1:d]"
   ]
  },
  {
   "cell_type": "code",
   "execution_count": null,
   "metadata": {
    "collapsed": true
   },
   "outputs": [],
   "source": []
  }
 ],
 "metadata": {
  "kernelspec": {
   "display_name": "Julia 0.6.4",
   "language": "julia",
   "name": "julia-0.6"
  },
  "language_info": {
   "file_extension": ".jl",
   "mimetype": "application/julia",
   "name": "julia",
   "version": "0.6.4"
  }
 },
 "nbformat": 4,
 "nbformat_minor": 2
}
