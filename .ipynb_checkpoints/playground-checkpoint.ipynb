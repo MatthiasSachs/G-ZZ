{
 "cells": [
  {
   "cell_type": "code",
   "execution_count": 1,
   "metadata": {
    "collapsed": true
   },
   "outputs": [],
   "source": [
    "using Distributions, TimeIt, ProgressMeter, PyPlot, CSV"
   ]
  },
  {
   "cell_type": "code",
   "execution_count": 5,
   "metadata": {},
   "outputs": [
    {
     "data": {
      "text/plain": [
       "(0.00011150050083627883, 4878.718544004597)"
      ]
     },
     "execution_count": 5,
     "metadata": {},
     "output_type": "execute_result"
    }
   ],
   "source": [
    "n = 2_000\n",
    "U = randn(n,n)\n",
    "Λ = diagm(rand(n))\n",
    "A = U'Λ*U\n",
    "u = randn(n)\n",
    "\n",
    "λmin, λmax = minimum(eigvals(A)), maximum(eigvals(A))"
   ]
  },
  {
   "cell_type": "code",
   "execution_count": 6,
   "metadata": {
    "collapsed": true
   },
   "outputs": [],
   "source": [
    "u_past = u/norm(u)\n",
    "α_current = u_past'A*u_past\n",
    "β_current = norm((A-α_current*eye(n))*u_past)\n",
    "g_current = norm(u)/α_current\n",
    "c_current = 1\n",
    "δ_current = copy(α_current)\n",
    "δlr_current = α_current - λmin\n",
    "δrr_current = α_current - λmax\n",
    "u_current = (A-α_current*eye(n))*u_past/β_current;"
   ]
  },
  {
   "cell_type": "code",
   "execution_count": 15,
   "metadata": {
    "collapsed": true
   },
   "outputs": [],
   "source": [
    "N = 5_000\n",
    "glr, grr, glo, g = zeros(N-1), zeros(N-1), zeros(N-1), zeros(N-1);"
   ]
  },
  {
   "cell_type": "code",
   "execution_count": 16,
   "metadata": {},
   "outputs": [
    {
     "name": "stderr",
     "output_type": "stream",
     "text": [
      "\u001b[32mProgress: 100%|█████████████████████████████████████████| Time: 0:00:10\u001b[39m\n"
     ]
    }
   ],
   "source": [
    "@showprogress for i in 2:N\n",
    "    α_new = u_current'A*u_current\n",
    "    utilde = A*u_current - α_new*u_current - β_current*u_past\n",
    "    β_new = norm(utilde)\n",
    "    u_new = utilde/β_new\n",
    "    g_new = g_current + norm(u)*β_current^2*c_current^2/(δ_current*(α_new*δ_current-β_current^2))\n",
    "    c_new = c_current*β_current/δ_current \n",
    "    δ_new = α_new - β_current^2/δ_current\n",
    "    δlr_new = α_new - λmin - β_current^2/δlr_current\n",
    "    δrr_new = α_new - λmax - β_current^2/δrr_current\n",
    "    αlr = λmin + β_new^2/δlr_new\n",
    "    αrr = λmax + β_new^2/δrr_new \n",
    "    αlo = δlr_new*δrr_new/(δrr_new-δlr_new)*(λmax/δlr_new-λmin/δrr_new)\n",
    "    βlo = sqrt(complex(δlr_new*δrr_new/(δrr_new-δlr_new)*(λmax-λmin)))\n",
    "    glr[i-1] = g_new + β_new^2*c_new^2*norm(u)/(δ_new*(αlr*δ_new-β_new^2))\n",
    "    grr[i-1] = g_new + β_new^2*c_new^2*norm(u)/(δ_new*(αrr*δ_new-β_new^2))\n",
    "    glo[i-1] = g_new + βlo^2*c_new^2*norm(u)/(δ_new*(αlo*δ_new-βlo^2))\n",
    "    g[i-1] = g_current\n",
    "    \n",
    "    u_past = copy(u_current)\n",
    "    α_current, β_current, g_current, δ_current, \n",
    "    c_current, u_current, δlr_current, δrr_current = \n",
    "    copy(α_new), copy(β_new), copy(g_new), copy(δ_new), \n",
    "    copy(c_new), copy(u_new), copy(δlr_new), copy(δrr_new)\n",
    "    i += 1\n",
    "end"
   ]
  },
  {
   "cell_type": "code",
   "execution_count": 17,
   "metadata": {},
   "outputs": [
    {
     "name": "stdout",
     "output_type": "stream",
     "text": [
      "Lower: 571.8912274566311 571.8912274566311\n",
      "Upper: 571.8912274566311 571.8912274566311"
     ]
    }
   ],
   "source": [
    "print(\"Lower: \", g[end], \" \", grr[end], \"\\n\")\n",
    "print(\"Upper: \", glr[end], \" \", glo[end])"
   ]
  },
  {
   "cell_type": "code",
   "execution_count": 18,
   "metadata": {},
   "outputs": [
    {
     "data": {
      "text/plain": [
       "26061.835666804567"
      ]
     },
     "execution_count": 18,
     "metadata": {},
     "output_type": "execute_result"
    }
   ],
   "source": [
    "u'inv(A)*u"
   ]
  },
  {
   "cell_type": "code",
   "execution_count": null,
   "metadata": {
    "collapsed": true
   },
   "outputs": [],
   "source": []
  },
  {
   "cell_type": "code",
   "execution_count": 41,
   "metadata": {},
   "outputs": [
    {
     "name": "stdout",
     "output_type": "stream",
     "text": [
      "1 loops, best of 3: 3.60 s per loop\n"
     ]
    }
   ],
   "source": [
    "n = 20_000\n",
    "a = randn(n,n)\n",
    "b = spzeros(n)\n",
    "b[1:10] = 1\n",
    "@timeit b'a*b;"
   ]
  },
  {
   "cell_type": "code",
   "execution_count": null,
   "metadata": {},
   "outputs": [],
   "source": [
    "n = 40_000\n",
    "a = randn(n,n)\n",
    "b = spzeros(n)\n",
    "b[1:10] = 1\n",
    "@timeit b'a*b;"
   ]
  },
  {
   "cell_type": "code",
   "execution_count": null,
   "metadata": {
    "collapsed": true
   },
   "outputs": [],
   "source": []
  },
  {
   "cell_type": "code",
   "execution_count": null,
   "metadata": {
    "collapsed": true
   },
   "outputs": [],
   "source": []
  },
  {
   "cell_type": "code",
   "execution_count": null,
   "metadata": {
    "collapsed": true
   },
   "outputs": [],
   "source": []
  }
 ],
 "metadata": {
  "kernelspec": {
   "display_name": "Julia 0.6.4",
   "language": "julia",
   "name": "julia-0.6"
  },
  "language_info": {
   "file_extension": ".jl",
   "mimetype": "application/julia",
   "name": "julia",
   "version": "0.6.4"
  }
 },
 "nbformat": 4,
 "nbformat_minor": 2
}
