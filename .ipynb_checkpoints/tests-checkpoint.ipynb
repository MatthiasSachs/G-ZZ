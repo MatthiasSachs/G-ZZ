{
 "cells": [
  {
   "cell_type": "markdown",
   "metadata": {},
   "source": [
    "#### Testing out Gibbs zig-zag code:"
   ]
  },
  {
   "cell_type": "code",
   "execution_count": 1,
   "metadata": {
    "collapsed": true
   },
   "outputs": [],
   "source": [
    "using Distributions, TimeIt, ProgressMeter, PyPlot"
   ]
  },
  {
   "cell_type": "code",
   "execution_count": 2,
   "metadata": {},
   "outputs": [
    {
     "data": {
      "text/plain": [
       "get_clustering (generic function with 1 method)"
      ]
     },
     "execution_count": 2,
     "metadata": {},
     "output_type": "execute_result"
    }
   ],
   "source": [
    "include(\"zz_structures.jl\")\n",
    "include(\"mbsampler.jl\")"
   ]
  },
  {
   "cell_type": "code",
   "execution_count": 3,
   "metadata": {},
   "outputs": [
    {
     "data": {
      "text/plain": [
       "gaussian_prior_nh([0.0, 0.0, 0.0, 0.0, 0.0, 0.0, 0.0, 0.0, 0.0, 0.0, 0.0, 0.0, 0.0, 0.0, 0.0], [9.72974, 0.965199, 5.08435, 6.66274, 1.42495, 5.03045, 3.77381, 4.55422, 8.53816, 5.57314, 6.70742, 2.05318, 4.41188, 5.65797, 6.63846])"
      ]
     },
     "execution_count": 3,
     "metadata": {},
     "output_type": "execute_result"
    }
   ],
   "source": [
    "d, Nobs = 15, 100\n",
    "p = 1e-1\n",
    "X = rand(Normal(), d, Nobs) .* rand(Binomial(1,p), d, Nobs)\n",
    "X[1,:] = ones(Nobs)\n",
    "ξ_true = rand(Normal(),d).* rand(Binomial(1,0.5), d)\n",
    "ξ_true[1] = rand(Normal())\n",
    "y = [rand(Binomial(1, 1/(1+exp(-ξ_true'X[:,j]))), 1)[1] + 0. for j in 1:Nobs];\n",
    "mb_size = 10\n",
    "σ02 = 1\n",
    "\n",
    "# prior = HS_prior(d, σ02)\n",
    "# prior = GDP_prior(d, σ02)\n",
    "prior = gaussian_prior_nh(zeros(d), 10*rand(d))"
   ]
  },
  {
   "cell_type": "code",
   "execution_count": 4,
   "metadata": {},
   "outputs": [],
   "source": [
    "my_ll = ll_logistic(X,y);\n",
    "my_model = model(my_ll, prior)\n",
    "root = find_root(my_model, rand(d));"
   ]
  },
  {
   "cell_type": "raw",
   "metadata": {},
   "source": [
    "# Sub-Sampling without control variate and with weights\n",
    "ϵ = 1e-2\n",
    "weights = abs.(X) + ϵ\n",
    "weights ./= sum(weights,2)\n",
    "gs = [wumbsampler(Nobs, mb_size, weights[i,:]) for i in 1:d]\n",
    "gs_list = mbsampler_list(d,gs);"
   ]
  },
  {
   "cell_type": "code",
   "execution_count": 5,
   "metadata": {
    "collapsed": true
   },
   "outputs": [],
   "source": [
    "# Sub-Sampling with control variate and with weights\n",
    "ϵ = 1e-2\n",
    "weights_cv = zeros(d, Nobs)\n",
    "for n in 1:Nobs\n",
    "    weights_cv[:,n] = [abs.(X[i,n])*norm(X[:,n]) for i in 1:d] + ϵ\n",
    "end\n",
    "weights_cv ./= sum(weights_cv,2);mbs = [wumbsampler(Nobs, mb_size, weights_cv[i,:]) for i in 1:d];\n",
    "gs_list = cvmbsampler_list(my_model, mbs, root);"
   ]
  },
  {
   "cell_type": "code",
   "execution_count": 6,
   "metadata": {},
   "outputs": [],
   "source": [
    "A = eye(d)\n",
    "opf = projopf(A, 100, hyperparam_size(prior))\n",
    "opf.alpha = 10*rand(d)\n",
    "opt = maxa_opt(10^6)\n",
    "outp = outputscheduler(opf,opt);"
   ]
  },
  {
   "cell_type": "code",
   "execution_count": 7,
   "metadata": {},
   "outputs": [
    {
     "data": {
      "text/plain": [
       "15-element Array{Float64,1}:\n",
       " 3758.68   \n",
       "    7.93319\n",
       "  138.362  \n",
       "   94.9871 \n",
       "  463.27   \n",
       "  296.809  \n",
       "  268.389  \n",
       "  537.485  \n",
       "  120.859  \n",
       "  179.59   \n",
       "  813.789  \n",
       " 1067.39   \n",
       "   98.1174 \n",
       "  683.994  \n",
       "  381.149  "
      ]
     },
     "execution_count": 7,
     "metadata": {},
     "output_type": "execute_result"
    }
   ],
   "source": [
    "bb = linear_bound(my_model.ll, my_model.pr, gs_list, zz_state(opf))\n",
    "update_bound(bb, my_ll, prior, gs_list, zz_state(opf))"
   ]
  },
  {
   "cell_type": "code",
   "execution_count": 8,
   "metadata": {},
   "outputs": [
    {
     "name": "stdout",
     "output_type": "stream",
     "text": [
      "Speed = [5.17987, 0.105496, 1.35013, 1.21982, 3.96056, 4.36754, 1.89195, 7.31382, 1.43039, 1.81466, 7.54367, 8.89161, 0.922943, 5.6381, 6.55614]"
     ]
    }
   ],
   "source": [
    "print(\"Speed = \", opf.alpha)"
   ]
  },
  {
   "cell_type": "code",
   "execution_count": 9,
   "metadata": {},
   "outputs": [],
   "source": [
    "my_zz_sampler = zz_sampler(0, gs_list, bb)\n",
    "hyper_sampler = block_gibbs_sampler(1.)\n",
    "blocksampler = Array{msampler}(2)\n",
    "blocksampler[1] = my_zz_sampler\n",
    "blocksampler[2] = hyper_sampler;"
   ]
  },
  {
   "cell_type": "code",
   "execution_count": 10,
   "metadata": {
    "scrolled": false
   },
   "outputs": [
    {
     "name": "stdout",
     "output_type": "stream",
     "text": [
      "1.7 mins"
     ]
    }
   ],
   "source": [
    "start = time()\n",
    "ZZ_block_sample(my_model::model, outp::outputscheduler, blocksampler::Array{msampler})\n",
    "print( round((time()-start)/60, 2), \" mins\")"
   ]
  },
  {
   "cell_type": "code",
   "execution_count": 11,
   "metadata": {},
   "outputs": [],
   "source": [
    "n_samples = 10^4\n",
    "xi_samples = extract_samples(outp.opf.xi_skeleton, \n",
    "                             outp.opf.bt_skeleton, \n",
    "                             outp.opf.bt_skeleton[end]/n_samples,\n",
    "                             \"linear\");\n",
    "hyper_samples = extract_samples(outp.opf.hyper_skeleton, \n",
    "                                outp.opf.bt_skeleton, \n",
    "                                outp.opf.bt_skeleton[end]/n_samples, \n",
    "                                \"constant\");"
   ]
  },
  {
   "cell_type": "code",
   "execution_count": 12,
   "metadata": {},
   "outputs": [
    {
     "data": {
      "text/plain": [
       "15-element Array{Float64,1}:\n",
       " 1.03001 \n",
       " 0.987353\n",
       " 1.04906 \n",
       " 0.866947\n",
       " 0.963639\n",
       " 1.02631 \n",
       " 1.06186 \n",
       " 0.994935\n",
       " 0.976806\n",
       " 1.06794 \n",
       " 1.03221 \n",
       " 0.991856\n",
       " 1.00992 \n",
       " 0.999123\n",
       " 1.00485 "
      ]
     },
     "execution_count": 12,
     "metadata": {},
     "output_type": "execute_result"
    }
   ],
   "source": [
    "[compute_configT(my_model, xi_samples[:,1:end-1], hyper_samples[:,1:end-1], k) for k in 1:d]"
   ]
  },
  {
   "cell_type": "code",
   "execution_count": null,
   "metadata": {
    "collapsed": true
   },
   "outputs": [],
   "source": []
  },
  {
   "cell_type": "raw",
   "metadata": {},
   "source": [
    "print(mean(xi_samples,2), \"\\n\") \n",
    "print(std(xi_samples,2))"
   ]
  },
  {
   "cell_type": "code",
   "execution_count": null,
   "metadata": {
    "collapsed": true
   },
   "outputs": [],
   "source": []
  },
  {
   "cell_type": "code",
   "execution_count": null,
   "metadata": {
    "collapsed": true
   },
   "outputs": [],
   "source": []
  }
 ],
 "metadata": {
  "kernelspec": {
   "display_name": "Julia 0.6.4",
   "language": "julia",
   "name": "julia-0.6"
  },
  "language_info": {
   "file_extension": ".jl",
   "mimetype": "application/julia",
   "name": "julia",
   "version": "0.6.4"
  }
 },
 "nbformat": 4,
 "nbformat_minor": 2
}
