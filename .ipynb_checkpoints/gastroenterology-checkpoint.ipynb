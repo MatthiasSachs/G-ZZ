{
 "cells": [
  {
   "cell_type": "markdown",
   "metadata": {},
   "source": [
    "### [Shrinkage]"
   ]
  },
  {
   "cell_type": "code",
   "execution_count": 1,
   "metadata": {},
   "outputs": [
    {
     "data": {
      "text/plain": [
       "get_clustering (generic function with 1 method)"
      ]
     },
     "execution_count": 1,
     "metadata": {},
     "output_type": "execute_result"
    }
   ],
   "source": [
    "using Distributions, TimeIt, ProgressMeter, PyPlot, CSV\n",
    "include(\"zz_structures_DuLuSuSe.jl\")\n",
    "include(\"mbsampler.jl\")"
   ]
  },
  {
   "cell_type": "code",
   "execution_count": 2,
   "metadata": {
    "collapsed": true
   },
   "outputs": [],
   "source": [
    "m = CSV.read(\"gastroenterology.txt\", header=false)\n",
    "convert(Array,m[2,:]);"
   ]
  },
  {
   "cell_type": "code",
   "execution_count": 3,
   "metadata": {
    "collapsed": true
   },
   "outputs": [],
   "source": [
    "x = zeros(size(m,1)-3,size(m,2))\n",
    "for i in 4:size(m,1) \n",
    "    for j in 1:size(m,2)\n",
    "        x[i-3,j] = parse(Float64, m[i,j])\n",
    "    end\n",
    "end\n",
    "x = x[vec(sum(abs.(x),2) .!= 0),:]\n",
    "\n",
    "X = zeros(size(x,1),size(x,2))\n",
    "mu, sd = vec(mean(x,2)), vec(std(x,2))\n",
    "for i in 1:size(x,2)\n",
    "    X[:,i] = (x[:,i]-mu)./sd\n",
    "end"
   ]
  },
  {
   "cell_type": "code",
   "execution_count": 4,
   "metadata": {
    "collapsed": true
   },
   "outputs": [],
   "source": [
    "y = zeros(size(m,2))\n",
    "for j in 1:size(m,2) \n",
    "    label = parse(Int64, m[2,j])\n",
    "    y[j] = (label>1)\n",
    "end"
   ]
  },
  {
   "cell_type": "code",
   "execution_count": 5,
   "metadata": {},
   "outputs": [
    {
     "data": {
      "text/plain": [
       "932"
      ]
     },
     "execution_count": 5,
     "metadata": {},
     "output_type": "execute_result"
    }
   ],
   "source": [
    "d, Nobs = size(X)\n",
    "σ02 = 1\n",
    "prior = SS_prior(d, σ02);\n",
    "d_hyp = hyperparam_size(prior)"
   ]
  },
  {
   "cell_type": "code",
   "execution_count": 6,
   "metadata": {},
   "outputs": [
    {
     "data": {
      "text/plain": [
       "(466, 152)"
      ]
     },
     "execution_count": 6,
     "metadata": {},
     "output_type": "execute_result"
    }
   ],
   "source": [
    "d, Nobs"
   ]
  },
  {
   "cell_type": "code",
   "execution_count": 7,
   "metadata": {
    "collapsed": true
   },
   "outputs": [],
   "source": [
    "my_ll = ll_logistic(X,y)\n",
    "my_model = model(my_ll, prior);"
   ]
  },
  {
   "cell_type": "code",
   "execution_count": 8,
   "metadata": {},
   "outputs": [
    {
     "name": "stderr",
     "output_type": "stream",
     "text": [
      "\u001b[32mProgress: 100%|█████████████████████████████████████████| Time: 0:00:00\u001b[39m\n"
     ]
    }
   ],
   "source": [
    "# Sub-sampling without control variates and with weights:\n",
    "\n",
    "mb_size = 1\n",
    "gs = Array{mbsampler}(d)\n",
    "gs[1] = umbsampler(0, Nobs, mb_size)\n",
    "\n",
    "@showprogress for i in 2:d \n",
    "    gs[i] = wumbsampler(Nobs, mb_size, abs.(X[i,:]))\n",
    "end\n",
    "gs_list = mbsampler_list(d,gs);"
   ]
  },
  {
   "cell_type": "code",
   "execution_count": 11,
   "metadata": {},
   "outputs": [],
   "source": [
    "A_xi, A_hyp = zeros(50,d), zeros(50,d_hyp)\n",
    "for i in 1:size(A_xi,1)\n",
    "    A_xi[i,8*i], A_hyp[i,8*i] = 1, 1 \n",
    "end\n",
    "\n",
    "opf = projopf(A_xi, A_hyp, 1000)\n",
    "opt = maxa_opt(3*10^7, 5*10^6)\n",
    "outp = outputscheduler(opf,opt)\n",
    "bb = linear_bound(my_model.ll, my_model.pr, gs_list)\n",
    "mstate = zz_state(d)\n",
    "update_bound(bb, my_ll, prior, gs_list, mstate);"
   ]
  },
  {
   "cell_type": "code",
   "execution_count": 12,
   "metadata": {
    "collapsed": true
   },
   "outputs": [],
   "source": [
    "adapt_speed = \"none\"\n",
    "L = 1\n",
    "my_zz_sampler = zz_sampler(0, gs_list, bb, L, adapt_speed)\n",
    "hyper_sampler = block_gibbs_sampler(1e1)\n",
    "blocksampler = Array{msampler}(2)\n",
    "blocksampler[1] = my_zz_sampler\n",
    "blocksampler[2] = hyper_sampler;"
   ]
  },
  {
   "cell_type": "code",
   "execution_count": null,
   "metadata": {},
   "outputs": [],
   "source": [
    "ZZ_block_sample(my_model, outp, blocksampler, mstate);"
   ]
  },
  {
   "cell_type": "code",
   "execution_count": null,
   "metadata": {
    "collapsed": true
   },
   "outputs": [],
   "source": [
    "xi_sd = sqrt.(outp.opf.xi_m2 - outp.opf.xi_mu.^2)\n",
    "ci = zeros(d,2)\n",
    "ci[:,1] = outp.opf.xi_mu-3*xi_sd\n",
    "ci[:,2] = outp.opf.xi_mu+3*xi_sd;"
   ]
  },
  {
   "cell_type": "code",
   "execution_count": null,
   "metadata": {},
   "outputs": [],
   "source": [
    "fig = figure(figsize=(12,3))\n",
    "@showprogress for i in 1:d\n",
    "    plot([i,i], ci[i,:], \"b-\", lw=0.5)\n",
    "end\n",
    "plot(1:d, outp.opf.xi_mu, \"ro\", markersize=2, label=\"posterior mean\");\n",
    "grid(true)\n",
    "xlim(-5,d+5)\n",
    "xlabel(\"Component index\")\n",
    "ylabel(\"Value\")\n",
    "title(\"Confidence intervals for signals\")\n",
    "legend(ncol=2,bbox_to_anchor=(0.65, 1))"
   ]
  },
  {
   "cell_type": "code",
   "execution_count": null,
   "metadata": {},
   "outputs": [],
   "source": [
    "fig = figure(\"pyplot_barplot\",figsize=(8,3))\n",
    "for i in 1:size(outp.opf.alpha_skeleton,1) \n",
    "    plot((outp.opf.alpha_skeleton[i,:]))\n",
    "end\n",
    "title(\"Speeds\")\n",
    "xlabel(\"bounce\")\n",
    "grid(true)"
   ]
  },
  {
   "cell_type": "code",
   "execution_count": null,
   "metadata": {
    "collapsed": true
   },
   "outputs": [],
   "source": [
    "discard = 0\n",
    "n_samples = 10^4\n",
    "xi_samples = extract_samples(outp.opf.xi_skeleton[:,discard+1:end], \n",
    "                             outp.opf.bt_skeleton[:,discard+1:end], \n",
    "                             outp.opf.bt_skeleton[end]/n_samples,\n",
    "                             \"linear\");\n",
    "hyper_samples = extract_samples(outp.opf.hyper_skeleton[:,discard+1:end], \n",
    "                                outp.opf.bt_skeleton[:,discard+1:end], \n",
    "                                outp.opf.bt_skeleton[end]/n_samples, \n",
    "                                \"constant\");"
   ]
  },
  {
   "cell_type": "code",
   "execution_count": null,
   "metadata": {},
   "outputs": [],
   "source": [
    "for i in 1:size(xi_samples,1) \n",
    "    plot(acf(xi_samples[i,:], 2000))\n",
    "end\n",
    "grid(true)"
   ]
  },
  {
   "cell_type": "code",
   "execution_count": 35,
   "metadata": {},
   "outputs": [
    {
     "name": "stdout",
     "output_type": "stream",
     "text": [
      "348.77172255713316\n",
      "623.884007359459\n",
      "1400.529772939868\n",
      "798.2075217728576\n",
      "2349.4890188808586\n"
     ]
    }
   ],
   "source": [
    "print(mean(abs.(size(xi_samples,2)./[sum(acf(xi_samples[i,:], 1000)) for i in 1:size(xi_samples,1)])), \"\\n\")\n",
    "print(mean(abs.(size(xi_samples,2)./[sum(acf(xi_samples[i,:], 2000)) for i in 1:size(xi_samples,1)])), \"\\n\")\n",
    "print(mean(abs.(size(xi_samples,2)./[sum(acf(xi_samples[i,:], 3000)) for i in 1:size(xi_samples,1)])), \"\\n\")\n",
    "print(mean(abs.(size(xi_samples,2)./[sum(acf(xi_samples[i,:], 4000)) for i in 1:size(xi_samples,1)])), \"\\n\")\n",
    "print(mean(abs.(size(xi_samples,2)./[sum(acf(xi_samples[i,:], 5000)) for i in 1:size(xi_samples,1)])), \"\\n\")"
   ]
  },
  {
   "cell_type": "code",
   "execution_count": null,
   "metadata": {
    "collapsed": true
   },
   "outputs": [],
   "source": []
  }
 ],
 "metadata": {
  "kernelspec": {
   "display_name": "Julia 0.6.4",
   "language": "julia",
   "name": "julia-0.6"
  },
  "language_info": {
   "file_extension": ".jl",
   "mimetype": "application/julia",
   "name": "julia",
   "version": "0.6.4"
  }
 },
 "nbformat": 4,
 "nbformat_minor": 2
}
