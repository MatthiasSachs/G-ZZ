{
 "cells": [
  {
   "cell_type": "code",
   "execution_count": 1,
   "metadata": {},
   "outputs": [
    {
     "data": {
      "text/plain": [
       "get_clustering (generic function with 1 method)"
      ]
     },
     "execution_count": 1,
     "metadata": {},
     "output_type": "execute_result"
    }
   ],
   "source": [
    "using Distributions, TimeIt, ProgressMeter, PyPlot, JLD\n",
    "include(\"zz_structures_DuLuSuSe.jl\")\n",
    "include(\"mbsampler.jl\")"
   ]
  },
  {
   "cell_type": "markdown",
   "metadata": {},
   "source": [
    "#### Load data:"
   ]
  },
  {
   "cell_type": "code",
   "execution_count": 2,
   "metadata": {
    "collapsed": true
   },
   "outputs": [],
   "source": [
    "d, Nobs = 2_000, 2_000\n",
    "X = sprandn(d, Nobs, 1e-1)\n",
    "X[1,:] = ones(Nobs)\n",
    "nz = 50\n",
    "ξ_true = spzeros(d)\n",
    "ξ_true[1] = 3*rand()\n",
    "nzind = sample(1:d, nz)\n",
    "ξ_true[nzind[1:Int(nz/2)]] = rand(Uniform(5,10),Int(nz/2))\n",
    "ξ_true[nzind[Int(nz/2)+1:end]] = -rand(Uniform(5,10),Int(nz/2));\n",
    "y = [rand(Binomial(1, 1/(1+exp(-X[:,n]'ξ_true)))) for n in 1:Nobs];"
   ]
  },
  {
   "cell_type": "markdown",
   "metadata": {},
   "source": [
    "#### Define prior:"
   ]
  },
  {
   "cell_type": "code",
   "execution_count": 26,
   "metadata": {
    "collapsed": true
   },
   "outputs": [],
   "source": [
    "σ02 = 1\n",
    "prior = HS_prior(d, σ02);\n",
    "# prior = gaussian_prior_nh(d, σ02);"
   ]
  },
  {
   "cell_type": "markdown",
   "metadata": {},
   "source": [
    "#### Define model:"
   ]
  },
  {
   "cell_type": "code",
   "execution_count": 27,
   "metadata": {
    "collapsed": true
   },
   "outputs": [],
   "source": [
    "my_ll = ll_logistic_sp(X,y);\n",
    "my_model = model(my_ll, prior)\n",
    "# root = find_root(my_model, rand(d));"
   ]
  },
  {
   "cell_type": "markdown",
   "metadata": {},
   "source": [
    "#### Define minibatch sampler:"
   ]
  },
  {
   "cell_type": "raw",
   "metadata": {},
   "source": [
    "# Sub-Sampling without control variate and with weights\n",
    "mb_size = 20\n",
    "ϵ = 1e-2\n",
    "weights = abs.(full(X)) + ϵ\n",
    "weights ./= sum(weights,2)\n",
    "gs = [wumbsampler(Nobs, mb_size, weights[i,:]) for i in 1:d]\n",
    "gs_list = mbsampler_list(d,gs);"
   ]
  },
  {
   "cell_type": "code",
   "execution_count": 28,
   "metadata": {},
   "outputs": [
    {
     "name": "stderr",
     "output_type": "stream",
     "text": [
      "\u001b[32mProgress: 100%|█████████████████████████████████████████| Time: 0:00:00\u001b[39m\n"
     ]
    }
   ],
   "source": [
    "# Sub-Sampling without control variate and with weights\n",
    "mb_size = 20\n",
    "prob_het = 0.98\n",
    "gs = Array{mbsampler}(d)\n",
    "gs[1] = umbsampler(Nobs, mb_size)\n",
    "\n",
    "@showprogress for i in 2:d \n",
    "    weights_het = abs.(X[i,:])./sum(abs.(X[i,:]))\n",
    "    gs[i] = spwumbsampler(Nobs, mb_size, weights_het, prob_het)\n",
    "end\n",
    "gs_list = mbsampler_list(d,gs);"
   ]
  },
  {
   "cell_type": "raw",
   "metadata": {},
   "source": [
    "# Sub-sampling with weights and with CV \n",
    "mb_size = 20\n",
    "prob_het = 0.98\n",
    "mbs = Array{mbsampler}(d)\n",
    "mbs[1] = umbsampler(Nobs, mb_size)\n",
    "norm_Xj = [norm(X[:,j]) for j in 1:Nobs]\n",
    "for i in 2:d \n",
    "    weights_het = spzeros(Nobs)\n",
    "    nz_ind = X[i,:].nzind\n",
    "    weights_het[nz_ind] = abs.(X[i,nz_ind]).*norm_Xj[nz_ind] \n",
    "    weights_het /= sum(weights_het)\n",
    "    mbs[i] = spwumbsampler(Nobs, mb_size, weights_het, prob_het)\n",
    "end\n",
    "gs_list = cvmbsampler_list(my_model, mbs, root, true);"
   ]
  },
  {
   "cell_type": "markdown",
   "metadata": {},
   "source": [
    "#### Define output scheduler:"
   ]
  },
  {
   "cell_type": "code",
   "execution_count": 29,
   "metadata": {},
   "outputs": [
    {
     "name": "stderr",
     "output_type": "stream",
     "text": [
      "\u001b[32mProgress: 100%|█████████████████████████████████████████| Time: 0:00:00\u001b[39m\n"
     ]
    }
   ],
   "source": [
    "bb_copy = linear_bound(my_model.ll, my_model.pr, gs_list);"
   ]
  },
  {
   "cell_type": "code",
   "execution_count": 30,
   "metadata": {
    "collapsed": true
   },
   "outputs": [],
   "source": [
    "A_xi = ones(1,d)/d\n",
    "A_hyp = ones(1,hyperparam_size(prior))/hyperparam_size(prior)\n",
    "\n",
    "opf = projopf(A_xi, A_hyp, 1000)\n",
    "opt = maxa_opt(10^6)\n",
    "outp = outputscheduler(opf,opt)\n",
    "bb = deepcopy(bb_copy)\n",
    "mstate = zz_state(d)\n",
    "update_bound(bb, my_ll, prior, gs_list, mstate);"
   ]
  },
  {
   "cell_type": "markdown",
   "metadata": {},
   "source": [
    "#### Define mbsampler + block Gibbs sampler list:"
   ]
  },
  {
   "cell_type": "code",
   "execution_count": 31,
   "metadata": {
    "collapsed": true
   },
   "outputs": [],
   "source": [
    "adapt_speed = \"by_var\"\n",
    "L = 1\n",
    "my_zz_sampler = zz_sampler(0, gs_list, bb, L, adapt_speed)\n",
    "hyper_sampler = block_gibbs_sampler(1e2)\n",
    "blocksampler = Array{msampler}(2)\n",
    "blocksampler[1] = my_zz_sampler\n",
    "blocksampler[2] = hyper_sampler;"
   ]
  },
  {
   "cell_type": "markdown",
   "metadata": {},
   "source": [
    "#### Run sampler:"
   ]
  },
  {
   "cell_type": "code",
   "execution_count": 32,
   "metadata": {},
   "outputs": [
    {
     "name": "stdout",
     "output_type": "stream",
     "text": [
      "10 percent attempts in 0.77 min; zz bounces = 13446, hyp bounces = 11, total time = 0.244 \n",
      "20 percent attempts in 1.56 min; zz bounces = 38695, hyp bounces = 23, total time = 0.403 \n",
      "30 percent attempts in 2.39 min; zz bounces = 70101, hyp bounces = 35, total time = 0.515 \n",
      "40 percent attempts in 3.22 min; zz bounces = 103683, hyp bounces = 50, total time = 0.617 \n",
      "50 percent attempts in 4.06 min; zz bounces = 137411, hyp bounces = 61, total time = 0.717 \n",
      "60 percent attempts in 4.92 min; zz bounces = 174146, hyp bounces = 67, total time = 0.797 \n",
      "70 percent attempts in 5.77 min; zz bounces = 211160, hyp bounces = 72, total time = 0.839 \n",
      "80 percent attempts in 6.62 min; zz bounces = 247413, hyp bounces = 77, total time = 0.876 \n",
      "90 percent attempts in 7.47 min; zz bounces = 282538, hyp bounces = 80, total time = 0.911 \n",
      "100 percent attempts in 8.36 min; zz bounces = 319291, hyp bounces = 89, total time = 0.982 \n"
     ]
    }
   ],
   "source": [
    "ZZ_block_sample(my_model, outp, blocksampler, mstate);"
   ]
  },
  {
   "cell_type": "code",
   "execution_count": 33,
   "metadata": {},
   "outputs": [
    {
     "name": "stdout",
     "output_type": "stream",
     "text": [
      "ZZ total bounces: 319291, hyper bounces: 90 \n",
      "31.9 percent of ZZ bounces accepted \n",
      "Total time: 0.98"
     ]
    }
   ],
   "source": [
    "zz_bounces = sum(mstate.n_bounces)\n",
    "hyp_bounces = outp.opf.tot_bounces-sum(mstate.n_bounces)\n",
    "@printf(\"ZZ total bounces: %i, hyper bounces: %i \\n\", zz_bounces, hyp_bounces)\n",
    "@printf(\"%.1f percent of ZZ bounces accepted \\n\", 100*sum(mstate.n_bounces)/(outp.opt.max_attempts-hyp_bounces))\n",
    "@printf(\"Total time: %.2f\", maximum(outp.opf.bt_skeleton))"
   ]
  },
  {
   "cell_type": "markdown",
   "metadata": {},
   "source": [
    "#### Confidence interval:"
   ]
  },
  {
   "cell_type": "code",
   "execution_count": 34,
   "metadata": {
    "collapsed": true
   },
   "outputs": [],
   "source": [
    "xi_sd = sqrt.(outp.opf.xi_m2 - outp.opf.xi_mu.^2)\n",
    "ci = zeros(d,2)\n",
    "ci[:,1] = outp.opf.xi_mu-3*xi_sd\n",
    "ci[:,2] = outp.opf.xi_mu+3*xi_sd;"
   ]
  },
  {
   "cell_type": "code",
   "execution_count": 35,
   "metadata": {},
   "outputs": [
    {
     "name": "stderr",
     "output_type": "stream",
     "text": [
      "\u001b[32mProgress:  96%|███████████████████████████████████████  |  ETA: 0:00:00\u001b[39m"
     ]
    },
    {
     "data": {
      "image/png": "[encoded data removed]",
      "text/plain": [
       "PyPlot.Figure(PyObject <Figure size 1200x300 with 1 Axes>)"
      ]
     },
     "metadata": {},
     "output_type": "display_data"
    },
    {
     "name": "stderr",
     "output_type": "stream",
     "text": [
      "\r",
      "\u001b[32mProgress:  99%|█████████████████████████████████████████|  ETA: 0:00:00\u001b[39m\r",
      "\u001b[32mProgress: 100%|█████████████████████████████████████████| Time: 0:00:03\u001b[39m\n"
     ]
    },
    {
     "data": {
      "text/plain": [
       "PyObject <matplotlib.legend.Legend object at 0x7fbaed5e8f98>"
      ]
     },
     "execution_count": 35,
     "metadata": {},
     "output_type": "execute_result"
    }
   ],
   "source": [
    "fig = figure(figsize=(12,3))\n",
    "@showprogress for i in 1:d\n",
    "    plot([i,i], ci[i,:], \"b-\", lw=0.5)\n",
    "end\n",
    "plot(1:d, outp.opf.xi_mu, \"ro\", markersize=2, label=\"posterior mean\");\n",
    "plot(1:d, ξ_true, \"gx\", markersize=2, label=\"true parameter\")\n",
    "grid(true)\n",
    "xlim(-50,d+50)\n",
    "xlabel(\"Component index\")\n",
    "ylabel(\"Value\")\n",
    "title(\"Confidence intervals for signals\")\n",
    "legend(ncol=2,bbox_to_anchor=(0.65, 1))"
   ]
  },
  {
   "cell_type": "code",
   "execution_count": null,
   "metadata": {
    "collapsed": true
   },
   "outputs": [],
   "source": []
  }
 ],
 "metadata": {
  "kernelspec": {
   "display_name": "Julia 0.6.4",
   "language": "julia",
   "name": "julia-0.6"
  },
  "language_info": {
   "file_extension": ".jl",
   "mimetype": "application/julia",
   "name": "julia",
   "version": "0.6.4"
  }
 },
 "nbformat": 4,
 "nbformat_minor": 2
}
