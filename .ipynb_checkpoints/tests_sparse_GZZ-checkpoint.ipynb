{
 "cells": [
  {
   "cell_type": "markdown",
   "metadata": {},
   "source": [
    "#### Testing out Gibbs zig-zag code:"
   ]
  },
  {
   "cell_type": "code",
   "execution_count": 1,
   "metadata": {
    "collapsed": true
   },
   "outputs": [],
   "source": [
    "using Distributions, TimeIt, ProgressMeter, PyPlot"
   ]
  },
  {
   "cell_type": "code",
   "execution_count": 2,
   "metadata": {},
   "outputs": [
    {
     "data": {
      "text/plain": [
       "get_clustering (generic function with 1 method)"
      ]
     },
     "execution_count": 2,
     "metadata": {},
     "output_type": "execute_result"
    }
   ],
   "source": [
    "include(\"zz_structures.jl\")\n",
    "include(\"mbsampler.jl\")"
   ]
  },
  {
   "cell_type": "code",
   "execution_count": 32,
   "metadata": {},
   "outputs": [
    {
     "data": {
      "text/plain": [
       "HS_prior(10, 1.0, [1.0, 1.0, 1.0, 1.0, 1.0, 1.0, 1.0, 1.0, 1.0], 1.0, [1.0, 1.0, 1.0, 1.0, 1.0, 1.0, 1.0, 1.0, 1.0], 1.0)"
      ]
     },
     "execution_count": 32,
     "metadata": {},
     "output_type": "execute_result"
    }
   ],
   "source": [
    "d, Nobs = 10, 100\n",
    "p = 1e-1\n",
    "X = sprandn(d, Nobs, 1e-1)\n",
    "X[1,:] = ones(Nobs)\n",
    "ξ_true = rand(Normal(),d).* rand(Binomial(1,0.5), d)\n",
    "ξ_true[1] = rand(Normal())\n",
    "y = [rand(Binomial(1, 1/(1+exp(-ξ_true'X[:,j]))), 1)[1] + 0. for j in 1:Nobs];\n",
    "mb_size = 10\n",
    "σ02 = 1\n",
    "\n",
    "prior = HS_prior(d, σ02)\n",
    "# prior = GDP_prior(d, σ02)\n",
    "# prior = SS_prior(d, σ02)\n",
    "# prior = gaussian_prior_nh(zeros(d), 10*rand(d))"
   ]
  },
  {
   "cell_type": "code",
   "execution_count": 33,
   "metadata": {
    "collapsed": true
   },
   "outputs": [],
   "source": [
    "my_ll = ll_logistic_sp(X,y);\n",
    "my_model = model(my_ll, prior)\n",
    "root = find_root(my_model, rand(d));"
   ]
  },
  {
   "cell_type": "code",
   "execution_count": 34,
   "metadata": {
    "collapsed": true
   },
   "outputs": [],
   "source": [
    "# Sub-sampling with weights and no CV\n",
    "\n",
    "weights_het = spzeros(d, Nobs)\n",
    "for i in 1:d \n",
    "    nzind = X[i,:].nzind\n",
    "    weights_het[i,nzind] = abs.(X[i,nzind])./sum(abs.(X[i,nzind]))\n",
    "end\n",
    "\n",
    "prob_het = 0.9\n",
    "gs = Array{mbsampler}(d)\n",
    "gs[1] = umbsampler(Nobs, mb_size)\n",
    "for i in 2:d \n",
    "    gs[i] = spwumbsampler(Nobs, mb_size, weights_het[i,:], prob_het)\n",
    "#     gs[i] = umbsampler(Nobs, mb_size)\n",
    "end\n",
    "gs_list = mbsampler_list(d,gs);"
   ]
  },
  {
   "cell_type": "raw",
   "metadata": {
    "collapsed": true
   },
   "source": [
    "# Sub-sampling with weights and with CV \n",
    "\n",
    "norm_Xj = [norm(X[:,j]) for j in 1:Nobs]\n",
    "weights_het = spzeros(d, Nobs)\n",
    "for i in 1:d \n",
    "    nz_ind = X[i,:].nzind\n",
    "    weights_het[i,nz_ind] = abs.(X[i,nz_ind]).*norm_Xj[nz_ind] \n",
    "    weights_het[i,nz_ind] /= sum(weights_het[i,nz_ind])\n",
    "end\n",
    "\n",
    "prob_het = 1\n",
    "mbs = Array{mbsampler}(d)\n",
    "mbs[1] = umbsampler(Nobs, mb_size)\n",
    "for i in 2:d \n",
    "    mbs[i] = spwumbsampler(Nobs, mb_size, weights_het[i,:], prob_het)\n",
    "#     mbs[i] = umbsampler(Nobs, mb_size)\n",
    "end\n",
    "gs_list = cvmbsampler_list(my_model, mbs, root, true);"
   ]
  },
  {
   "cell_type": "raw",
   "metadata": {},
   "source": [
    "# Stratified sub-sampling without CV and with weights \n",
    "\n",
    "weights = sparse(abs.(X))\n",
    "for i in 1:d \n",
    "    weights[i,:] /= sum(weights[i,:])\n",
    "end\n",
    "\n",
    "ll_pd_root_list = [partial_derivative_vec(my_model.ll, root, i, 1:Nobs) for i in 1:d]\n",
    "\n",
    "cmbsamplers = Array{mbsampler}(d)\n",
    "cmbsamplers[1] = umbsampler(Nobs, mb_size)\n",
    "N_cluster = mb_size\n",
    "\n",
    "for dim in 2:d\n",
    "    \n",
    "    N_cluster_d = min(N_cluster, length(ll_pd_root_list[dim].nzval))\n",
    "    #print(length(ll_pd_root_list[dim].nzval))\n",
    "    csamplers = Array{mbsampler}(N_cluster_d)\n",
    "    \n",
    "    clusters = get_clustering(N_cluster_d, ll_pd_root_list[dim].nzval)\n",
    "    for i in 1:N_cluster_d\n",
    "        clusters[i] =  ll_pd_root_list[dim].nzind[clusters[i]]\n",
    "    end\n",
    "    #print(clusters)\n",
    "    scp = ones(N_cluster_d)\n",
    "    for (ci, c) in enumerate(clusters)\n",
    "#         csamplers[ci] = umbsampler(size(c)[1], scp[ci])\n",
    "        csamplers[ci] = wumbsampler(size(c)[1], scp[ci], weights[dim,c])\n",
    "    end\n",
    "#     cmbsamplers[dim] = cmbsampler(csamplers, clusters, ones(Nobs)/Nobs)\n",
    "    cmbsamplers[dim] = spcmbsampler(csamplers, clusters, weights[dim,:])\n",
    "end\n",
    "gs_list = mbsampler_list(d,cmbsamplers);"
   ]
  },
  {
   "cell_type": "raw",
   "metadata": {
    "collapsed": true
   },
   "source": [
    "# Stratified sub-sampling with CV and with weights\n",
    "\n",
    "norm_Xj = [norm(X[:,j]) for j in 1:Nobs]\n",
    "weights_cv = spzeros(d, Nobs)\n",
    "for i in 1:d \n",
    "    nz_ind = X[i,:].nzind\n",
    "    weights_cv[i,nz_ind] = abs.(X[i,nz_ind]).*norm_Xj[nz_ind] \n",
    "    weights_cv[i,nz_ind] /= sum(weights_cv[i,nz_ind])\n",
    "end\n",
    "\n",
    "ll_pd_root_list = [partial_derivative_vec(my_model.ll, root, i, 1:Nobs) for i in 1:d]\n",
    "\n",
    "cmbsamplers = Array{mbsampler}(d)\n",
    "cmbsamplers[1] = umbsampler(Nobs, mb_size)\n",
    "N_cluster = mb_size\n",
    "#mode = \"wc\"\n",
    "\n",
    "for dim in 2:d\n",
    "    N_cluster_d = min(N_cluster, length(ll_pd_root_list[dim].nzval))\n",
    "    \n",
    "    csamplers = Array{mbsampler}(N_cluster_d)\n",
    "    #clusters = get_clustering_vec(ll_pd_root_list[dim], N_cluster_d, mode)\n",
    "    clusters = get_clustering(N_cluster_d, ll_pd_root_list[dim].nzval)\n",
    "    #clusters = get_clustering_vec(ll_pd_root_list[dim].nzval, N_cluster_d, mode)\n",
    "    for i in 1:N_cluster_d\n",
    "        clusters[i] =  ll_pd_root_list[dim].nzind[clusters[i]]\n",
    "    end\n",
    "\n",
    "    scp = ones(N_cluster_d)\n",
    "    for (ci, c) in enumerate(clusters)\n",
    "        \n",
    "        csamplers[ci] = wumbsampler(size(c)[1], scp[ci], weights_cv[dim,c])\n",
    "    end\n",
    "    #cmbsamplers[dim] = cmbsampler(csamplers, clusters, ones(Nobs)/Nobs)\n",
    "    cmbsamplers[dim] = spcmbsampler(csamplers, clusters, weights_cv[dim,:])\n",
    "end\n",
    "gs_list = cvmbsampler_list(my_model, cmbsamplers, root, true);"
   ]
  },
  {
   "cell_type": "code",
   "execution_count": 35,
   "metadata": {
    "collapsed": true
   },
   "outputs": [],
   "source": [
    "A = eye(d)\n",
    "\n",
    "opf = projopf(A, 100, hyperparam_size(prior))\n",
    "opt = maxa_opt(10^6)\n",
    "outp = outputscheduler(opf,opt)\n",
    "bb = linear_bound(my_model.ll, my_model.pr, gs_list)\n",
    "update_bound(bb, my_ll, prior, gs_list, zz_state(opf));"
   ]
  },
  {
   "cell_type": "code",
   "execution_count": 36,
   "metadata": {},
   "outputs": [
    {
     "name": "stdout",
     "output_type": "stream",
     "text": [
      "Initial speed = [1.0, 1.0, 1.0, 1.0, 1.0, 1.0, 1.0, 1.0, 1.0, 1.0]"
     ]
    }
   ],
   "source": [
    "print(\"Initial speed = \", opf.alpha_skeleton[:,opf.tcounter+1])"
   ]
  },
  {
   "cell_type": "code",
   "execution_count": 37,
   "metadata": {
    "collapsed": true
   },
   "outputs": [],
   "source": [
    "adapt_speed = true\n",
    "L = 2\n",
    "my_zz_sampler = zz_sampler(0, gs_list, bb, L, adapt_speed)\n",
    "hyper_sampler = block_gibbs_sampler(1.)\n",
    "blocksampler = Array{msampler}(2)\n",
    "blocksampler[1] = my_zz_sampler\n",
    "blocksampler[2] = hyper_sampler;"
   ]
  },
  {
   "cell_type": "code",
   "execution_count": null,
   "metadata": {
    "scrolled": false
   },
   "outputs": [
    {
     "name": "stdout",
     "output_type": "stream",
     "text": [
      "alpha: 1.0780021133483833\n",
      "alpha: 1.002470105863979\n",
      "alpha: 1.182206863148606\n",
      "alpha: 1.0043757357198373\n",
      "alpha: 1.2098246129053811\n",
      "alpha: 1.1785567667298125\n",
      "alpha: 1.106302864438122\n",
      "alpha: 1.5391545672687081\n",
      "alpha: 1.0219976096993675\n",
      "alpha: 1.109806878458495\n",
      "alpha: 1.0305145139818095\n",
      "alpha: 1.201045374291762\n",
      "alpha: 1.0042805079864219\n",
      "alpha: 1.0041915609357723\n",
      "alpha: 1.4439847483555777\n",
      "alpha: 1.6272433961547421\n",
      "alpha: 1.0163281650371292\n",
      "alpha: 1.3223029943040743\n",
      "alpha: 1.0476195491494926\n",
      "alpha: 1.0936374340009294\n",
      "alpha: 1.3701339273309003\n",
      "alpha: 1.1986873812109298\n",
      "alpha: 1.3756783012605254\n",
      "alpha: 1.0669693620442426\n",
      "alpha: 1.0915160566107263\n",
      "alpha: 1.5087266850062357\n",
      "alpha: 1.2582677086888459\n",
      "alpha: 1.088320378148312\n",
      "alpha: 1.192460559494646\n",
      "alpha: 1.019011820966849\n",
      "alpha: 1.178617830361462\n",
      "alpha: 1.0739936898314324\n",
      "alpha: 1.062192648960603\n",
      "alpha: 1.932815389443604\n",
      "alpha: 1.0989209641617295\n",
      "alpha: 1.0012321211854227\n",
      "alpha: 1.633474900457328\n",
      "alpha: 1.070680160733916\n",
      "alpha: 1.4226090797406619\n",
      "alpha: 1.0378763996013824\n",
      "alpha: 1.0253121352015926\n",
      "alpha: 1.232551771225023\n",
      "alpha: 1.269330514308014\n",
      "alpha: 1.0695715529975438\n",
      "alpha: 3.6191817850599306\n",
      "alpha: 1.286329995959309\n",
      "alpha: 1.1975333932013774\n",
      "alpha: 1.1116472729738602\n",
      "alpha: 1.0391982128015338\n",
      "alpha: 1.0335943415706614\n",
      "alpha: 1.0129923108366452\n",
      "alpha: 1.205270340769758\n",
      "alpha: 1.2793702207773279\n",
      "alpha: 1.1184396413406594\n",
      "alpha: 1.0726480074139915\n",
      "alpha: 1.1702430872431393\n",
      "alpha: 1.0466669560167132\n",
      "alpha: 1.186041737998737\n",
      "alpha: 1.0495929840936893\n",
      "alpha: 1.179468653136511\n",
      "alpha: 1.1211292278484606\n",
      "alpha: 1.1421478762475248\n",
      "alpha: 1.096367995151225\n",
      "alpha: 1.043508015163626\n",
      "alpha: 1.0008531947296935\n",
      "alpha: 1.0772880507463658\n",
      "alpha: 1.8201442137452486\n",
      "alpha: 1.186334043937894\n",
      "alpha: 1.1422744490342709\n",
      "alpha: 1.036104600408378\n",
      "alpha: 1.070634086813443\n",
      "alpha: 1.1094986129000883\n",
      "alpha: 1.212079741002539\n",
      "alpha: 1.1318608546143207\n",
      "alpha: 1.0894997303070626\n",
      "alpha: 1.1348924978280261\n",
      "alpha: 1.1043967507317782\n",
      "alpha: 1.1207215928517407\n",
      "alpha: 1.0368840280373215\n",
      "alpha: 1.0220710436491063\n",
      "alpha: 1.2354194430630792\n",
      "alpha: 1.0403712087095789\n",
      "alpha: 1.0499137678323516\n",
      "alpha: 1.0249160533637363\n",
      "alpha: 1.053770062224039\n",
      "alpha: 1.557924021807618\n",
      "alpha: 1.0268128578757971\n",
      "alpha: 1.1609703630101942\n"
     ]
    }
   ],
   "source": [
    "start = time()\n",
    "ZZ_block_sample(my_model::model, outp::outputscheduler, blocksampler::Array{msampler})\n",
    "print( round((time()-start)/60, 2), \" mins\")"
   ]
  },
  {
   "cell_type": "code",
   "execution_count": 28,
   "metadata": {},
   "outputs": [
    {
     "data": {
      "text/plain": [
       "((10, 93775), (10, 93775))"
      ]
     },
     "execution_count": 28,
     "metadata": {},
     "output_type": "execute_result"
    }
   ],
   "source": [
    "size(outp.opf.alpha_skeleton), size(outp.opf.xi_skeleton)"
   ]
  },
  {
   "cell_type": "code",
   "execution_count": 29,
   "metadata": {},
   "outputs": [
    {
     "data": {
      "image/png": "[encoded data removed]",
      "text/plain": [
       "PyPlot.Figure(PyObject <Figure size 800x300 with 1 Axes>)"
      ]
     },
     "metadata": {},
     "output_type": "display_data"
    }
   ],
   "source": [
    "fig = figure(\"pyplot_barplot\",figsize=(8,3))\n",
    "for i in 1:d \n",
    "    plot((outp.opf.alpha_skeleton[i,:]))\n",
    "end\n",
    "title(\"Speeds\")\n",
    "xlabel(\"bounce\")\n",
    "grid(true)"
   ]
  },
  {
   "cell_type": "code",
   "execution_count": 30,
   "metadata": {
    "collapsed": true
   },
   "outputs": [],
   "source": [
    "discard = 20_000\n",
    "n_samples = 10^4\n",
    "xi_samples = extract_samples(outp.opf.xi_skeleton[:,discard+1:end], \n",
    "                             outp.opf.bt_skeleton[:,discard+1:end], \n",
    "                             outp.opf.bt_skeleton[end]/n_samples,\n",
    "                             \"linear\");\n",
    "hyper_samples = extract_samples(outp.opf.hyper_skeleton[:,discard+1:end], \n",
    "                                outp.opf.bt_skeleton[:,discard+1:end], \n",
    "                                outp.opf.bt_skeleton[end]/n_samples, \n",
    "                                \"constant\");"
   ]
  },
  {
   "cell_type": "code",
   "execution_count": 31,
   "metadata": {},
   "outputs": [
    {
     "data": {
      "image/png": "[encoded data removed]",
      "text/plain": [
       "PyPlot.Figure(PyObject <Figure size 700x250 with 1 Axes>)"
      ]
     },
     "metadata": {},
     "output_type": "display_data"
    }
   ],
   "source": [
    "fig = figure(\"pyplot_barplot\",figsize=(7,2.5))\n",
    "plot([compute_configT(my_model, xi_samples[:,1:end-1], hyper_samples[:,1:end-1], k) for k in 1:d], \"o\")\n",
    "grid(true)"
   ]
  },
  {
   "cell_type": "code",
   "execution_count": null,
   "metadata": {
    "collapsed": true
   },
   "outputs": [],
   "source": []
  },
  {
   "cell_type": "code",
   "execution_count": null,
   "metadata": {
    "collapsed": true
   },
   "outputs": [],
   "source": []
  }
 ],
 "metadata": {
  "kernelspec": {
   "display_name": "Julia 0.6.4",
   "language": "julia",
   "name": "julia-0.6"
  },
  "language_info": {
   "file_extension": ".jl",
   "mimetype": "application/julia",
   "name": "julia",
   "version": "0.6.4"
  }
 },
 "nbformat": 4,
 "nbformat_minor": 2
}
