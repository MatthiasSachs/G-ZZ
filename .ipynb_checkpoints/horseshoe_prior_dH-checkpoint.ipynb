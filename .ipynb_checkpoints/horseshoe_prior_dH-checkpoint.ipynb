{
 "cells": [
  {
   "cell_type": "code",
   "execution_count": 16,
   "metadata": {},
   "outputs": [],
   "source": [
    "using Distributions, TimeIt, ProgressMeter, PyPlot\n",
    "include(\"ZZ_subsampling.jl\")\n",
    "include(\"ZZ_dominated_Hessian.jl\")\n",
    "\n",
    "\n",
    "# Define abstract type for gaussian prior, sub-types of this abstract types must have attributes mu and sigma2  \n",
    "abstract type prior end\n",
    "abstract type gaussian_prior <:prior end\n",
    "abstract type laplace_prior <:prior end\n",
    "\n",
    "\n",
    "#-------------------------------------------------\n",
    "# Structure implementing horseshoe prior\n",
    "#-------------------------------------------------\n",
    "mutable struct HS_prior <: gaussian_prior\n",
    "    d ::Int64\n",
    "    σ02 ::Float64 # variance for the intercept \n",
    "    #hyper parameters\n",
    "    λ2 ::Array{Float64}\n",
    "    τ2 ::Float64\n",
    "    ν ::Array{Float64}\n",
    "    γ ::Float64\n",
    "end"
   ]
  },
  {
   "cell_type": "code",
   "execution_count": 17,
   "metadata": {},
   "outputs": [
    {
     "data": {
      "text/plain": [
       "block_Gibbs_update_hyperparams (generic function with 1 method)"
      ]
     },
     "execution_count": 17,
     "metadata": {},
     "output_type": "execute_result"
    }
   ],
   "source": [
    "function block_Gibbs_update_hyperparams(hs_prior::HS_prior, ξ)\n",
    "    #gibbs steps here \n",
    "    hs_prior.λ2 = [rand(InverseGamma(1, 1/hs_prior.ν[i] + ξ[i]^2/(2hs_prior.τ2))) for i in 1:hs_prior.d]\n",
    "    hs_prior.τ2 = rand(InverseGamma((hs_prior.d+1)/2, 1/hs_prior.γ + 0.5*sum(ξ.^2 ./ hs_prior.λ2) ))\n",
    "    hs_prior.ν  = [rand(InverseGamma(1, 1+1/hs_prior.λ2[i])) for i in 1:hs_prior.d]\n",
    "    hs_prior.γ  = rand(InverseGamma(1, 1+1/hs_prior.τ2))\n",
    "    return hs_prior\n",
    "end"
   ]
  },
  {
   "cell_type": "code",
   "execution_count": 18,
   "metadata": {},
   "outputs": [
    {
     "data": {
      "text/plain": [
       "get_σ2 (generic function with 1 method)"
      ]
     },
     "execution_count": 18,
     "metadata": {},
     "output_type": "execute_result"
    }
   ],
   "source": [
    "function get_σ2(hs_prior::HS_prior)\n",
    "    return hs_prior.λ2 * hs_prior.τ2\n",
    "end"
   ]
  },
  {
   "cell_type": "code",
   "execution_count": 19,
   "metadata": {},
   "outputs": [
    {
     "data": {
      "text/plain": [
       "compute_configT (generic function with 2 methods)"
      ]
     },
     "execution_count": 19,
     "metadata": {},
     "output_type": "execute_result"
    }
   ],
   "source": [
    "function compute_configT(hs_prior::HS_prior, samples_params, samples_hyperparams, idx, X, y)\n",
    "    d, Nobs = size(X)\n",
    "    n_samples = size(samples_params,1)\n",
    "    configT = 0.0\n",
    "    for i in 1:n_samples\n",
    "        σ2 = vcat(hs_prior.σ02, samples_hyperparams[i,1:d-1]*samples_hyperparams[i,d])\n",
    "        configT += samples_params[i,idx]*derivative_full(X, y, samples_params[i,:], idx, Nobs, σ2[idx])\n",
    "    end\n",
    "    return configT/n_samples\n",
    "end"
   ]
  },
  {
   "cell_type": "code",
   "execution_count": 67,
   "metadata": {},
   "outputs": [
    {
     "data": {
      "text/plain": [
       "Gibbs_zigzag (generic function with 1 method)"
      ]
     },
     "execution_count": 67,
     "metadata": {},
     "output_type": "execute_result"
    }
   ],
   "source": [
    "function Gibbs_zigzag(hs_prior::HS_prior, \n",
    "                      params_initial::Array{Float64},\n",
    "                      X::Array{Float64}, \n",
    "                      y::Array{Float64}, \n",
    "                      mb_size::Int64, \n",
    "                      n_samples::Int64,\n",
    "                      κ::Float64, \n",
    "                      control_variates::Bool) \n",
    "    d, Nobs = size(X)\n",
    "    θ = ones(d)\n",
    "    ξ = copy(params_initial)\n",
    "    samples_params = zeros(n_samples, d)\n",
    "    samples_hyperparams = zeros(n_samples, 2d)\n",
    "    bounces, abounces = zeros(n_samples), zeros(n_samples)\n",
    "    \n",
    "    runtime_param = 0\n",
    "    runtime_hyperparam = 0\n",
    "    \n",
    "    @showprogress for iter in 1:n_samples\n",
    "        start = time()\n",
    "        σ2 = vcat(hs_prior.σ02, get_σ2(hs_prior))\n",
    "        \n",
    "#         max_times = κ*vcat(1e-1, get_σ2(hs_prior))\n",
    "#         ξ, θ, bounces[iter,:], abounces[iter,:] = block_Gibbs_update_params(X, y, mb_size, max_times, ξ, θ, σ2)\n",
    "        max_time = κ*mean(σ2[2:end])\n",
    "        ξ, θ, abounces[iter], bounces[iter] = ZZ_dominated_Hessian(X, y, max_time, 200, ξ, θ, σ2) \n",
    "        \n",
    "        samples_params[iter,:] = ξ\n",
    "        runtime_param += time() - start\n",
    "        start = time()\n",
    "        hs_prior = block_Gibbs_update_hyperparams(hs_prior, ξ[2:end])\n",
    "        samples_hyperparams[iter,:] = vcat(hs_prior.λ2, hs_prior.τ2, hs_prior.ν, hs_prior.γ)\n",
    "        runtime_hyperparam += time() - start\n",
    "    end\n",
    "    return samples_params, samples_hyperparams, bounces, abounces, runtime_param, runtime_hyperparam\n",
    "end"
   ]
  },
  {
   "cell_type": "code",
   "execution_count": 68,
   "metadata": {
    "collapsed": true
   },
   "outputs": [],
   "source": [
    "d, Nobs = 10^2, 10^3\n",
    "mb_size = 100\n",
    "X = rand(Uniform(0.9,1), 1+d, Nobs)\n",
    "X[1,:] = ones(Nobs);\n",
    "y = rand(Binomial(), Nobs) + 0.\n",
    "hs_prior = HS_prior(d, 10^4, rand(d), rand(), rand(d), rand())\n",
    "params_initial = rand(Normal(), d+1)/10;"
   ]
  },
  {
   "cell_type": "code",
   "execution_count": 69,
   "metadata": {
    "collapsed": true
   },
   "outputs": [],
   "source": [
    "ϵ = 1e-5\n",
    "weights = abs.(X) + ϵ;"
   ]
  },
  {
   "cell_type": "code",
   "execution_count": 75,
   "metadata": {},
   "outputs": [
    {
     "name": "stderr",
     "output_type": "stream",
     "text": [
      "\u001b[32mProgress: 100%|█████████████████████████████████████████| Time: 0:15:50\u001b[39m\n"
     ]
    }
   ],
   "source": [
    "control_variates = false\n",
    "n_samples, discard = 10_000, 5_000\n",
    "samples_params, samples_hyperparams, bounces, abounces, runtime_param, runtime_hyperparam = \n",
    "Gibbs_zigzag(hs_prior, params_initial, X, y, mb_size, n_samples, 1e0, control_variates);"
   ]
  },
  {
   "cell_type": "code",
   "execution_count": 76,
   "metadata": {
    "scrolled": true
   },
   "outputs": [
    {
     "data": {
      "text/plain": [
       "(192.4673, 31.945, 16.597624635457557)"
      ]
     },
     "execution_count": 76,
     "metadata": {},
     "output_type": "execute_result"
    }
   ],
   "source": [
    "mean(abounces), mean(bounces), mean(bounces)/mean(abounces)*100"
   ]
  },
  {
   "cell_type": "code",
   "execution_count": 77,
   "metadata": {},
   "outputs": [
    {
     "data": {
      "text/plain": [
       "(944.7626073360443, 1.3263905048370361)"
      ]
     },
     "execution_count": 77,
     "metadata": {},
     "output_type": "execute_result"
    }
   ],
   "source": [
    "runtime_param, runtime_hyperparam"
   ]
  },
  {
   "cell_type": "code",
   "execution_count": 78,
   "metadata": {},
   "outputs": [],
   "source": [
    "maxlag = 100\n",
    "freq = 10\n",
    "store = Int64.(freq*(1:maxlag/freq))\n",
    "acf_param, acf_hyperparam = zeros(d+1, maxlag+1), zeros(2d+2, maxlag+1)\n",
    "for idx in 1:d+1 \n",
    "    acf_param[idx, :] = acf(samples_params[discard:end,idx],maxlag)\n",
    "end\n",
    "for idx in 1:2d+2 \n",
    "    acf_hyperparam[idx, :] = acf(samples_hyperparams[discard:end,idx],maxlag)\n",
    "end\n",
    "\n",
    "acfs_params, acfs_hyperparams = [], []\n",
    "for lag in store \n",
    "    push!(acfs_params, acf_param[:,lag])\n",
    "    push!(acfs_hyperparams, acf_hyperparam[:,lag])\n",
    "end"
   ]
  },
  {
   "cell_type": "code",
   "execution_count": 79,
   "metadata": {},
   "outputs": [
    {
     "data": {
      "image/png": "[encoded data removed]",
      "text/plain": [
       "PyPlot.Figure(PyObject <Figure size 1200x250 with 2 Axes>)"
      ]
     },
     "metadata": {},
     "output_type": "display_data"
    }
   ],
   "source": [
    "fig = figure(\"pyplot_subplot_mixed\", figsize=(12,2.5))\n",
    "\n",
    "a, b = -0.1, 1.1\n",
    "subplot(121)\n",
    "boxplot(acfs_params, showfliers=false)\n",
    "grid(alpha=0.35)\n",
    "xlabel(\"Lag\", fontsize=10)\n",
    "ylabel(\"ACF\", fontsize=10)\n",
    "xticks(1:maxlag/freq, store)\n",
    "ylim([a,b])\n",
    "title(\"ACF's for parameters\", fontsize=11)\n",
    "\n",
    "subplot(122)\n",
    "boxplot(acfs_hyperparams, showfliers=false)\n",
    "grid(alpha=0.35)\n",
    "xlabel(\"Lag\", fontsize=10)\n",
    "ylabel(\"ACF\", fontsize=10)\n",
    "xticks(1:maxlag/freq, store)\n",
    "ylim([a,b])\n",
    "title(\"ACF's for hyperparameters\", fontsize=11);"
   ]
  },
  {
   "cell_type": "code",
   "execution_count": null,
   "metadata": {
    "collapsed": true
   },
   "outputs": [],
   "source": []
  },
  {
   "cell_type": "code",
   "execution_count": null,
   "metadata": {
    "collapsed": true
   },
   "outputs": [],
   "source": []
  },
  {
   "cell_type": "code",
   "execution_count": null,
   "metadata": {
    "collapsed": true
   },
   "outputs": [],
   "source": []
  }
 ],
 "metadata": {
  "kernelspec": {
   "display_name": "Julia 0.6.4",
   "language": "julia",
   "name": "julia-0.6"
  },
  "language_info": {
   "file_extension": ".jl",
   "mimetype": "application/julia",
   "name": "julia",
   "version": "0.6.4"
  }
 },
 "nbformat": 4,
 "nbformat_minor": 2
}
