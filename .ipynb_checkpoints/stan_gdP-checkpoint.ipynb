{
 "cells": [
  {
   "cell_type": "code",
   "execution_count": 1,
   "metadata": {
    "collapsed": true
   },
   "outputs": [],
   "source": [
    "import numpy as np, pandas as pd, pystan as ps, numpy.random as npr, matplotlib.pyplot as plt, h5py\n",
    "%matplotlib inline \n",
    "from time import time\n",
    "from pylab import plot, show, legend\n",
    "from scipy.stats import pearsonr, spearmanr, norm, invgamma"
   ]
  },
  {
   "cell_type": "code",
   "execution_count": 2,
   "metadata": {},
   "outputs": [
    {
     "name": "stderr",
     "output_type": "stream",
     "text": [
      "INFO:pystan:COMPILING THE C++ CODE FOR MODEL anon_model_bf1f70352a45ebcc131d582eff912e1a NOW.\n"
     ]
    }
   ],
   "source": [
    "sm_gdP = ps.StanModel(file=\"gdP_logistic.stan\") "
   ]
  },
  {
   "cell_type": "code",
   "execution_count": 3,
   "metadata": {
    "collapsed": true
   },
   "outputs": [],
   "source": [
    "data = h5py.File(\"GZZ_data.jld\", \"r\")\n",
    "X = data[\"X\"].value\n",
    "y = data[\"y\"].value\n",
    "ξ_true = data[\"xi_true\"].value\n",
    "d, Nobs = np.shape(X.transpose())\n",
    "\n",
    "data = dict(N=Nobs, d=d, y=y.astype(int), X=X)"
   ]
  },
  {
   "cell_type": "code",
   "execution_count": 4,
   "metadata": {},
   "outputs": [
    {
     "name": "stderr",
     "output_type": "stream",
     "text": [
      "WARNING:pystan:Skipping check of divergent transitions (divergence)\n",
      "WARNING:pystan:Skipping check of transitions ending prematurely due to maximum tree depth limit (treedepth)\n"
     ]
    },
    {
     "name": "stdout",
     "output_type": "stream",
     "text": [
      "15.09 mins to run\n",
      "Inference for Stan model: anon_model_bf1f70352a45ebcc131d582eff912e1a.\n",
      "4 chains, each with iter=5000; warmup=2500; thin=1; \n",
      "post-warmup draws per chain=2500, total post-warmup draws=10000.\n",
      "\n",
      "             mean se_mean     sd   2.5%    25%    50%    75%  97.5%  n_eff   Rhat\n",
      "xi[1]       -0.09  5.0e-3   0.33  -0.72  -0.31   -0.1   0.13   0.55   4280    1.0\n",
      "xi[2]       -0.12  7.2e-3   0.62  -1.63  -0.33  -0.04   0.14   1.11   7422    1.0\n",
      "xi[3]       -0.06    0.02   1.27  -2.89  -0.32-2.8e-3    0.3   2.33   6916    1.0\n",
      "xi[4]       -1.23    0.04   2.68   -9.4  -1.42  -0.25   0.05   1.07   3670    1.0\n",
      "xi[5]        0.08  6.1e-3   0.49  -0.81  -0.15   0.02   0.26   1.21   6588    1.0\n",
      "xi[6]       -0.14  6.5e-3   0.56   -1.5  -0.35  -0.05   0.12    0.9   7366    1.0\n",
      "xi[7]        1.48    0.06   3.16  -0.78-4.2e-3   0.39   1.79   9.59   3157    1.0\n",
      "xi[8]        0.72    0.02   1.17  -0.64-7.8e-3   0.31   1.16   3.87   4510    1.0\n",
      "xi[9]        0.49    0.02   0.99  -0.68  -0.04   0.17   0.73   3.18   3252    1.0\n",
      "xi[10]      -0.22    0.02   1.33   -3.4  -0.42  -0.04    0.2   1.81   5459    1.0\n",
      "xi[11]      -0.37    0.01   0.61   -2.0  -0.61   -0.2 9.4e-3   0.46   3550    1.0\n",
      "xi[12]     3.4e-3  9.6e-3   0.89  -1.95  -0.24   0.01   0.27   1.83   8509    1.0\n",
      "xi[13]      27.76    1.09  52.62   0.05   4.01  11.65  31.05 151.62   2331    1.0\n",
      "xi[14]       6.44    0.17   9.76  -0.09   1.24   3.43   7.41  34.41   3293    1.0\n",
      "xi[15]       0.18    0.01    1.0  -1.49  -0.19   0.04   0.37   2.65   6774    1.0\n",
      "xi[16]       -0.4    0.01   0.87  -2.73  -0.68  -0.15   0.06   0.81   5013    1.0\n",
      "xi[17]      -0.34  8.9e-3   0.65  -2.02  -0.59  -0.16   0.04    0.6   5385    1.0\n",
      "xi[18]       0.05  8.1e-3   0.76  -1.47  -0.21   0.01    0.3   1.85   8906    1.0\n",
      "xi[19]       5.43    0.41  12.84  -0.05   1.04   2.51   5.41  27.86    984   1.01\n",
      "xi[20]       0.12  5.8e-3   0.52  -0.82  -0.12   0.05   0.31   1.41   7996    1.0\n",
      "xi[21]       1.99    0.05    2.7  -0.39   0.16   1.09    2.9   9.29   3532    1.0\n",
      "xi[22]       -0.8    0.02   1.62  -5.18  -1.12  -0.26   0.02   0.75   4495    1.0\n",
      "xi[23]       0.81    0.01   0.95  -0.33   0.09   0.55   1.29   3.23   4029    1.0\n",
      "xi[24]       1.28    0.06   3.82  -1.16  -0.09   0.16   1.06   11.4   3713    1.0\n",
      "xi[25]        0.1  9.9e-3   0.84  -1.56  -0.21   0.03   0.34   2.13   7262    1.0\n",
      "xi[26]      -2.51    0.06   3.73 -12.86  -3.39  -1.13  -0.16   0.45   3361    1.0\n",
      "xi[27]      -0.87    0.03   1.64  -5.51  -1.22  -0.28   0.03   0.82   3781    1.0\n",
      "xi[28]      -0.06  9.2e-3   0.79  -1.91  -0.32  -0.01   0.24   1.57   7290    1.0\n",
      "xi[29]      -0.46    0.01   0.87   -2.8  -0.73  -0.19   0.03   0.62   3834    1.0\n",
      "xi[30]     -169.9   33.38  872.8  -1047 -81.73 -29.94 -13.63  -4.09    684   1.01\n",
      "xi[31]       0.02  6.6e-3   0.61  -1.31  -0.21 1.9e-3   0.25   1.36   8537    1.0\n",
      "xi[32]       0.15    0.01   0.93  -1.51  -0.19   0.03   0.38   2.46   7919    1.0\n",
      "xi[33]       1.01    0.03   1.41  -0.41   0.05   0.51   1.54   4.78   2460    1.0\n",
      "xi[34]      -0.62    0.05   2.42  -6.24  -0.61  -0.08   0.14   1.49   2285    1.0\n",
      "xi[35]       0.25  9.5e-3   0.73   -0.9   -0.1   0.08   0.47   2.21   5854    1.0\n",
      "xi[36]       -0.2    0.01   0.78  -2.19  -0.43  -0.05   0.15   1.11   5911    1.0\n",
      "xi[37]       0.01  6.6e-3   0.62  -1.37  -0.22 7.1e-3   0.26   1.36   8791    1.0\n",
      "xi[38]       0.45    0.01   1.03  -0.93  -0.07   0.14    0.7   3.35   5736    1.0\n",
      "xi[39]      -0.66    0.02   1.48  -4.73  -0.93  -0.19   0.06   1.02   5103    1.0\n",
      "xi[40]     -10.72    0.37  15.53 -50.59  -13.2  -6.18  -2.26   0.09   1786    1.0\n",
      "xi[41]      -0.03  7.5e-3   0.64  -1.44  -0.27  -0.01   0.21   1.34   7407    1.0\n",
      "xi[42]      -1.57    0.04   2.23  -7.52  -2.34  -0.71  -0.08   0.45   3164    1.0\n",
      "xi[43]      -1.11    0.04    2.5  -7.24  -1.29  -0.33 2.6e-3   0.59   3188    1.0\n",
      "xi[44]        0.1  7.1e-3   0.57  -0.96  -0.16   0.03   0.29   1.49   6531    1.0\n",
      "xi[45]     1.6e-3  8.8e-3   0.73  -1.42  -0.27-9.7e-3   0.23   1.65   6804    1.0\n",
      "xi[46]       0.49    0.01   0.95  -0.67  -0.04   0.18   0.77   3.09   4059    1.0\n",
      "xi[47]       -0.6    0.02   1.15  -3.75  -0.91  -0.22   0.03   0.68   4118    1.0\n",
      "xi[48]       -0.3  8.9e-3   0.63  -1.96  -0.52  -0.14   0.05   0.61   4951    1.0\n",
      "xi[49]       0.59    0.02   0.97  -0.51-9.3e-5   0.27    0.9   3.22   3940    1.0\n",
      "xi[50]      -0.05  5.2e-3   0.46  -1.11  -0.24  -0.02   0.15    0.9   7862    1.0\n",
      "lambda[1]    1.26    0.01   1.06   0.11   0.49   0.97   1.72   4.04   5923    1.0\n",
      "lambda[2]    1.13    0.02    1.0   0.08   0.41   0.83   1.55   3.75   4289    1.0\n",
      "lambda[3]    0.96    0.01   0.98   0.03   0.26   0.65   1.34   3.59   4934    1.0\n",
      "lambda[4]     1.3    0.01   1.03   0.12   0.56   1.04   1.74   3.94   6226    1.0\n",
      "lambda[5]    1.26    0.01   1.04   0.11   0.51   0.98   1.68   3.98   6892    1.0\n",
      "lambda[6]    0.92    0.01   0.96   0.04   0.25    0.6   1.27   3.47   5452    1.0\n",
      "lambda[7]    1.02    0.01   0.98   0.06   0.33   0.72   1.39   3.71   6377    1.0\n",
      "lambda[8]    1.15    0.01   1.01   0.09   0.42   0.85   1.57   3.82   6295    1.0\n",
      "lambda[9]    1.13    0.01   1.02   0.08   0.41   0.82   1.54   3.84   4707    1.0\n",
      "lambda[10]    1.2    0.01   1.03   0.12   0.47   0.91   1.62   3.97   5808    1.0\n",
      "lambda[11]   1.19    0.01   1.03    0.1   0.46   0.91   1.61   3.91   6854    1.0\n",
      "lambda[12]   0.18  8.4e-3   0.39 2.7e-3   0.02   0.05   0.16   1.31   2200    1.0\n",
      "lambda[13]   0.41  8.1e-3   0.61 8.6e-3   0.07   0.18   0.47   2.17   5768    1.0\n",
      "lambda[14]   1.18    0.02   1.04   0.08   0.43   0.87    1.6   3.93   4664    1.0\n",
      "lambda[15]   1.13    0.01   1.01   0.09   0.42   0.84   1.53   3.86   5456    1.0\n",
      "lambda[16]   1.21    0.01   1.04    0.1   0.47   0.91   1.63   4.04   6203    1.0\n",
      "lambda[17]   1.23    0.01   1.04    0.1   0.47   0.93   1.66   3.92   5748    1.0\n",
      "lambda[18]   0.45  8.0e-3   0.65   0.01   0.09   0.22   0.53   2.27   6665    1.0\n",
      "lambda[19]   1.29    0.01   1.05   0.12   0.54   1.01   1.73   3.98   6478    1.0\n",
      "lambda[20]   0.75    0.01   0.87   0.03   0.19   0.44   0.97   3.25   6178    1.0\n",
      "lambda[21]   1.01    0.01   0.96   0.06   0.33   0.71   1.38    3.6   5315    1.0\n",
      "lambda[22]   0.95    0.01   0.92   0.06   0.31   0.65   1.27   3.51   7190    1.0\n",
      "lambda[23]   0.99    0.01   0.98   0.04   0.29   0.69   1.36   3.64   4664    1.0\n",
      "lambda[24]   1.17    0.01   1.02   0.09   0.44   0.88   1.61   3.85   5917    1.0\n",
      "lambda[25]   0.71    0.01   0.84   0.02   0.15    0.4   0.95    3.0   6148    1.0\n",
      "lambda[26]   0.99    0.01   0.98   0.05   0.31   0.68   1.34   3.65   5087    1.0\n",
      "lambda[27]   1.18    0.01   1.02    0.1   0.46   0.89   1.59   3.88   6296    1.0\n",
      "lambda[28]   1.14    0.01   1.01    0.1   0.43   0.85   1.55   3.88   6251    1.0\n",
      "lambda[29]   0.04  1.4e-3   0.07 4.2e-4 6.3e-3   0.02   0.05   0.22   2266    1.0\n",
      "lambda[30]   1.26    0.01   1.08   0.12    0.5   0.97    1.7   4.11   5364    1.0\n",
      "lambda[31]   1.17    0.01   1.04    0.1   0.45   0.88   1.57    3.9   5245    1.0\n",
      "lambda[32]   0.94    0.01   0.92   0.06    0.3   0.64   1.25   3.47   5485    1.0\n",
      "lambda[33]   1.09    0.01   1.02   0.06   0.36   0.79   1.49    3.8   5148    1.0\n",
      "lambda[34]   1.21    0.01   1.04   0.11   0.46    0.9   1.65   3.98   6765    1.0\n",
      "lambda[35]   1.18    0.01   1.03   0.11   0.45   0.87   1.59   3.99   6139    1.0\n",
      "lambda[36]   1.25    0.01   1.02   0.12   0.51   0.97   1.69   4.01   6134    1.0\n",
      "lambda[37]    1.1    0.01   0.99   0.07    0.4   0.82   1.49   3.64   5187    1.0\n",
      "lambda[38]   1.07    0.01    1.0   0.06   0.35   0.76   1.48   3.71   5397    1.0\n",
      "lambda[39]   0.32    0.01   0.61 7.2e-3   0.04    0.1   0.29   2.15   3569    1.0\n",
      "lambda[40]   1.23    0.01   1.04   0.11   0.49   0.94   1.67   4.01   5949    1.0\n",
      "lambda[41]   0.83    0.01   0.88   0.04   0.23   0.53   1.13    3.3   5903    1.0\n",
      "lambda[42]    1.0    0.01    1.0   0.05    0.3   0.68   1.36   3.73   5595    1.0\n",
      "lambda[43]   1.27    0.01   1.03   0.13   0.54    1.0   1.73   3.88   5899    1.0\n",
      "lambda[44]   1.22    0.01   1.01   0.11   0.48   0.94   1.64   3.88   6845    1.0\n",
      "lambda[45]   1.12    0.01    1.0   0.08   0.42   0.83   1.51   3.86   6156    1.0\n",
      "lambda[46]   1.07    0.01   0.97   0.08   0.38   0.79   1.46   3.64   6663    1.0\n",
      "lambda[47]    1.2    0.01   1.03    0.1   0.47    0.9   1.63   3.95   5499    1.0\n",
      "lambda[48]   1.08    0.01   0.99   0.08   0.39   0.79   1.44   3.71   5794    1.0\n",
      "lambda[49]   1.31    0.01   1.07   0.12   0.54   1.04   1.79   4.08   5974    1.0\n",
      "tau[1]      21.21    3.44 327.18   0.02   0.31   1.19   4.91  92.24   9025    1.0\n",
      "tau[2]      40.83    6.77 602.05   0.02   0.39   1.75   8.15 189.64   7911    1.0\n",
      "tau[3]     196.94   27.78 2630.5   0.03   0.57   3.05  22.37 1065.9   8967    1.0\n",
      "tau[4]      97.21   80.84 4053.6   0.02   0.28   1.01   3.89   76.1   2515    1.0\n",
      "tau[5]      34.73   13.85 1334.9   0.02    0.3   1.19   4.74  80.06   9293    1.0\n",
      "tau[6]     212.72   43.86 4244.3   0.04   0.72   3.81  24.57 741.82   9363    1.0\n",
      "tau[7]       54.1    5.11 473.16   0.03   0.57   2.58  13.17 362.07   8565    1.0\n",
      "tau[8]      47.48   10.68 953.44   0.02   0.41   1.68    7.3  186.8   7973    1.0\n",
      "tau[9]      34.13    5.55 514.48   0.02    0.4   1.79   7.82 179.63   8602    1.0\n",
      "tau[10]     16.33    2.34 228.83   0.02   0.35   1.38   5.46  86.24   9570    1.0\n",
      "tau[11]     49.03   25.26 1744.5   0.02   0.33   1.44    6.2  128.6   4768    1.0\n",
      "tau[12]     6.7e4   1.8e4  1.3e6    0.8  83.39 684.77 5111.9  2.0e5   4859    1.0\n",
      "tau[13]    9238.6  4087.5  2.9e5   0.16   8.47  62.07 399.93  1.8e4   4943    1.0\n",
      "tau[14]     69.21   35.09 3493.7   0.02   0.36   1.51    6.8 157.58   9913    1.0\n",
      "tau[15]     40.82    9.97 924.49   0.03    0.4   1.75   7.49 153.76   8594    1.0\n",
      "tau[16]     28.82    5.57 549.52   0.02   0.35   1.38   5.93 102.91   9727    1.0\n",
      "tau[17]     29.19    7.15 477.35   0.02   0.33    1.3   5.38  108.3   4461    1.0\n",
      "tau[18]    1828.6  303.23  1.7e4   0.18   6.48  38.67  231.8 9797.9   3064    1.0\n",
      "tau[19]     15.01    2.22 190.22   0.02    0.3    1.1   4.16  74.82   7374    1.0\n",
      "tau[20]    392.07   99.77 9776.0   0.05   1.38   8.73  49.37 1339.7   9600    1.0\n",
      "tau[21]     71.29    8.05 703.52   0.03   0.55   2.55   13.8 373.24   7633    1.0\n",
      "tau[22]     86.28   26.57 2654.7   0.04   0.72   3.26  14.48 307.65   9983    1.0\n",
      "tau[23]     507.0  247.27  1.2e4   0.03   0.53   2.68  16.97 1019.0   2232    1.0\n",
      "tau[24]     34.22    7.61 589.32   0.02   0.36   1.48   6.44 143.99   5990    1.0\n",
      "tau[25]    472.58   66.26 6148.6   0.05   1.44  10.54   73.3 2378.3   8611    1.0\n",
      "tau[26]    297.53  160.79  1.6e4   0.03   0.56   2.73  14.81 408.71   9963    1.0\n",
      "tau[27]     36.33   11.31 962.15   0.02   0.38   1.49   5.91 118.31   7233    1.0\n",
      "tau[28]     44.12   11.99 911.25   0.02   0.38   1.67   7.08  133.4   5774    1.0\n",
      "tau[29]     7.2e7   6.2e7  3.1e9  53.11 872.88 5179.2  4.3e4  1.1e7   2493    1.0\n",
      "tau[30]     23.31    7.52 655.82   0.02   0.31   1.19   4.82  91.22   7603    1.0\n",
      "tau[31]     66.43   28.71 2865.9   0.02   0.38   1.51   6.37 130.69   9964    1.0\n",
      "tau[32]    227.59   155.2  1.6e4   0.04   0.74   3.68  16.56 323.98  10009    1.0\n",
      "tau[33]    106.87   22.66 1690.7   0.03   0.46   1.93   10.2 433.93   5568    1.0\n",
      "tau[34]     32.43   11.53 1138.4   0.02   0.34   1.39   5.67 103.41   9747    1.0\n",
      "tau[35]     27.83    7.35 451.56   0.02   0.38   1.51   6.23 116.15   3774    1.0\n",
      "tau[36]      20.6    6.38 626.83   0.02   0.32   1.16   4.56  78.63   9661    1.0\n",
      "tau[37]     47.81    7.58 670.06   0.03   0.43   1.74   8.54 234.26   7823    1.0\n",
      "tau[38]    202.77   82.42 7781.0   0.03   0.47   2.22  11.72 311.98   8912    1.0\n",
      "tau[39]    5484.3  713.78  6.5e4    0.2  25.27 198.35 1074.6  2.8e4   8331    1.0\n",
      "tau[40]      22.5    4.26 391.43   0.02   0.31   1.22   5.05  89.85   8458    1.0\n",
      "tau[41]    174.49   41.49 3397.9   0.04   0.94   5.53   29.8 680.22   6706    1.0\n",
      "tau[42]    201.26   56.02 5494.4   0.02   0.54   2.83  16.03  697.8   9619    1.0\n",
      "tau[43]     17.86    3.66 353.32   0.02   0.31   1.07   4.26  75.51   9324    1.0\n",
      "tau[44]     23.96    4.69  305.2   0.02   0.32   1.25   5.25  94.34   4243    1.0\n",
      "tau[45]     27.01    2.38 203.87   0.03   0.42   1.75   7.71 162.17   7315    1.0\n",
      "tau[46]     37.76    4.04 363.29   0.03   0.45   2.08   9.74 202.65   8106    1.0\n",
      "tau[47]     31.85   11.12 535.81   0.02   0.35   1.37    5.9 124.06   2320    1.0\n",
      "tau[48]     39.79     6.7 645.86   0.02   0.47   2.02   9.07 162.72   9280    1.0\n",
      "tau[49]     12.22    1.21 107.63   0.02   0.26   0.95   3.78  77.08   7945    1.0\n",
      "sigma2       0.27  9.0e-3    0.3   0.02   0.08   0.17   0.34   1.07   1128    1.0\n",
      "lp__       -204.6     0.9  20.74 -243.6 -218.6 -205.7 -190.8 -161.6    534   1.01\n",
      "\n",
      "Samples were drawn using HMC at Fri Mar 15 20:34:01 2019.\n",
      "For each parameter, n_eff is a crude measure of effective sample size,\n",
      "and Rhat is the potential scale reduction factor on split chains (at \n",
      "convergence, Rhat=1).\n"
     ]
    }
   ],
   "source": [
    "start = time()\n",
    "fit_gdP = sm_gdP.sampling(data=data, thin=1, n_jobs=4, init=\"random\", iter=5_000, algorithm=\"HMC\")\n",
    "print(round((time()-start)/60, 2), \"mins to run\")\n",
    "print(fit_gdP);"
   ]
  },
  {
   "cell_type": "code",
   "execution_count": 11,
   "metadata": {},
   "outputs": [],
   "source": [
    "trace = fit_gdP.extract()\n",
    "xi_samples = trace[\"xi\"]"
   ]
  },
  {
   "cell_type": "code",
   "execution_count": 12,
   "metadata": {},
   "outputs": [
    {
     "data": {
      "text/plain": [
       "(10000, 50)"
      ]
     },
     "execution_count": 12,
     "metadata": {},
     "output_type": "execute_result"
    }
   ],
   "source": [
    "np.shape(xi_samples)"
   ]
  },
  {
   "cell_type": "code",
   "execution_count": 14,
   "metadata": {},
   "outputs": [],
   "source": [
    "cover = np.zeros(d)\n",
    "ci = np.zeros((d,2))\n",
    "for i in range(d) :\n",
    "    ci[i,:] = np.percentile(xi_samples[:,i], q=[5, 95])\n",
    "    cover[i] = (ci[i,0]<ξ_true[i])&(ξ_true[i]<ci[i,1])"
   ]
  },
  {
   "cell_type": "code",
   "execution_count": 16,
   "metadata": {},
   "outputs": [
    {
     "data": {
      "text/plain": [
       "98.0"
      ]
     },
     "execution_count": 16,
     "metadata": {},
     "output_type": "execute_result"
    }
   ],
   "source": [
    "100*np.mean(cover)"
   ]
  },
  {
   "cell_type": "code",
   "execution_count": 19,
   "metadata": {},
   "outputs": [
    {
     "data": {
      "text/plain": [
       "[<matplotlib.lines.Line2D at 0x7f12b47c3390>]"
      ]
     },
     "execution_count": 19,
     "metadata": {},
     "output_type": "execute_result"
    },
    {
     "data": {
      "image/png": "[encoded data removed]",
      "text/plain": [
       "<Figure size 432x288 with 1 Axes>"
      ]
     },
     "metadata": {},
     "output_type": "display_data"
    }
   ],
   "source": [
    "plt.plot(ci[:,0])\n",
    "plt.plot(ci[:,1])"
   ]
  },
  {
   "cell_type": "code",
   "execution_count": null,
   "metadata": {
    "collapsed": true
   },
   "outputs": [],
   "source": []
  }
 ],
 "metadata": {
  "kernelspec": {
   "display_name": "Python 3",
   "language": "python",
   "name": "python3"
  },
  "language_info": {
   "codemirror_mode": {
    "name": "ipython",
    "version": 3
   },
   "file_extension": ".py",
   "mimetype": "text/x-python",
   "name": "python",
   "nbconvert_exporter": "python",
   "pygments_lexer": "ipython3",
   "version": "3.6.2"
  }
 },
 "nbformat": 4,
 "nbformat_minor": 2
}
