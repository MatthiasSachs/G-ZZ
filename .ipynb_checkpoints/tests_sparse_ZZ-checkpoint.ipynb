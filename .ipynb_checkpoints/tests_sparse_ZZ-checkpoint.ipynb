{
 "cells": [
  {
   "cell_type": "code",
   "execution_count": 1,
   "metadata": {
    "collapsed": true
   },
   "outputs": [],
   "source": [
    "using Distributions, TimeIt, ProgressMeter, PyPlot"
   ]
  },
  {
   "cell_type": "code",
   "execution_count": 11,
   "metadata": {},
   "outputs": [
    {
     "data": {
      "text/plain": [
       "get_clustering (generic function with 1 method)"
      ]
     },
     "execution_count": 11,
     "metadata": {},
     "output_type": "execute_result"
    }
   ],
   "source": [
    "include(\"zz_structures.jl\")\n",
    "include(\"mbsampler.jl\")"
   ]
  },
  {
   "cell_type": "code",
   "execution_count": 12,
   "metadata": {},
   "outputs": [
    {
     "data": {
      "text/plain": [
       "gaussian_prior_nh([0.0, 0.0, 0.0, 0.0, 0.0, 0.0, 0.0, 0.0, 0.0, 0.0], [6.90606, 2.52684, 3.22463, 7.14057, 0.147372, 8.15636, 2.88279, 8.45549, 5.19253, 6.38532])"
      ]
     },
     "execution_count": 12,
     "metadata": {},
     "output_type": "execute_result"
    }
   ],
   "source": [
    "d, Nobs = 10, 100\n",
    "p = 1e-1\n",
    "X = sprandn(d, Nobs, 1e-1)\n",
    "X[1,:] = ones(Nobs)\n",
    "ξ_true = rand(Normal(),d).* rand(Binomial(1,0.5), d)\n",
    "ξ_true[1] = rand(Normal())\n",
    "y = [rand(Binomial(1, 1/(1+exp(-ξ_true'X[:,j]))), 1)[1] + 0. for j in 1:Nobs];\n",
    "mb_size = 10\n",
    "σ02 = 1\n",
    "\n",
    "# prior = HS_prior(d, σ02)\n",
    "# prior = GDP_prior(d, σ02)\n",
    "prior = gaussian_prior_nh(zeros(d), 10*rand(d))"
   ]
  },
  {
   "cell_type": "code",
   "execution_count": 13,
   "metadata": {
    "collapsed": true
   },
   "outputs": [],
   "source": [
    "my_ll = ll_logistic_sp(X,y);\n",
    "my_model = model(my_ll, prior)\n",
    "root = find_root(my_model, rand(d));"
   ]
  },
  {
   "cell_type": "raw",
   "metadata": {
    "collapsed": true
   },
   "source": [
    "# Sub-sampling with weights and no CV\n",
    "\n",
    "weights_het = spzeros(d, Nobs)\n",
    "for i in 1:d \n",
    "    nzind = X[i,:].nzind\n",
    "    weights_het[i,nzind] = abs.(X[i,nzind])./sum(abs.(X[i,nzind]))\n",
    "end\n",
    "\n",
    "prob_het = 0.9\n",
    "gs = Array{mbsampler}(d)\n",
    "gs[1] = umbsampler(Nobs, mb_size)\n",
    "for i in 2:d \n",
    "    gs[i] = spwumbsampler(Nobs, mb_size, weights_het[i,:], prob_het)\n",
    "#     gs[i] = umbsampler(Nobs, mb_size)\n",
    "end\n",
    "gs_list = mbsampler_list(d,gs);"
   ]
  },
  {
   "cell_type": "code",
   "execution_count": 23,
   "metadata": {},
   "outputs": [
    {
     "name": "stderr",
     "output_type": "stream",
     "text": [
      "\u001b[32mProgress: 100%|█████████████████████████████████████████| Time: 0:00:00\u001b[39m\n"
     ]
    }
   ],
   "source": [
    "# Sub-sampling with weights and with CV \n",
    "\n",
    "norm_Xj = [norm(X[:,j]) for j in 1:Nobs]\n",
    "weights_het = spzeros(d, Nobs)\n",
    "for i in 1:d \n",
    "    nz_ind = X[i,:].nzind\n",
    "    weights_het[i,nz_ind] = abs.(X[i,nz_ind]).*norm_Xj[nz_ind] \n",
    "    weights_het[i,nz_ind] /= sum(weights_het[i,nz_ind])\n",
    "end\n",
    "\n",
    "prob_het = 1\n",
    "mbs = Array{mbsampler}(d)\n",
    "mbs[1] = umbsampler(Nobs, mb_size)\n",
    "for i in 2:d \n",
    "    mbs[i] = spwumbsampler(Nobs, mb_size, weights_het[i,:], prob_het)\n",
    "#     mbs[i] = umbsampler(Nobs, mb_size)\n",
    "end\n",
    "gs_list = cvmbsampler_list(my_model, mbs, root, true);"
   ]
  },
  {
   "cell_type": "raw",
   "metadata": {},
   "source": [
    "# Stratified sub-sampling without CV and with weights \n",
    "\n",
    "weights = sparse(abs.(X))\n",
    "for i in 1:d \n",
    "    weights[i,:] /= sum(weights[i,:])\n",
    "end\n",
    "\n",
    "ll_pd_root_list = [partial_derivative_vec(my_model.ll, root, i, 1:Nobs) for i in 1:d]\n",
    "\n",
    "cmbsamplers = Array{mbsampler}(d)\n",
    "cmbsamplers[1] = umbsampler(Nobs, mb_size)\n",
    "N_cluster = mb_size\n",
    "\n",
    "for dim in 2:d\n",
    "    \n",
    "    N_cluster_d = min(N_cluster, length(ll_pd_root_list[dim].nzval))\n",
    "    #print(length(ll_pd_root_list[dim].nzval))\n",
    "    csamplers = Array{mbsampler}(N_cluster_d)\n",
    "    \n",
    "    clusters = get_clustering(N_cluster_d, ll_pd_root_list[dim].nzval)\n",
    "    for i in 1:N_cluster_d\n",
    "        clusters[i] =  ll_pd_root_list[dim].nzind[clusters[i]]\n",
    "    end\n",
    "    #print(clusters)\n",
    "    scp = ones(N_cluster_d)\n",
    "    for (ci, c) in enumerate(clusters)\n",
    "#         csamplers[ci] = umbsampler(size(c)[1], scp[ci])\n",
    "        csamplers[ci] = wumbsampler(size(c)[1], scp[ci], weights[dim,c])\n",
    "    end\n",
    "#     cmbsamplers[dim] = cmbsampler(csamplers, clusters, ones(Nobs)/Nobs)\n",
    "    cmbsamplers[dim] = spcmbsampler(csamplers, clusters, weights[dim,:])\n",
    "end\n",
    "gs_list = mbsampler_list(d,cmbsamplers);"
   ]
  },
  {
   "cell_type": "raw",
   "metadata": {
    "collapsed": true
   },
   "source": [
    "# Stratified sub-sampling with CV and with weights\n",
    "\n",
    "norm_Xj = [norm(X[:,j]) for j in 1:Nobs]\n",
    "weights_cv = spzeros(d, Nobs)\n",
    "for i in 1:d \n",
    "    nz_ind = X[i,:].nzind\n",
    "    weights_cv[i,nz_ind] = abs.(X[i,nz_ind]).*norm_Xj[nz_ind] \n",
    "    weights_cv[i,nz_ind] /= sum(weights_cv[i,nz_ind])\n",
    "end\n",
    "\n",
    "ll_pd_root_list = [partial_derivative_vec(my_model.ll, root, i, 1:Nobs) for i in 1:d]\n",
    "\n",
    "cmbsamplers = Array{mbsampler}(d)\n",
    "cmbsamplers[1] = umbsampler(Nobs, mb_size)\n",
    "N_cluster = mb_size\n",
    "#mode = \"wc\"\n",
    "\n",
    "for dim in 2:d\n",
    "    N_cluster_d = min(N_cluster, length(ll_pd_root_list[dim].nzval))\n",
    "    \n",
    "    csamplers = Array{mbsampler}(N_cluster_d)\n",
    "    #clusters = get_clustering_vec(ll_pd_root_list[dim], N_cluster_d, mode)\n",
    "    clusters = get_clustering(N_cluster_d, ll_pd_root_list[dim].nzval)\n",
    "    #clusters = get_clustering_vec(ll_pd_root_list[dim].nzval, N_cluster_d, mode)\n",
    "    for i in 1:N_cluster_d\n",
    "        clusters[i] =  ll_pd_root_list[dim].nzind[clusters[i]]\n",
    "    end\n",
    "\n",
    "    scp = ones(N_cluster_d)\n",
    "    for (ci, c) in enumerate(clusters)\n",
    "        \n",
    "        csamplers[ci] = wumbsampler(size(c)[1], scp[ci], weights_cv[dim,c])\n",
    "    end\n",
    "    #cmbsamplers[dim] = cmbsampler(csamplers, clusters, ones(Nobs)/Nobs)\n",
    "    cmbsamplers[dim] = spcmbsampler(csamplers, clusters, weights_cv[dim,:])\n",
    "end\n",
    "gs_list = cvmbsampler_list(my_model, cmbsamplers, root, true);"
   ]
  },
  {
   "cell_type": "code",
   "execution_count": 24,
   "metadata": {},
   "outputs": [],
   "source": [
    "A = eye(d)\n",
    "# A = ones(1,d)/d\n",
    "\n",
    "opf = projopf(A, 100, hyperparam_size(prior))\n",
    "opt = maxa_opt(10^6)\n",
    "outp = outputscheduler(opf,opt)\n",
    "bb = linear_bound(my_model.ll, my_model.pr, gs_list)\n",
    "mstate = zz_state(zeros(d), ones(d), ones(d), zeros(d), ones(d))\n",
    "update_bound(bb, my_ll, prior, gs_list, mstate)\n",
    "adapt_speed = true\n",
    "L = 2\n",
    "my_zz_sampler = zz_sampler(0, gs_list, bb, L, adapt_speed);"
   ]
  },
  {
   "cell_type": "code",
   "execution_count": 25,
   "metadata": {
    "scrolled": false
   },
   "outputs": [
    {
     "name": "stdout",
     "output_type": "stream",
     "text": [
      "10% attempts in 0.22 mins \n",
      "20% attempts in 0.44 mins \n",
      "30% attempts in 0.67 mins \n",
      "40% attempts in 0.88 mins \n",
      "50% attempts in 1.11 mins \n",
      "60% attempts in 1.33 mins \n",
      "70% attempts in 1.55 mins \n",
      "80% attempts in 1.73 mins \n",
      "90% attempts in 1.9 mins \n",
      "100% attempts in 2.1 mins \n",
      "2.1 mins"
     ]
    }
   ],
   "source": [
    "start = time()\n",
    "ZZ_sample(my_model, outp, my_zz_sampler, mstate)\n",
    "print( round((time()-start)/60, 2), \" mins\")"
   ]
  },
  {
   "cell_type": "code",
   "execution_count": 26,
   "metadata": {},
   "outputs": [
    {
     "data": {
      "text/plain": [
       "((10, 37237), (10, 37237))"
      ]
     },
     "execution_count": 26,
     "metadata": {},
     "output_type": "execute_result"
    }
   ],
   "source": [
    "size(outp.opf.alpha_skeleton), size(outp.opf.xi_skeleton)"
   ]
  },
  {
   "cell_type": "code",
   "execution_count": 27,
   "metadata": {},
   "outputs": [
    {
     "data": {
      "image/png": "[encoded data removed]",
      "text/plain": [
       "PyPlot.Figure(PyObject <Figure size 800x300 with 1 Axes>)"
      ]
     },
     "metadata": {},
     "output_type": "display_data"
    }
   ],
   "source": [
    "fig = figure(\"pyplot_barplot\",figsize=(8,3))\n",
    "for i in 1:d \n",
    "    plot((outp.opf.alpha_skeleton[i,:]))\n",
    "end\n",
    "title(\"Speeds\")\n",
    "xlabel(\"bounce\")\n",
    "grid(true)"
   ]
  },
  {
   "cell_type": "code",
   "execution_count": 28,
   "metadata": {
    "collapsed": true
   },
   "outputs": [],
   "source": [
    "discard = 1000\n",
    "n_samples = 10^4\n",
    "xi_samples = extract_samples(outp.opf.xi_skeleton[:,discard+1:end], \n",
    "                             outp.opf.bt_skeleton[:,discard+1:end], \n",
    "                             (outp.opf.bt_skeleton[end]-outp.opf.bt_skeleton[discard])  /n_samples,\n",
    "                             \"linear\");"
   ]
  },
  {
   "cell_type": "code",
   "execution_count": 29,
   "metadata": {},
   "outputs": [
    {
     "data": {
      "image/png": "[encoded data removed]",
      "text/plain": [
       "PyPlot.Figure(PyObject <Figure size 700x250 with 1 Axes>)"
      ]
     },
     "metadata": {},
     "output_type": "display_data"
    }
   ],
   "source": [
    "fig = figure(\"pyplot_barplot\",figsize=(7,2.5))\n",
    "plot([compute_configT(my_model, xi_samples[:,1:end-1], k) for k in 1:d], \"o\")\n",
    "grid(true)"
   ]
  },
  {
   "cell_type": "code",
   "execution_count": null,
   "metadata": {
    "collapsed": true
   },
   "outputs": [],
   "source": []
  },
  {
   "cell_type": "code",
   "execution_count": null,
   "metadata": {
    "collapsed": true
   },
   "outputs": [],
   "source": []
  }
 ],
 "metadata": {
  "kernelspec": {
   "display_name": "Julia 0.6.4",
   "language": "julia",
   "name": "julia-0.6"
  },
  "language_info": {
   "file_extension": ".jl",
   "mimetype": "application/julia",
   "name": "julia",
   "version": "0.6.4"
  }
 },
 "nbformat": 4,
 "nbformat_minor": 2
}
