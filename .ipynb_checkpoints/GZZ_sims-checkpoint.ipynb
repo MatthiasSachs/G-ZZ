{
 "cells": [
  {
   "cell_type": "markdown",
   "metadata": {},
   "source": [
    "#### Testing out Gibbs zig-zag code:"
   ]
  },
  {
   "cell_type": "code",
   "execution_count": 1,
   "metadata": {},
   "outputs": [
    {
     "data": {
      "text/plain": [
       "run_shrpr"
      ]
     },
     "execution_count": 1,
     "metadata": {},
     "output_type": "execute_result"
    }
   ],
   "source": [
    "using Distributions, TimeIt, ProgressMeter, PyPlot, JLD\n",
    "include(\"zz_structures.jl\")\n",
    "include(\"mbsampler.jl\")\n",
    "include(\"HS_temp.jl\")"
   ]
  },
  {
   "cell_type": "code",
   "execution_count": 10,
   "metadata": {
    "collapsed": true
   },
   "outputs": [],
   "source": [
    "xi_samples_HS, ξ_true_HS, acfs_HS, cover_HS, ci_HS = [], [], [], [], [], []\n",
    "xi_samples_gdP, acfs_gdP, cover_gdP, ci_gdP = [], [], [], [], []\n",
    "dat_files = [\"GZZ_data1.jld\", \"GZZ_data2.jld\", \"GZZ_data3.jld\", \"GZZ_data4.jld\", \"GZZ_data5.jld\"]\n",
    "hyp_λ = repeat([1.], 5)\n",
    "n_samples = repeat([10^4], 5)\n",
    "mb_size = [25, 50, 75, 100, 125]\n",
    "max_attempts = repeat([10^7], 5);"
   ]
  },
  {
   "cell_type": "code",
   "execution_count": 11,
   "metadata": {
    "scrolled": true
   },
   "outputs": [
    {
     "name": "stdout",
     "output_type": "stream",
     "text": [
      "10% attempts in 4.53 mins \n",
      "20% attempts in 11.09 mins \n",
      "30% attempts in 18.42 mins \n",
      "40% attempts in 27.13 mins \n",
      "50% attempts in 36.21 mins \n",
      "60% attempts in 47.16 mins \n",
      "70% attempts in 60.2 mins \n",
      "80% attempts in 73.7 mins \n",
      "90% attempts in 88.1 mins \n",
      "100% attempts in 103.8 mins \n",
      "10% attempts in 3.52 mins \n",
      "20% attempts in 7.04 mins \n",
      "30% attempts in 10.72 mins \n",
      "40% attempts in 14.33 mins \n",
      "50% attempts in 18.01 mins \n",
      "60% attempts in 21.76 mins \n",
      "70% attempts in 25.61 mins \n",
      "80% attempts in 29.52 mins \n",
      "90% attempts in 33.49 mins \n",
      "100% attempts in 37.44 mins \n",
      "10% attempts in 13.29 mins \n",
      "20% attempts in 28.71 mins \n",
      "30% attempts in 45.14 mins \n",
      "40% attempts in 61.88 mins \n",
      "50% attempts in 78.38 mins \n",
      "60% attempts in 99.69 mins \n",
      "70% attempts in 121.6 mins \n",
      "80% attempts in 142.28 mins \n",
      "90% attempts in 167.83 mins \n",
      "100% attempts in 192.31 mins \n",
      "10% attempts in 9.63 mins \n",
      "20% attempts in 19.5 mins \n",
      "30% attempts in 29.42 mins \n",
      "40% attempts in 39.16 mins \n",
      "50% attempts in 49.0 mins \n",
      "60% attempts in 58.42 mins \n",
      "70% attempts in 68.44 mins \n",
      "80% attempts in 77.99 mins \n",
      "90% attempts in 87.95 mins \n",
      "100% attempts in 98.32 mins \n",
      "10% attempts in 12.37 mins \n",
      "20% attempts in 24.91 mins \n",
      "30% attempts in 37.69 mins \n",
      "40% attempts in 55.05 mins \n",
      "50% attempts in 75.98 mins \n",
      "60% attempts in 93.1 mins \n",
      "70% attempts in 107.93 mins \n",
      "80% attempts in 123.11 mins \n",
      "90% attempts in 136.1 mins \n",
      "100% attempts in 148.98 mins \n",
      "10% attempts in 8.51 mins \n",
      "20% attempts in 16.67 mins \n",
      "30% attempts in 25.13 mins \n",
      "40% attempts in 33.39 mins \n",
      "50% attempts in 41.65 mins \n",
      "60% attempts in 49.83 mins \n",
      "70% attempts in 58.13 mins \n",
      "80% attempts in 66.31 mins \n",
      "90% attempts in 74.7 mins \n",
      "100% attempts in 83.13 mins \n",
      "10% attempts in 9.86 mins \n",
      "20% attempts in 23.95 mins \n",
      "30% attempts in 42.61 mins \n",
      "40% attempts in 64.76 mins \n",
      "50% attempts in 88.7 mins \n",
      "60% attempts in 114.95 mins \n",
      "70% attempts in 143.85 mins \n",
      "80% attempts in 175.52 mins \n",
      "90% attempts in 236.61 mins \n",
      "100% attempts in 311.9 mins \n",
      "10% attempts in 6.69 mins \n",
      "20% attempts in 13.3 mins \n",
      "30% attempts in 20.07 mins \n",
      "40% attempts in 26.81 mins \n",
      "50% attempts in 33.59 mins \n",
      "60% attempts in 40.3 mins \n",
      "70% attempts in 47.21 mins \n",
      "80% attempts in 54.08 mins \n",
      "90% attempts in 60.9 mins \n",
      "100% attempts in 67.95 mins \n",
      "10% attempts in 7.69 mins \n",
      "20% attempts in 15.81 mins \n",
      "30% attempts in 26.49 mins \n",
      "40% attempts in 38.66 mins \n",
      "50% attempts in 49.45 mins \n",
      "60% attempts in 59.44 mins \n",
      "70% attempts in 71.62 mins \n",
      "80% attempts in 83.96 mins \n",
      "90% attempts in 96.71 mins \n",
      "100% attempts in 110.56 mins \n",
      "10% attempts in 7.41 mins \n",
      "20% attempts in 14.96 mins \n",
      "30% attempts in 22.41 mins \n",
      "40% attempts in 29.94 mins \n",
      "50% attempts in 37.45 mins \n",
      "60% attempts in 45.0 mins \n",
      "70% attempts in 52.55 mins \n",
      "80% attempts in 60.16 mins \n",
      "90% attempts in 68.08 mins \n",
      "100% attempts in 76.03 mins \n",
      "Total time: 1232.22 min"
     ]
    }
   ],
   "source": [
    "start = time()\n",
    "for i in 1:length(dat_files) \n",
    "    # horseshoe prior:\n",
    "    xi_samples, ξ_true, acfs, cover, ci = \n",
    "    run_shrpr(dat_files[i], mb_size[i], max_attempts[i], hyp_λ[i], n_samples[i], \"HS\")\n",
    "    push!(xi_samples_HS, xi_samples)\n",
    "    push!(ξ_true_HS, ξ_true)\n",
    "    push!(acfs_HS, acfs)\n",
    "    push!(cover_HS, cover)\n",
    "    push!(ci_HS, ci)\n",
    "    \n",
    "    # generalised double Pareto prior:\n",
    "    xi_samples, ξ_true, acfs, cover, ci = \n",
    "    run_shrpr(dat_files[i], mb_size[i], max_attempts[i], hyp_λ[i], n_samples[i], \"GDP\")\n",
    "    push!(xi_samples_gdP, xi_samples)\n",
    "    push!(acfs_gdP, acfs)\n",
    "    push!(cover_gdP, cover)\n",
    "    push!(ci_gdP, ci)\n",
    "end\n",
    "print(\"Total time: \", round((time()-start)/60,2), \" min\")"
   ]
  },
  {
   "cell_type": "code",
   "execution_count": 12,
   "metadata": {},
   "outputs": [
    {
     "name": "stdout",
     "output_type": "stream",
     "text": [
      "coverage for HS and GDP = 98, 96 percent \n",
      "coverage for HS and GDP = 94, 90 percent \n",
      "coverage for HS and GDP = 99, 84 percent \n",
      "coverage for HS and GDP = 99, 88 percent \n",
      "coverage for HS and GDP = 97, 95 percent \n"
     ]
    }
   ],
   "source": [
    "for i in 1:length(dat_files) \n",
    "    @printf(\"coverage for HS and GDP = %i, %i percent \\n\", 100*mean(cover_HS[i]), 100*mean(cover_gdP[i]))\n",
    "end"
   ]
  },
  {
   "cell_type": "code",
   "execution_count": 16,
   "metadata": {
    "collapsed": true
   },
   "outputs": [],
   "source": [
    "save(\"HS_results.jld\", \"xi_samples\", xi_samples_HS, \"acfs\", acfs_HS, \"cover\", cover_HS, \"ci\", ci_HS)\n",
    "save(\"gdP_results.jld\", \"xi_samples\", xi_samples_gdP, \"acfs\", acfs_gdP, \"cover\", cover_gdP, \"ci\", ci_gdP)"
   ]
  },
  {
   "cell_type": "code",
   "execution_count": 26,
   "metadata": {},
   "outputs": [
    {
     "data": {
      "text/plain": [
       "310.65447125899794"
      ]
     },
     "execution_count": 26,
     "metadata": {},
     "output_type": "execute_result"
    }
   ],
   "source": [
    "size(xi_samples_HS[1],2)/sum(acf(xi_samples_HS[1][1,:], 200))"
   ]
  },
  {
   "cell_type": "code",
   "execution_count": null,
   "metadata": {
    "collapsed": true
   },
   "outputs": [],
   "source": []
  },
  {
   "cell_type": "code",
   "execution_count": null,
   "metadata": {
    "collapsed": true
   },
   "outputs": [],
   "source": []
  },
  {
   "cell_type": "code",
   "execution_count": null,
   "metadata": {
    "collapsed": true
   },
   "outputs": [],
   "source": []
  }
 ],
 "metadata": {
  "kernelspec": {
   "display_name": "Julia 0.6.4",
   "language": "julia",
   "name": "julia-0.6"
  },
  "language_info": {
   "file_extension": ".jl",
   "mimetype": "application/julia",
   "name": "julia",
   "version": "0.6.4"
  }
 },
 "nbformat": 4,
 "nbformat_minor": 2
}
