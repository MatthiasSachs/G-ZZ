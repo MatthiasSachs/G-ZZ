{
 "cells": [
  {
   "cell_type": "markdown",
   "metadata": {},
   "source": [
    "#### Sanity checks using non-sparse structures. Everything here has been checked and works [except grouped sub-sampling]. "
   ]
  },
  {
   "cell_type": "code",
   "execution_count": 1,
   "metadata": {},
   "outputs": [
    {
     "data": {
      "text/plain": [
       "get_clustering (generic function with 1 method)"
      ]
     },
     "execution_count": 1,
     "metadata": {},
     "output_type": "execute_result"
    }
   ],
   "source": [
    "using Distributions, TimeIt, PyPlot, NPZ\n",
    "include(\"zz_structures.jl\")\n",
    "include(\"mbsampler.jl\")"
   ]
  },
  {
   "cell_type": "code",
   "execution_count": 2,
   "metadata": {
    "collapsed": true
   },
   "outputs": [],
   "source": [
    "d, Nobs = 5, 100\n",
    "p = 2e-1\n",
    "X = rand(Normal(), d, Nobs) .* rand(Binomial(1,p), d, Nobs)\n",
    "X[1,:] = ones(Nobs)\n",
    "ξ_true = rand(Normal(),d)\n",
    "y = [rand(Binomial(1, 1/(1+exp(-ξ_true'X[:,j]))), 1)[1] + 0. for j in 1:Nobs];\n",
    "\n",
    "my_ll = ll_logistic(X,y);\n",
    "my_prior = gaussian_prior_nh(zeros(d),rand(d))\n",
    "my_model = model(my_ll, my_prior)\n",
    "\n",
    "root = find_root(my_model, rand(d));"
   ]
  },
  {
   "cell_type": "code",
   "execution_count": 3,
   "metadata": {
    "collapsed": true
   },
   "outputs": [],
   "source": [
    "ϵ = 1e-1\n",
    "weights_cv = zeros(d, Nobs)\n",
    "for n in 1:Nobs\n",
    "    weights_cv[:,n] = [abs.(X[i,n])*norm(X[:,n]) for i in 1:d] + ϵ\n",
    "end\n",
    "weights_cv ./= sum(weights_cv,2);\n",
    "\n",
    "weights = abs.(X) + ϵ\n",
    "weights ./= sum(weights,2)\n",
    "mb_size = 10;"
   ]
  },
  {
   "cell_type": "raw",
   "metadata": {
    "collapsed": true
   },
   "source": [
    "npzwrite(\"root.npz\",root)\n",
    "npzwrite(\"X.npz\",X)\n",
    "npzwrite(\"y.npz\",y)"
   ]
  },
  {
   "cell_type": "raw",
   "metadata": {
    "collapsed": true
   },
   "source": [
    "# Sub-sampling with weights \n",
    "gs = [wumbsampler(Nobs, mb_size, weights[i,:]) for i in 1:d]\n",
    "gs_list = mbsampler_list(d,gs);"
   ]
  },
  {
   "cell_type": "code",
   "execution_count": 10,
   "metadata": {
    "collapsed": true
   },
   "outputs": [],
   "source": [
    "# Sub-Sampling with control variate (and weights)\n",
    "mbs = [wumbsampler(Nobs, mb_size, weights_cv[i,:]) for i in 1:d];\n",
    "gs_list = cvmbsampler_list(my_model, mbs, root);"
   ]
  },
  {
   "cell_type": "raw",
   "metadata": {
    "collapsed": true
   },
   "source": [
    "# Grouped subsampling with weights \n",
    "\"\"\"\n",
    "DOES NOT WORK \n",
    "\"\"\"\n",
    "\n",
    "tol = .00001\n",
    "gs = Array{mbsampler}(d)\n",
    "N_groups = 20\n",
    "mod_weights = copy(weights)\n",
    "for i in 1:d\n",
    "    grouping = Array{Int}(Nobs)\n",
    "    gclusters, gscores = get_clustering_vec_and_score(weights[i,:], N_groups, \"wc\") \n",
    "                                          # use clustering algorithm on weights\n",
    "    for (gi,gcluster) in enumerate(gclusters)\n",
    "        value = gscores[gi]/mean(weights[i,gcluster]) \n",
    "        if value < tol # If weights are very similar use uniform sub sampling\n",
    "            grouping[gcluster] = 1\n",
    "            mod_weights[i,gcluster] = mean(weights[i,gcluster]) \n",
    "        else # Otherwise use weighted sub sampling\n",
    "            grouping[gcluster] = -1\n",
    "        end\n",
    "    end\n",
    "    gs[i] = gmbsampler(mb_size,mod_weights[i,:],grouping)\n",
    "end\n",
    "gs_list = mbsampler_list(d,gs);"
   ]
  },
  {
   "cell_type": "code",
   "execution_count": 11,
   "metadata": {
    "collapsed": true
   },
   "outputs": [],
   "source": [
    "A = eye(d)\n",
    "opf = projopf(A, 100) \n",
    "opt = maxa_opt(10^5)\n",
    "outp = outputscheduler(opf,opt) ;"
   ]
  },
  {
   "cell_type": "code",
   "execution_count": 12,
   "metadata": {
    "scrolled": true
   },
   "outputs": [
    {
     "name": "stdout",
     "output_type": "stream",
     "text": [
      "0.1 minutes to run \n"
     ]
    }
   ],
   "source": [
    "start = time()\n",
    "ZZ_sample(my_model, outp, gs_list)\n",
    "print( round((time()-start)/60, 2), \" minutes to run \\n\")\n",
    "finalize(outp.opf);"
   ]
  },
  {
   "cell_type": "code",
   "execution_count": 13,
   "metadata": {},
   "outputs": [
    {
     "name": "stdout",
     "output_type": "stream",
     "text": [
      "100 loops, best of 3: 1.91 ms per loop\n"
     ]
    }
   ],
   "source": [
    "n_samples = 10^4\n",
    "@timeit samples = extract_samples(outp.opf.xi_skeleton, \n",
    "                                  outp.opf.bt_skeleton, \n",
    "                                  outp.opf.bt_skeleton[end]/n_samples);"
   ]
  },
  {
   "cell_type": "code",
   "execution_count": 14,
   "metadata": {},
   "outputs": [
    {
     "data": {
      "text/plain": [
       "1370.0779049117757"
      ]
     },
     "execution_count": 14,
     "metadata": {},
     "output_type": "execute_result"
    }
   ],
   "source": [
    "outp.opf.bt_skeleton[end]"
   ]
  },
  {
   "cell_type": "code",
   "execution_count": 15,
   "metadata": {},
   "outputs": [
    {
     "name": "stderr",
     "output_type": "stream",
     "text": [
      "\u001b[32mProgress: 100%|█████████████████████████████████████████| Time: 0:00:00\u001b[39m\n",
      "\u001b[32mProgress: 100%|█████████████████████████████████████████| Time: 0:00:00\u001b[39m\n",
      "\u001b[32mProgress: 100%|█████████████████████████████████████████| Time: 0:00:00\u001b[39m\n",
      "\u001b[32mProgress: 100%|█████████████████████████████████████████| Time: 0:00:00\u001b[39m\n",
      "\u001b[32mProgress: 100%|█████████████████████████████████████████| Time: 0:00:00\u001b[39m\n"
     ]
    },
    {
     "data": {
      "text/plain": [
       "5-element Array{Float64,1}:\n",
       " 1.01684 \n",
       " 0.894494\n",
       " 0.97848 \n",
       " 1.08757 \n",
       " 0.931096"
      ]
     },
     "execution_count": 15,
     "metadata": {},
     "output_type": "execute_result"
    }
   ],
   "source": [
    "[compute_configT(my_model, samples, k) for k in 1:5]"
   ]
  },
  {
   "cell_type": "markdown",
   "metadata": {},
   "source": [
    "#### Posterior summaries:"
   ]
  },
  {
   "cell_type": "code",
   "execution_count": 10,
   "metadata": {},
   "outputs": [
    {
     "name": "stdout",
     "output_type": "stream",
     "text": [
      "posterior variances: [0.0411581, 0.21076, 0.183541, 0.231231, 0.169841]\n",
      "posterior means    : [-0.559052, -0.173011, 0.60743, -0.0614329, 0.138713]\n",
      "true xi value      : [-0.403413, -0.537544, 1.55185, -0.684695, 0.949776]"
     ]
    }
   ],
   "source": [
    "print(\"posterior variances: \", [var(samples[i,:]) for i in 1:d], \"\\n\")\n",
    "print(\"posterior means    : \", [mean(samples[i,:]) for i in 1:d], \"\\n\") \n",
    "print(\"true xi value      : \", ξ_true)"
   ]
  },
  {
   "cell_type": "code",
   "execution_count": null,
   "metadata": {
    "collapsed": true
   },
   "outputs": [],
   "source": []
  }
 ],
 "metadata": {
  "anaconda-cloud": {},
  "kernelspec": {
   "display_name": "Julia 0.6.4",
   "language": "julia",
   "name": "julia-0.6"
  },
  "language_info": {
   "file_extension": ".jl",
   "mimetype": "application/julia",
   "name": "julia",
   "version": "0.6.4"
  }
 },
 "nbformat": 4,
 "nbformat_minor": 2
}
