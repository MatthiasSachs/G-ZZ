{
 "cells": [
  {
   "cell_type": "code",
   "execution_count": 1,
   "metadata": {
    "collapsed": true
   },
   "outputs": [],
   "source": [
    "import numpy as np, pystan as ps, numpy.random as npr, matplotlib.pyplot as plt, h5py\n",
    "%matplotlib inline \n",
    "from time import time\n",
    "from pylab import plot, show, legend\n",
    "from stan_temp import *"
   ]
  },
  {
   "cell_type": "code",
   "execution_count": 2,
   "metadata": {},
   "outputs": [
    {
     "name": "stderr",
     "output_type": "stream",
     "text": [
      "INFO:pystan:COMPILING THE C++ CODE FOR MODEL anon_model_bf1f70352a45ebcc131d582eff912e1a NOW.\n",
      "INFO:pystan:COMPILING THE C++ CODE FOR MODEL anon_model_5218e2900be47b3d461b8ba25a5dd4f5 NOW.\n"
     ]
    }
   ],
   "source": [
    "sm_gdP = ps.StanModel(file=\"gdP_logistic.stan\") \n",
    "sm_HS = ps.StanModel(file=\"horseshoe_logistic.stan\") "
   ]
  },
  {
   "cell_type": "code",
   "execution_count": 3,
   "metadata": {},
   "outputs": [],
   "source": [
    "xi_samples_HS, cover_HS, ci_HS = [], [], []\n",
    "xi_samples_gdP, cover_gdP, ci_gdP = [], [], []\n",
    "dat_files = [\"GZZ_data1.jld\", \"GZZ_data2.jld\", \"GZZ_data3.jld\", \"GZZ_data4.jld\", \"GZZ_data5.jld\"]\n",
    "n_iter = 2500\n",
    "n_chains = 4"
   ]
  },
  {
   "cell_type": "code",
   "execution_count": 4,
   "metadata": {
    "collapsed": true
   },
   "outputs": [],
   "source": [
    "control = dict(stepsize=1e-3, int_time=1e0, adapt_engaged=False) "
   ]
  },
  {
   "cell_type": "code",
   "execution_count": null,
   "metadata": {
    "scrolled": true
   },
   "outputs": [],
   "source": [
    "start = time()\n",
    "for i in range(len(dat_files)) : \n",
    "    # horseshoe prior:\n",
    "    xi_samples, cover, ci = run_HMC(dat_files[i], sm_HS, n_iter, n_chains, control)\n",
    "    xi_samples_HS.append(xi_samples)\n",
    "    cover_HS.append(cover)\n",
    "    ci_HS.append(ci)\n",
    "    \n",
    "    # generalised double Pareto prior:\n",
    "    xi_samples, cover, ci = run_HMC(dat_files[i], sm_gdP, n_iter, n_chains, control)\n",
    "    xi_samples_gdP.append(xi_samples)\n",
    "    cover_gdP.append(cover)\n",
    "    ci_gdP.append(ci)\n",
    "print(\"Total time: \", round((time()-start)/60,2), \" min\")"
   ]
  },
  {
   "cell_type": "code",
   "execution_count": 13,
   "metadata": {},
   "outputs": [
    {
     "name": "stdout",
     "output_type": "stream",
     "text": [
      "coverage for HS and GDP = 98.0, 98.0 percent.\n",
      "coverage for HS and GDP = 95.0, 95.0 percent.\n",
      "coverage for HS and GDP = 99.33333333333333, 97.33333333333334 percent.\n",
      "coverage for HS and GDP = 100.0, 100.0 percent.\n",
      "coverage for HS and GDP = 98.8, 99.2 percent.\n"
     ]
    }
   ],
   "source": [
    "for i in range(len(dat_files)) : \n",
    "    print(\"coverage for HS and GDP = {}, {} percent.\".format(100*np.mean(cover_HS[i]), \n",
    "                                                             100*np.mean(cover_gdP[i])))"
   ]
  },
  {
   "cell_type": "code",
   "execution_count": null,
   "metadata": {
    "collapsed": true
   },
   "outputs": [],
   "source": []
  },
  {
   "cell_type": "code",
   "execution_count": null,
   "metadata": {
    "collapsed": true
   },
   "outputs": [],
   "source": []
  }
 ],
 "metadata": {
  "kernelspec": {
   "display_name": "Python 3",
   "language": "python",
   "name": "python3"
  },
  "language_info": {
   "codemirror_mode": {
    "name": "ipython",
    "version": 3
   },
   "file_extension": ".py",
   "mimetype": "text/x-python",
   "name": "python",
   "nbconvert_exporter": "python",
   "pygments_lexer": "ipython3",
   "version": "3.6.2"
  }
 },
 "nbformat": 4,
 "nbformat_minor": 2
}
