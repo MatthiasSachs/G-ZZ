{
 "cells": [
  {
   "cell_type": "code",
   "execution_count": 10,
   "metadata": {
    "collapsed": true
   },
   "outputs": [],
   "source": [
    "using Distributions, TimeIt, ProgressMeter, PyPlot, JLD\n",
    "include(\"zz_structures_DuLuSuSe.jl\")\n",
    "include(\"mbsampler.jl\")\n",
    "include(\"polyagamma.jl\");"
   ]
  },
  {
   "cell_type": "code",
   "execution_count": 11,
   "metadata": {
    "collapsed": true
   },
   "outputs": [],
   "source": [
    "d, Nobs = 10, 100\n",
    "X = sprandn(d, Nobs, 5e-1)\n",
    "ξ_true = sprandn(d, 5e-1)\n",
    "ξ_true[1] = randn()\n",
    "y = [rand(Binomial(1, 1/(1+exp(-X[:,n]'ξ_true)))) for n in 1:Nobs];"
   ]
  },
  {
   "cell_type": "code",
   "execution_count": 12,
   "metadata": {},
   "outputs": [],
   "source": [
    "σ02 = 1\n",
    "# prior = HS_prior(d, σ02)\n",
    "# prior = gaussian_prior_nh(d, σ02)\n",
    "prior = SS_prior(d, σ02)\n",
    "my_ll = ll_logistic_sp(X,y);\n",
    "my_model = model(my_ll, prior);"
   ]
  },
  {
   "cell_type": "code",
   "execution_count": 13,
   "metadata": {},
   "outputs": [],
   "source": [
    "mb_size = 20\n",
    "weights_het = spzeros(d, Nobs)\n",
    "@showprogress for i in 1:d \n",
    "    nzind = X[i,:].nzind\n",
    "    weights_het[i,nzind] = abs.(X[i,nzind])./sum(abs.(X[i,nzind]))\n",
    "end\n",
    "\n",
    "prob_het = 0.8\n",
    "gs = Array{mbsampler}(d)\n",
    "gs[1] = umbsampler(Nobs, mb_size)\n",
    "@showprogress for i in 2:d \n",
    "    gs[i] = spwumbsampler(Nobs, mb_size, weights_het[i,:], prob_het)\n",
    "end\n",
    "gs_list = mbsampler_list(d,gs);"
   ]
  },
  {
   "cell_type": "code",
   "execution_count": 14,
   "metadata": {
    "collapsed": true
   },
   "outputs": [],
   "source": [
    "opt = maxa_opt(10^6)\n",
    "bb = linear_bound(my_model.ll, my_model.pr, gs_list)\n",
    "mstate = zz_state(d)\n",
    "update_bound(bb, my_ll, prior, gs_list, mstate);"
   ]
  },
  {
   "cell_type": "code",
   "execution_count": 15,
   "metadata": {
    "collapsed": true
   },
   "outputs": [],
   "source": [
    "adapt_speed = \"by_var\" \n",
    "L = 1\n",
    "my_zz_sampler = zz_sampler(0, gs_list, bb, L, adapt_speed)\n",
    "hyper_sampler = block_gibbs_sampler(1e1)\n",
    "blocksampler = Array{msampler}(2)\n",
    "blocksampler[1] = my_zz_sampler\n",
    "blocksampler[2] = hyper_sampler;"
   ]
  },
  {
   "cell_type": "code",
   "execution_count": 16,
   "metadata": {},
   "outputs": [],
   "source": [
    "h = 5e-1\n",
    "xi_samples = zz_samples(mstate, h) \n",
    "pr_samples = hyp_samples(prior, h);"
   ]
  },
  {
   "cell_type": "code",
   "execution_count": null,
   "metadata": {},
   "outputs": [
    {
     "name": "stdout",
     "output_type": "stream",
     "text": [
      "10% attempts in 0.44 mins \n",
      "20% attempts in 0.89 mins \n"
     ]
    }
   ],
   "source": [
    "ZZ_block_sample_discrete(my_model, opt, blocksampler, mstate, xi_samples, pr_samples)"
   ]
  },
  {
   "cell_type": "code",
   "execution_count": null,
   "metadata": {},
   "outputs": [],
   "source": [
    "xi_samples.lastsamplet == pr_samples.lastsamplet"
   ]
  },
  {
   "cell_type": "code",
   "execution_count": null,
   "metadata": {},
   "outputs": [],
   "source": [
    "print(sum(mstate.n_bounces), \" zz bounces \\n\")\n",
    "print(hyper_sampler.nbounces, \" hyper bounces\")"
   ]
  },
  {
   "cell_type": "code",
   "execution_count": null,
   "metadata": {},
   "outputs": [],
   "source": [
    "size(xi_samples.samples,2)"
   ]
  },
  {
   "cell_type": "code",
   "execution_count": null,
   "metadata": {},
   "outputs": [],
   "source": [
    "fig = figure(\"pyplot_barplot\",figsize=(7,2.5))\n",
    "plot([compute_configT(my_model, xi_samples.samples, pr_samples.samples, k) for k in 1:d], \"o\")\n",
    "grid(true)"
   ]
  },
  {
   "cell_type": "code",
   "execution_count": null,
   "metadata": {},
   "outputs": [],
   "source": [
    "maxlag = 50\n",
    "acfs_xi = zeros(d, maxlag)\n",
    "acfs_hyp = zeros(size(pr_samples.samples,1), maxlag)\n",
    "\n",
    "for i in 1:d \n",
    "    acfs_xi[i,:] = acf(xi_samples.samples[i,:], maxlag)\n",
    "end\n",
    "for i in 1:size(pr_samples.samples,1)\n",
    "    acfs_hyp[i,:] = acf(pr_samples.samples[i,:], maxlag)\n",
    "end"
   ]
  },
  {
   "cell_type": "code",
   "execution_count": null,
   "metadata": {},
   "outputs": [],
   "source": [
    "fig = figure(\"pyplot_subplot_mixed\", figsize=(12,3))\n",
    "subplot(121)\n",
    "for i in 1:d \n",
    "    plot(acfs_xi[i,:])\n",
    "end\n",
    "grid(true)\n",
    "title(\"ACF's for parameters\")\n",
    "\n",
    "subplot(122)\n",
    "for i in 1:size(pr_samples.samples,1) \n",
    "    plot(acfs_hyp[i,:])\n",
    "end\n",
    "grid(true)\n",
    "title(\"ACF's for hyperparameters\");"
   ]
  },
  {
   "cell_type": "code",
   "execution_count": null,
   "metadata": {
    "collapsed": true
   },
   "outputs": [],
   "source": []
  },
  {
   "cell_type": "code",
   "execution_count": null,
   "metadata": {
    "collapsed": true
   },
   "outputs": [],
   "source": []
  },
  {
   "cell_type": "code",
   "execution_count": null,
   "metadata": {
    "collapsed": true
   },
   "outputs": [],
   "source": []
  }
 ],
 "metadata": {
  "kernelspec": {
   "display_name": "Julia 0.6.4",
   "language": "julia",
   "name": "julia-0.6"
  },
  "language_info": {
   "file_extension": ".jl",
   "mimetype": "application/julia",
   "name": "julia",
   "version": "0.6.4"
  }
 },
 "nbformat": 4,
 "nbformat_minor": 2
}
