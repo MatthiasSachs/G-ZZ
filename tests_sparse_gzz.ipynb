{
 "cells": [
  {
   "cell_type": "code",
   "execution_count": 1,
   "metadata": {},
   "outputs": [
    {
     "data": {
      "text/plain": [
       "GibbsHMC (generic function with 1 method)"
      ]
     },
     "execution_count": 1,
     "metadata": {},
     "output_type": "execute_result"
    }
   ],
   "source": [
    "using Distributions, TimeIt, ProgressMeter, PyPlot\n",
    "include(\"/home/postdoc/dsen/Desktop/G-ZZ/jl_files/samplers.jl\")"
   ]
  },
  {
   "cell_type": "code",
   "execution_count": 11,
   "metadata": {},
   "outputs": [],
   "source": [
    "d, Nobs = 20, 50\n",
    "pX, pξ = 1e-1, 1e-1\n",
    "X = sprandn(d, Nobs, pX)\n",
    "X[1,:] = ones(Nobs)\n",
    "ξ_true = sprandn(d,pξ)\n",
    "ξ_true[1] = randn()\n",
    "y = Float64.([rand(Binomial(1, 1/(1+exp(-ξ_true'X[:,j]))), 1)[1] for j in 1:Nobs])\n",
    "mb_size = 5\n",
    "σ02 = 1\n",
    "\n",
    "prior = SS_prior(d, σ02);"
   ]
  },
  {
   "cell_type": "code",
   "execution_count": 12,
   "metadata": {},
   "outputs": [],
   "source": [
    "my_ll = ll_logistic_sp(X,y);\n",
    "my_model = model(my_ll, prior);"
   ]
  },
  {
   "cell_type": "code",
   "execution_count": 13,
   "metadata": {},
   "outputs": [
    {
     "name": "stderr",
     "output_type": "stream",
     "text": [
      "\u001b[32mProgress: 100%|█████████████████████████████████████████| Time: 0:00:01\u001b[39m\n"
     ]
    }
   ],
   "source": [
    "# Sub-sampling with weights and no CV\n",
    "\n",
    "prob_het = 0.98\n",
    "gs = Array{mbsampler}(d)\n",
    "gs[1] = umbsampler(0, Nobs, mb_size)\n",
    "\n",
    "@showprogress for i in 2:d\n",
    "    weights_het = abs.(X[i,:])./sum(abs.(X[i,:]))\n",
    "    gs[i] = spwumbsampler(Nobs, mb_size, weights_het, prob_het)\n",
    "end\n",
    "gs_list = mbsampler_list(d,gs);"
   ]
  },
  {
   "cell_type": "code",
   "execution_count": 14,
   "metadata": {},
   "outputs": [
    {
     "name": "stderr",
     "output_type": "stream",
     "text": [
      "\r",
      "\u001b[32mProgress:   5%|██                                       |  ETA: 0:00:05\u001b[39m\r",
      "\u001b[32mProgress: 100%|█████████████████████████████████████████| Time: 0:00:00\u001b[39m\n"
     ]
    }
   ],
   "source": [
    "A_xi = eye(d)\n",
    "A_hyp = eye(hyperparam_size(prior))\n",
    "\n",
    "opf = projopf(A_xi, A_hyp, 1000)\n",
    "opt = maxa_opt(10^6, 2*10^5)\n",
    "outp = outputscheduler(opf,opt)\n",
    "bb = linear_bound(my_model.ll, my_model.pr, gs_list)\n",
    "mstate = zz_state(d)\n",
    "update_bound(bb, my_ll, prior, gs_list, mstate);"
   ]
  },
  {
   "cell_type": "code",
   "execution_count": 15,
   "metadata": {},
   "outputs": [
    {
     "name": "stdout",
     "output_type": "stream",
     "text": [
      "Initial speed = [1.0, 1.0, 1.0, 1.0, 1.0, 1.0, 1.0, 1.0, 1.0, 1.0, 1.0, 1.0, 1.0, 1.0, 1.0, 1.0, 1.0, 1.0, 1.0, 1.0]"
     ]
    }
   ],
   "source": [
    "print(\"Initial speed = \", opf.alpha_skeleton[:,opf.tcounter+1])"
   ]
  },
  {
   "cell_type": "code",
   "execution_count": 16,
   "metadata": {},
   "outputs": [],
   "source": [
    "adapt_speed = \"by_var\"\n",
    "L = 1\n",
    "my_zz_sampler = zz_sampler(0, gs_list, bb, L, adapt_speed)\n",
    "hyper_sampler = block_gibbs_sampler(1e2)\n",
    "blocksampler = Array{msampler}(2)\n",
    "blocksampler[1] = my_zz_sampler\n",
    "blocksampler[2] = hyper_sampler;"
   ]
  },
  {
   "cell_type": "code",
   "execution_count": null,
   "metadata": {
    "scrolled": false
   },
   "outputs": [
    {
     "name": "stdout",
     "output_type": "stream",
     "text": [
      "10 percent attempts in 0.51 min; zz bounces = 6162, hyp bounces = 43067, total time of process = 434.690 \n",
      "20 percent attempts in 1.04 min; zz bounces = 12369, hyp bounces = 87522, total time of process = 882.209 \n",
      "Trimmed after 200000 bouncing attempts \n",
      "30 percent attempts in 1.57 min; zz bounces = 18103, hyp bounces = 132519, total time of process = 1332.246 \n",
      "40 percent attempts in 2.14 min; zz bounces = 24210, hyp bounces = 177599, total time of process = 1780.641 \n",
      "50 percent attempts in 2.71 min; zz bounces = 30032, hyp bounces = 222646, total time of process = 2229.166 \n"
     ]
    }
   ],
   "source": [
    "start = time()\n",
    "ZZ_block_sample(my_model, outp, blocksampler, mstate)\n",
    "print(\"Total time: \", round((time()-start)/60, 2), \" mins\")"
   ]
  },
  {
   "cell_type": "code",
   "execution_count": null,
   "metadata": {},
   "outputs": [],
   "source": [
    "fig = figure(\"pyplot_barplot\",figsize=(8,3))\n",
    "for i in 1:d \n",
    "    plot((outp.opf.alpha_skeleton[i,:]))\n",
    "end\n",
    "title(\"Speeds\")\n",
    "xlabel(\"bounce\")\n",
    "grid(true)"
   ]
  },
  {
   "cell_type": "code",
   "execution_count": null,
   "metadata": {
    "collapsed": true
   },
   "outputs": [],
   "source": [
    "discard = 0\n",
    "n_samples = 10^4\n",
    "xi_samples = extract_samples(outp.opf.xi_skeleton[:,discard+1:end], \n",
    "                             outp.opf.bt_skeleton[:,discard+1:end], \n",
    "                             outp.opf.bt_skeleton[end]/n_samples,\n",
    "                             \"linear\");\n",
    "hyper_samples = extract_samples(outp.opf.hyper_skeleton[:,discard+1:end], \n",
    "                                outp.opf.bt_skeleton[:,discard+1:end], \n",
    "                                outp.opf.bt_skeleton[end]/n_samples, \n",
    "                                \"constant\");"
   ]
  },
  {
   "cell_type": "code",
   "execution_count": null,
   "metadata": {},
   "outputs": [],
   "source": [
    "fig = figure(\"pyplot_barplot\",figsize=(7,2.5))\n",
    "plot([compute_configT(my_model, xi_samples[:,1:end-1], hyper_samples[:,1:end-1], k) for k in 1:d], \"o\")\n",
    "grid(true)"
   ]
  },
  {
   "cell_type": "code",
   "execution_count": null,
   "metadata": {},
   "outputs": [],
   "source": [
    "mean(xi_samples,2)"
   ]
  },
  {
   "cell_type": "code",
   "execution_count": null,
   "metadata": {},
   "outputs": [],
   "source": [
    "mstate.mu"
   ]
  },
  {
   "cell_type": "code",
   "execution_count": null,
   "metadata": {
    "collapsed": true
   },
   "outputs": [],
   "source": []
  }
 ],
 "metadata": {
  "kernelspec": {
   "display_name": "Julia 0.6.4",
   "language": "julia",
   "name": "julia-0.6"
  },
  "language_info": {
   "file_extension": ".jl",
   "mimetype": "application/julia",
   "name": "julia",
   "version": "0.6.4"
  }
 },
 "nbformat": 4,
 "nbformat_minor": 2
}
