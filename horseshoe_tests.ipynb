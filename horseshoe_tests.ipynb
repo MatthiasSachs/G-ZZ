{
 "cells": [
  {
   "cell_type": "markdown",
   "metadata": {},
   "source": [
    "#### Testing out Gibbs zig-zag code:"
   ]
  },
  {
   "cell_type": "code",
   "execution_count": 1,
   "metadata": {},
   "outputs": [
    {
     "data": {
      "text/plain": [
       "get_clustering (generic function with 1 method)"
      ]
     },
     "execution_count": 1,
     "metadata": {},
     "output_type": "execute_result"
    }
   ],
   "source": [
    "using Distributions, TimeIt, ProgressMeter, PyPlot\n",
    "include(\"zz_structures.jl\")\n",
    "include(\"mbsampler.jl\")"
   ]
  },
  {
   "cell_type": "code",
   "execution_count": 2,
   "metadata": {},
   "outputs": [
    {
     "data": {
      "text/plain": [
       "HS_prior(20, 1.0, [1.0, 1.0, 1.0, 1.0, 1.0, 1.0, 1.0, 1.0, 1.0, 1.0, 1.0, 1.0, 1.0, 1.0, 1.0, 1.0, 1.0, 1.0, 1.0], 1.0, [1.0, 1.0, 1.0, 1.0, 1.0, 1.0, 1.0, 1.0, 1.0, 1.0, 1.0, 1.0, 1.0, 1.0, 1.0, 1.0, 1.0, 1.0, 1.0], 1.0)"
      ]
     },
     "execution_count": 2,
     "metadata": {},
     "output_type": "execute_result"
    }
   ],
   "source": [
    "d, Nobs = 20, 100\n",
    "p = 1e-1\n",
    "X = rand(Normal(), d, Nobs) .* rand(Binomial(1,p), d, Nobs)\n",
    "X[1,:] = ones(Nobs)\n",
    "ξ_true = rand(Normal(),d).* rand(Binomial(1,0.5), d)\n",
    "ξ_true[1] = rand(Normal())\n",
    "y = [rand(Binomial(1, 1/(1+exp(-ξ_true'X[:,j]))), 1)[1] + 0. for j in 1:Nobs];\n",
    "mb_size = 10\n",
    "σ02 = 1\n",
    "\n",
    "prior = HS_prior(d, σ02)"
   ]
  },
  {
   "cell_type": "code",
   "execution_count": 3,
   "metadata": {
    "collapsed": true
   },
   "outputs": [],
   "source": [
    "my_ll = ll_logistic(X,y);\n",
    "my_model = model(my_ll, prior)\n",
    "root = find_root(my_model, rand(d));"
   ]
  },
  {
   "cell_type": "code",
   "execution_count": 4,
   "metadata": {
    "collapsed": true
   },
   "outputs": [],
   "source": [
    "# Sub-sampling with weights \n",
    "ϵ = 1e-2\n",
    "weights = abs.(X) + ϵ\n",
    "weights ./= sum(weights,2)\n",
    "mb_size = 10;\n",
    "gs = [wumbsampler(Nobs, mb_size, weights[i,:]) for i in 1:d]\n",
    "gs_list = mbsampler_list(d,gs);"
   ]
  },
  {
   "cell_type": "raw",
   "metadata": {},
   "source": [
    "# Sub-Sampling with control variate (and weights)\n",
    "ϵ = 1e-2\n",
    "weights_cv = zeros(d, Nobs)\n",
    "for n in 1:Nobs\n",
    "    weights_cv[:,n] = [abs.(X[i,n])*norm(X[:,n]) for i in 1:d] + ϵ\n",
    "end\n",
    "weights_cv ./= sum(weights_cv,2);mbs = [wumbsampler(Nobs, mb_size, weights_cv[i,:]) for i in 1:d];\n",
    "gs_list = cvmbsampler_list(my_model, mbs, root);"
   ]
  },
  {
   "cell_type": "code",
   "execution_count": 5,
   "metadata": {
    "collapsed": true
   },
   "outputs": [],
   "source": [
    "T_gibbs = 5_000\n",
    "n_gibbs = 1_00  # number of bouncing attempts per Gibbs step\n",
    "\n",
    "A = eye(d)\n",
    "opf = projopf(A, 100) #initialise it\n",
    "opt = maxa_opt(1)\n",
    "outp = outputscheduler(opf,opt)\n",
    "samples = gzz_samples(d,T_gibbs);"
   ]
  },
  {
   "cell_type": "code",
   "execution_count": 6,
   "metadata": {},
   "outputs": [
    {
     "name": "stderr",
     "output_type": "stream",
     "text": [
      "\u001b[32mProgress: 100%|█████████████████████████████████████████| Time: 0:01:05\u001b[39m\n"
     ]
    }
   ],
   "source": [
    "GZZ_sample(my_model, outp, gs_list, samples, T_gibbs, n_gibbs);"
   ]
  },
  {
   "cell_type": "raw",
   "metadata": {},
   "source": [
    "n_samples = 10^4\n",
    "@timeit zz_samples = extract_samples(outp.opf.xi_skeleton, \n",
    "                                     outp.opf.bt_skeleton, \n",
    "                                     outp.opf.bt_skeleton[end]/n_samples)\n",
    "outp.opf.bt_skeleton[end]\n",
    "[compute_configT(my_model, zz_samples, k) for k in 1:5]\n",
    "[compute_configT(my_model, samples.xi_samples, k) for k in 1:5]"
   ]
  },
  {
   "cell_type": "code",
   "execution_count": 7,
   "metadata": {},
   "outputs": [
    {
     "data": {
      "image/png": "[encoded data removed]",
      "text/plain": [
       "PyPlot.Figure(PyObject <Figure size 500x250 with 1 Axes>)"
      ]
     },
     "metadata": {},
     "output_type": "display_data"
    }
   ],
   "source": [
    "fig = figure(\"pyplot_barplot\",figsize=(5,2.5))\n",
    "plot([compute_configT(my_model, samples, k) for k in 1:d], \"o\")\n",
    "grid(true)"
   ]
  },
  {
   "cell_type": "code",
   "execution_count": 10,
   "metadata": {},
   "outputs": [
    {
     "data": {
      "text/plain": [
       "21.96079483762189"
      ]
     },
     "execution_count": 10,
     "metadata": {},
     "output_type": "execute_result"
    }
   ],
   "source": [
    "rand(Exponential(10))"
   ]
  },
  {
   "cell_type": "code",
   "execution_count": null,
   "metadata": {
    "collapsed": true
   },
   "outputs": [],
   "source": []
  },
  {
   "cell_type": "markdown",
   "metadata": {},
   "source": [
    "#### Posterior summaries:"
   ]
  },
  {
   "cell_type": "code",
   "execution_count": 28,
   "metadata": {},
   "outputs": [
    {
     "name": "stdout",
     "output_type": "stream",
     "text": [
      "posterior variances: [0.31305, 2.97753, 1.41762, 1.07549, 0.987124, 1.68801, 2.42887, 3.80637, 3.11643, 1.52468, 4.82378, 0.727354, 2.07547, 2.03446, 9.50837, 1.15351, 1.02391, 1.11554, 1.08498, 0.997897, 5.51162, 1.90909, 2.15066, 4.98149, 0.6582, 5.57169, 3.21338, 1.71428, 3.21774, 2.14763, 1.35833, 1.90063, 1.8931, 1.0906, 1.58933, 3.2059, 2.74881, 1.04494, 1.43749, 2.65705, 1.81048, 3.30231, 1.94329, 11.5626, 4.16948, 1.29949, 2.27987, 6.32598, 4.06528, 1.5249]\n",
      "posterior means    : [-2.23773, 3.04589, 1.69925, -0.469693, 0.393517, -0.999613, 2.79372, 3.96086, 1.88281, -0.183959, -2.64013, 0.621312, 0.335916, -0.525036, -5.73537, -1.46627, 1.39395, -0.262753, 0.408396, 0.0850821, 2.95556, 1.49889, 1.13366, -3.07182, -0.277696, 1.77458, 1.12842, 1.89927, 0.820322, -2.16899, 0.27105, 0.31527, -0.995848, 0.260624, 1.77017, 2.85273, 0.991793, 0.200771, 0.659838, -2.44036, 2.46329, 0.416757, -0.381733, 6.9001, 2.80433, 1.93425, 1.11208, 4.38547, -3.8717, -1.22312]\n",
      "true xi value      : [-0.969226, 0.0, 0.0, 0.0, -0.0, -0.0, 1.37041, 1.43479, 0.0, 0.0216336, 0.0, 0.0, -0.0, -0.0, -0.0, -0.0, 0.0, -0.0, 0.0, -0.0, 1.22332, -0.0, -0.0, -0.0, -0.0, 0.304513, 0.0, 0.0, 0.0, -0.015504, 0.0, 0.0, -0.0, 0.0, 0.828329, 0.0, 0.0, 0.0, 0.0, 0.0, 0.295557, -0.0, -0.119426, 1.35977, -0.0, 0.0982036, 0.0, 0.0, -0.246217, -0.0]"
     ]
    }
   ],
   "source": [
    "print(\"posterior variances: \", [var(samples.xi_samples[i,:]) for i in 1:d], \"\\n\")\n",
    "print(\"posterior means    : \", [mean(samples.xi_samples[i,:]) for i in 1:d], \"\\n\") \n",
    "print(\"true xi value      : \", ξ_true)"
   ]
  },
  {
   "cell_type": "code",
   "execution_count": null,
   "metadata": {
    "collapsed": true
   },
   "outputs": [],
   "source": [
    "α"
   ]
  }
 ],
 "metadata": {
  "kernelspec": {
   "display_name": "Julia 0.6.4",
   "language": "julia",
   "name": "julia-0.6"
  },
  "language_info": {
   "file_extension": ".jl",
   "mimetype": "application/julia",
   "name": "julia",
   "version": "0.6.4"
  }
 },
 "nbformat": 4,
 "nbformat_minor": 2
}
