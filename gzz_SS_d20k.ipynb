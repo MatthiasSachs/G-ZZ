{
 "cells": [
  {
   "cell_type": "code",
   "execution_count": 1,
   "metadata": {},
   "outputs": [
    {
     "data": {
      "text/plain": [
       "get_clustering (generic function with 1 method)"
      ]
     },
     "execution_count": 1,
     "metadata": {},
     "output_type": "execute_result"
    }
   ],
   "source": [
    "using Distributions, TimeIt, ProgressMeter, PyPlot, JLD\n",
    "include(\"zz_structures_DuLuSuSe.jl\")\n",
    "include(\"mbsampler.jl\")"
   ]
  },
  {
   "cell_type": "markdown",
   "metadata": {},
   "source": [
    "#### Load data:"
   ]
  },
  {
   "cell_type": "code",
   "execution_count": 4,
   "metadata": {
    "collapsed": true
   },
   "outputs": [],
   "source": [
    "d, Nobs = 20_000, 22_000\n",
    "X = sprandn(d, Nobs, 5e-2)\n",
    "X[1,:] = ones(Nobs)\n",
    "nz = 300\n",
    "ξ_true = spzeros(d)\n",
    "ξ_true[1] = 3*rand()\n",
    "nzind = sample(1:d, nz)\n",
    "ξ_true[nzind[1:Int(nz/2)]] = rand(Uniform(5,10),Int(nz/2))\n",
    "ξ_true[nzind[Int(nz/2)+1:end]] = -rand(Uniform(5,10),Int(nz/2));\n",
    "y = [rand(Binomial(1, 1/(1+exp(-X[:,n]'ξ_true)))) for n in 1:Nobs];"
   ]
  },
  {
   "cell_type": "code",
   "execution_count": 6,
   "metadata": {},
   "outputs": [
    {
     "name": "stdout",
     "output_type": "stream",
     "text": [
      "0"
     ]
    }
   ],
   "source": [
    "xxt = X*X'\n",
    "print(sum(xxt .== 0.))\n",
    "xxt = nothing \n",
    "gc()"
   ]
  },
  {
   "cell_type": "markdown",
   "metadata": {},
   "source": [
    "#### Define prior:"
   ]
  },
  {
   "cell_type": "code",
   "execution_count": 7,
   "metadata": {
    "collapsed": true
   },
   "outputs": [],
   "source": [
    "σ02 = 1\n",
    "prior = SS_prior(d, σ02);"
   ]
  },
  {
   "cell_type": "markdown",
   "metadata": {},
   "source": [
    "#### Define model:"
   ]
  },
  {
   "cell_type": "code",
   "execution_count": 10,
   "metadata": {
    "collapsed": true
   },
   "outputs": [],
   "source": [
    "my_ll = ll_logistic_sp(X,y);\n",
    "my_model = model(my_ll, prior);"
   ]
  },
  {
   "cell_type": "markdown",
   "metadata": {},
   "source": [
    "#### Define minibatch sampler:"
   ]
  },
  {
   "cell_type": "code",
   "execution_count": 8,
   "metadata": {},
   "outputs": [
    {
     "name": "stderr",
     "output_type": "stream",
     "text": [
      "\u001b[32mProgress: 100%|█████████████████████████████████████████| Time: 0:01:04\u001b[39m\n"
     ]
    }
   ],
   "source": [
    "mb_size = 120\n",
    "prob_het = 0.98\n",
    "gs = Array{mbsampler}(d)\n",
    "gs[1] = umbsampler(Nobs, mb_size)\n",
    "\n",
    "@showprogress for i in 2:d \n",
    "    weights_het = abs.(X[i,:])./sum(abs.(X[i,:]))\n",
    "    gs[i] = spwumbsampler(Nobs, mb_size, weights_het, prob_het)\n",
    "end\n",
    "gs_list = mbsampler_list(d,gs);"
   ]
  },
  {
   "cell_type": "raw",
   "metadata": {},
   "source": [
    "# Sub-Sampling with control variate and with weights\n",
    "ϵ = 1e-2\n",
    "weights_cv = zeros(d, Nobs)\n",
    "for n in 1:Nobs\n",
    "    weights_cv[:,n] = [abs.(X[i,n])*norm(X[:,n]) for i in 1:d] + ϵ\n",
    "end\n",
    "weights_cv ./= sum(weights_cv,2);mbs = [wumbsampler(Nobs, mb_size, weights_cv[i,:]) for i in 1:d];\n",
    "gs_list = cvmbsampler_list(my_model, mbs, root);"
   ]
  },
  {
   "cell_type": "markdown",
   "metadata": {},
   "source": [
    "#### Define output scheduler:"
   ]
  },
  {
   "cell_type": "code",
   "execution_count": 16,
   "metadata": {},
   "outputs": [
    {
     "name": "stderr",
     "output_type": "stream",
     "text": [
      "\u001b[32mProgress: 100%|█████████████████████████████████████████| Time: 0:00:40\u001b[39m\n"
     ]
    }
   ],
   "source": [
    "A_xi = ones(1,d)/d\n",
    "A_hyp = ones(1,hyperparam_size(prior))/hyperparam_size(prior)\n",
    "\n",
    "opf = projopf(A_xi, A_hyp, 1000)\n",
    "opt = maxa_opt(3*10^7, 10^7)\n",
    "outp = outputscheduler(opf,opt)\n",
    "bb = linear_bound(my_model.ll, my_model.pr, gs_list)\n",
    "mstate = zz_state(d)\n",
    "update_bound(bb, my_ll, prior, gs_list, mstate);"
   ]
  },
  {
   "cell_type": "markdown",
   "metadata": {},
   "source": [
    "#### Define mbsampler + block Gibbs sampler list:"
   ]
  },
  {
   "cell_type": "code",
   "execution_count": 17,
   "metadata": {
    "collapsed": true
   },
   "outputs": [],
   "source": [
    "adapt_speed = \"by_var\"\n",
    "L = 1\n",
    "my_zz_sampler = zz_sampler(0, gs_list, bb, L, adapt_speed)\n",
    "hyper_sampler = block_gibbs_sampler(4e4)\n",
    "blocksampler = Array{msampler}(2)\n",
    "blocksampler[1] = my_zz_sampler\n",
    "blocksampler[2] = hyper_sampler;"
   ]
  },
  {
   "cell_type": "markdown",
   "metadata": {},
   "source": [
    "#### Run sampler:"
   ]
  },
  {
   "cell_type": "code",
   "execution_count": 18,
   "metadata": {},
   "outputs": [
    {
     "name": "stdout",
     "output_type": "stream",
     "text": [
      "10% attempts in 146.48 mins \n",
      "20% attempts in 286.15 mins \n",
      "30% attempts in 422.25 mins \n",
      "Trimmed after 10000000 bouncing attempts \n",
      "40% attempts in 555.76 mins \n",
      "50% attempts in 687.63 mins \n",
      "60% attempts in 819.07 mins \n",
      "70% attempts in 948.8 mins \n",
      "80% attempts in 1079.28 mins \n",
      "90% attempts in 1209.06 mins \n",
      "100% attempts in 1336.12 mins \n"
     ]
    }
   ],
   "source": [
    "ZZ_block_sample(my_model, outp, blocksampler, mstate);"
   ]
  },
  {
   "cell_type": "code",
   "execution_count": 19,
   "metadata": {},
   "outputs": [
    {
     "name": "stdout",
     "output_type": "stream",
     "text": [
      "0.7561800066688873\n",
      "2.21409460778223"
     ]
    }
   ],
   "source": [
    "print(maximum(abs.(outp.opf.xi_mu - mstate.mu)), \"\\n\")\n",
    "print(maximum(abs.(outp.opf.xi_m2 - mstate.m2)))"
   ]
  },
  {
   "cell_type": "markdown",
   "metadata": {},
   "source": [
    "* Number of bounces:"
   ]
  },
  {
   "cell_type": "code",
   "execution_count": 20,
   "metadata": {},
   "outputs": [
    {
     "name": "stdout",
     "output_type": "stream",
     "text": [
      "ZZ total bounces: 709574, hyper bounces: 64664"
     ]
    }
   ],
   "source": [
    "zz_bounces = sum(mstate.n_bounces)\n",
    "hyp_bounces = outp.opf.tot_bounces-sum(mstate.n_bounces)\n",
    "@printf(\"ZZ total bounces: %i, hyper bounces: %i\", zz_bounces, hyp_bounces)"
   ]
  },
  {
   "cell_type": "code",
   "execution_count": 21,
   "metadata": {},
   "outputs": [
    {
     "data": {
      "text/plain": [
       "0.014089666666666667"
      ]
     },
     "execution_count": 21,
     "metadata": {},
     "output_type": "execute_result"
    }
   ],
   "source": [
    "size(outp.opf.xi_skeleton,2)/outp.opt.max_attempts"
   ]
  },
  {
   "cell_type": "code",
   "execution_count": 22,
   "metadata": {
    "collapsed": true
   },
   "outputs": [],
   "source": [
    "post_mean_gzz = outp.opf.xi_mu\n",
    "# post_median_gzz = median(xi_samples,2);"
   ]
  },
  {
   "cell_type": "raw",
   "metadata": {},
   "source": [
    "maximum(abs.(mean(xi_samples,2) - mstate.mu))"
   ]
  },
  {
   "cell_type": "markdown",
   "metadata": {
    "collapsed": true
   },
   "source": [
    "### Credible intervals:"
   ]
  },
  {
   "cell_type": "raw",
   "metadata": {},
   "source": [
    "outp.opf.bt_skeleton[1,end]"
   ]
  },
  {
   "cell_type": "raw",
   "metadata": {
    "collapsed": true
   },
   "source": [
    "h = 0.2\n",
    "B = Int(round(outp.opf.bt_skeleton[1,end]/h))\n",
    "ESS = compute_ESS(outp.opf, B)\n",
    "print(\"Mean ESS = \", mean(ESS))"
   ]
  },
  {
   "cell_type": "code",
   "execution_count": 23,
   "metadata": {
    "collapsed": true
   },
   "outputs": [],
   "source": [
    "xi_sd = sqrt.(outp.opf.xi_m2 - outp.opf.xi_mu.^2)\n",
    "ci = zeros(d,2)\n",
    "ci[:,1] = outp.opf.xi_mu-3*xi_sd\n",
    "ci[:,2] = outp.opf.xi_mu+3*xi_sd;"
   ]
  },
  {
   "cell_type": "code",
   "execution_count": 24,
   "metadata": {},
   "outputs": [
    {
     "name": "stderr",
     "output_type": "stream",
     "text": [
      "\u001b[32mProgress: 100%|█████████████████████████████████████████|  ETA: 0:00:00\u001b[39m"
     ]
    },
    {
     "data": {
      "image/png": "[encoded data removed]",
      "text/plain": [
       "PyPlot.Figure(PyObject <Figure size 1200x300 with 1 Axes>)"
      ]
     },
     "metadata": {},
     "output_type": "display_data"
    },
    {
     "name": "stderr",
     "output_type": "stream",
     "text": [
      "\r",
      "\u001b[32mProgress: 100%|█████████████████████████████████████████|  ETA: 0:00:00\u001b[39m\r",
      "\u001b[32mProgress: 100%|█████████████████████████████████████████| Time: 0:02:19\u001b[39m\n"
     ]
    }
   ],
   "source": [
    "fig = figure(figsize=(12,3))\n",
    "@showprogress for i in 1:d\n",
    "    plot([i,i], ci[i,:], \"b-\", lw=0.5)\n",
    "end\n",
    "plot(1:d, outp.opf.xi_mu, \"ro\", markersize=2, label=\"posterior mean\");\n",
    "plot(1:d, ξ_true, \"gx\", markersize=2, label=\"true parameter\")\n",
    "grid(true)\n",
    "xlim(-50,d+50)\n",
    "xlabel(\"Component index\")\n",
    "ylabel(\"Value\")\n",
    "title(\"Confidence intervals for signals\")\n",
    "legend(ncol=2,bbox_to_anchor=(0.65, 1))\n",
    "savefig(\"plots/CId20K.pdf\", format=\"pdf\", dpi=10000, bbox_inches=\"tight\")"
   ]
  },
  {
   "cell_type": "code",
   "execution_count": 25,
   "metadata": {
    "collapsed": true
   },
   "outputs": [],
   "source": [
    "save(\"/home/postdoc/dsen/Desktop/GZZ_data/data/opf_d20K.jld\", \"opf\", outp.opf, \"X\", X, \"y\", y, \"xi_true\", ξ_true)"
   ]
  },
  {
   "cell_type": "code",
   "execution_count": null,
   "metadata": {
    "collapsed": true
   },
   "outputs": [],
   "source": []
  }
 ],
 "metadata": {
  "kernelspec": {
   "display_name": "Julia 0.6.4",
   "language": "julia",
   "name": "julia-0.6"
  },
  "language_info": {
   "file_extension": ".jl",
   "mimetype": "application/julia",
   "name": "julia",
   "version": "0.6.4"
  }
 },
 "nbformat": 4,
 "nbformat_minor": 2
}
