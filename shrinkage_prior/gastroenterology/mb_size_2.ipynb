{
 "cells": [
  {
   "cell_type": "markdown",
   "metadata": {},
   "source": [
    "### [Shrinkage]"
   ]
  },
  {
   "cell_type": "code",
   "execution_count": 1,
   "metadata": {},
   "outputs": [
    {
     "data": {
      "text/plain": [
       "run_sampler (generic function with 2 methods)"
      ]
     },
     "execution_count": 1,
     "metadata": {},
     "output_type": "execute_result"
    }
   ],
   "source": [
    "using Distributions, TimeIt, ProgressMeter, PyPlot\n",
    "include(\"temp_gastroenterology.jl\")"
   ]
  },
  {
   "cell_type": "code",
   "execution_count": 2,
   "metadata": {
    "collapsed": true
   },
   "outputs": [],
   "source": [
    "lambda = 1e2\n",
    "adapt_speed = \"by_var\"\n",
    "mb_size_list = 1:10\n",
    "max_attempts = 2*10^7;"
   ]
  },
  {
   "cell_type": "code",
   "execution_count": 3,
   "metadata": {},
   "outputs": [
    {
     "name": "stdout",
     "output_type": "stream",
     "text": [
      "10 percent attempts in 40.00 min; zz bounces = 92790, hyp bounces = 3761, total time of process = 37.758 \n",
      "20 percent attempts in 78.46 min; zz bounces = 177708, hyp bounces = 7651, total time of process = 75.773 \n",
      "30 percent attempts in 114.88 min; zz bounces = 251255, hyp bounces = 11433, total time of process = 113.965 \n",
      "40 percent attempts in 151.18 min; zz bounces = 324955, hyp bounces = 15330, total time of process = 152.208 \n",
      "50 percent attempts in 187.36 min; zz bounces = 393990, hyp bounces = 19117, total time of process = 190.506 \n",
      "60 percent attempts in 223.69 min; zz bounces = 462847, hyp bounces = 23076, total time of process = 228.813 \n",
      "70 percent attempts in 259.86 min; zz bounces = 533974, hyp bounces = 26876, total time of process = 267.022 \n",
      "80 percent attempts in 296.06 min; zz bounces = 605137, hyp bounces = 30690, total time of process = 305.303 \n",
      "90 percent attempts in 331.81 min; zz bounces = 671176, hyp bounces = 34532, total time of process = 343.686 \n",
      "100 percent attempts in 367.76 min; zz bounces = 735394, hyp bounces = 38357, total time of process = 382.159 \n",
      "10 percent attempts in 39.27 min; zz bounces = 89797, hyp bounces = 3749, total time of process = 37.906 \n",
      "20 percent attempts in 76.92 min; zz bounces = 167649, hyp bounces = 7567, total time of process = 76.056 \n",
      "30 percent attempts in 114.37 min; zz bounces = 241841, hyp bounces = 11369, total time of process = 114.165 \n",
      "40 percent attempts in 151.06 min; zz bounces = 310626, hyp bounces = 15146, total time of process = 152.364 \n",
      "50 percent attempts in 186.55 min; zz bounces = 375798, hyp bounces = 18979, total time of process = 190.647 \n",
      "60 percent attempts in 223.08 min; zz bounces = 445451, hyp bounces = 22780, total time of process = 228.848 \n",
      "70 percent attempts in 259.51 min; zz bounces = 513790, hyp bounces = 26540, total time of process = 267.203 \n",
      "80 percent attempts in 294.86 min; zz bounces = 575271, hyp bounces = 30287, total time of process = 305.572 \n",
      "90 percent attempts in 331.26 min; zz bounces = 640839, hyp bounces = 34134, total time of process = 343.972 \n",
      "100 percent attempts in 368.81 min; zz bounces = 709188, hyp bounces = 38082, total time of process = 382.366 \n",
      "10 percent attempts in 39.26 min; zz bounces = 87504, hyp bounces = 3737, total time of process = 37.767 \n",
      "20 percent attempts in 75.76 min; zz bounces = 156827, hyp bounces = 7520, total time of process = 75.943 \n",
      "30 percent attempts in 113.49 min; zz bounces = 229667, hyp bounces = 11362, total time of process = 114.161 \n",
      "40 percent attempts in 150.01 min; zz bounces = 295790, hyp bounces = 15173, total time of process = 152.364 \n",
      "50 percent attempts in 187.50 min; zz bounces = 365083, hyp bounces = 18932, total time of process = 190.592 \n",
      "60 percent attempts in 224.96 min; zz bounces = 435148, hyp bounces = 22716, total time of process = 228.819 \n",
      "70 percent attempts in 262.04 min; zz bounces = 500610, hyp bounces = 26519, total time of process = 267.119 \n",
      "80 percent attempts in 298.20 min; zz bounces = 563019, hyp bounces = 30314, total time of process = 305.509 \n",
      "90 percent attempts in 334.52 min; zz bounces = 622172, hyp bounces = 34157, total time of process = 343.801 \n",
      "100 percent attempts in 373.22 min; zz bounces = 690892, hyp bounces = 37884, total time of process = 382.089 \n",
      "10 percent attempts in 39.33 min; zz bounces = 85018, hyp bounces = 3741, total time of process = 37.656 \n",
      "20 percent attempts in 76.85 min; zz bounces = 156937, hyp bounces = 7539, total time of process = 75.651 \n",
      "30 percent attempts in 113.64 min; zz bounces = 227145, hyp bounces = 11479, total time of process = 113.763 \n",
      "40 percent attempts in 150.03 min; zz bounces = 294169, hyp bounces = 15324, total time of process = 151.941 \n",
      "50 percent attempts in 186.61 min; zz bounces = 363214, hyp bounces = 19166, total time of process = 190.067 \n",
      "60 percent attempts in 223.18 min; zz bounces = 432486, hyp bounces = 22919, total time of process = 228.217 \n",
      "70 percent attempts in 259.39 min; zz bounces = 497640, hyp bounces = 26659, total time of process = 266.481 \n",
      "80 percent attempts in 294.43 min; zz bounces = 555063, hyp bounces = 30591, total time of process = 304.950 \n",
      "90 percent attempts in 330.80 min; zz bounces = 616856, hyp bounces = 34408, total time of process = 343.345 \n",
      "100 percent attempts in 367.01 min; zz bounces = 675593, hyp bounces = 38323, total time of process = 381.804 \n",
      "10 percent attempts in 38.59 min; zz bounces = 82372, hyp bounces = 3867, total time of process = 37.967 \n",
      "20 percent attempts in 75.96 min; zz bounces = 150854, hyp bounces = 7922, total time of process = 76.295 \n",
      "30 percent attempts in 112.91 min; zz bounces = 216573, hyp bounces = 11726, total time of process = 114.650 \n",
      "40 percent attempts in 149.21 min; zz bounces = 279236, hyp bounces = 15600, total time of process = 153.116 \n",
      "50 percent attempts in 185.38 min; zz bounces = 339131, hyp bounces = 19533, total time of process = 191.479 \n",
      "60 percent attempts in 221.62 min; zz bounces = 399186, hyp bounces = 23440, total time of process = 229.782 \n",
      "70 percent attempts in 257.70 min; zz bounces = 460130, hyp bounces = 27183, total time of process = 268.146 \n",
      "80 percent attempts in 294.55 min; zz bounces = 523708, hyp bounces = 31073, total time of process = 306.489 \n",
      "90 percent attempts in 325.03 min; zz bounces = 587417, hyp bounces = 34868, total time of process = 344.755 \n",
      "100 percent attempts in 353.62 min; zz bounces = 648256, hyp bounces = 38734, total time of process = 383.084 \n",
      "Total time = 1831.21 minutes"
     ]
    }
   ],
   "source": [
    "start = time()\n",
    "for mb_size in mb_size_list[6:10]\n",
    "    run_sampler(max_attempts, lambda, mb_size, adapt_speed) \n",
    "end\n",
    "print(\"Total time = \", round((time()-start)/60,2), \" minutes\")"
   ]
  },
  {
   "cell_type": "code",
   "execution_count": null,
   "metadata": {
    "collapsed": true
   },
   "outputs": [],
   "source": []
  },
  {
   "cell_type": "code",
   "execution_count": null,
   "metadata": {
    "collapsed": true
   },
   "outputs": [],
   "source": []
  },
  {
   "cell_type": "code",
   "execution_count": null,
   "metadata": {
    "collapsed": true
   },
   "outputs": [],
   "source": []
  },
  {
   "cell_type": "code",
   "execution_count": null,
   "metadata": {
    "collapsed": true
   },
   "outputs": [],
   "source": []
  },
  {
   "cell_type": "code",
   "execution_count": null,
   "metadata": {
    "collapsed": true
   },
   "outputs": [],
   "source": []
  }
 ],
 "metadata": {
  "kernelspec": {
   "display_name": "Julia 0.6.4",
   "language": "julia",
   "name": "julia-0.6"
  },
  "language_info": {
   "file_extension": ".jl",
   "mimetype": "application/julia",
   "name": "julia",
   "version": "0.6.4"
  }
 },
 "nbformat": 4,
 "nbformat_minor": 2
}
