{
 "cells": [
  {
   "cell_type": "markdown",
   "metadata": {},
   "source": [
    "### [Shrinkage]"
   ]
  },
  {
   "cell_type": "code",
   "execution_count": 1,
   "metadata": {},
   "outputs": [
    {
     "data": {
      "text/plain": [
       "run_sampler (generic function with 2 methods)"
      ]
     },
     "execution_count": 1,
     "metadata": {},
     "output_type": "execute_result"
    }
   ],
   "source": [
    "using Distributions, TimeIt, ProgressMeter, PyPlot\n",
    "include(\"temp_gastroenterology.jl\")"
   ]
  },
  {
   "cell_type": "code",
   "execution_count": 2,
   "metadata": {
    "collapsed": true
   },
   "outputs": [],
   "source": [
    "lambda_list = logspace(1,3,10)\n",
    "adapt_speed = \"by_var\"\n",
    "mb_size = 5\n",
    "max_attempts = 2*10^7;"
   ]
  },
  {
   "cell_type": "code",
   "execution_count": 3,
   "metadata": {},
   "outputs": [
    {
     "name": "stdout",
     "output_type": "stream",
     "text": [
      "10 percent attempts in 38.34 min; zz bounces = 96267, hyp bounces = 4784, total time of process = 37.722 \n",
      "20 percent attempts in 73.92 min; zz bounces = 169934, hyp bounces = 9789, total time of process = 75.895 \n",
      "30 percent attempts in 109.72 min; zz bounces = 244192, hyp bounces = 14714, total time of process = 114.169 \n",
      "40 percent attempts in 144.66 min; zz bounces = 310259, hyp bounces = 19632, total time of process = 152.580 \n",
      "50 percent attempts in 179.50 min; zz bounces = 378036, hyp bounces = 24541, total time of process = 190.920 \n",
      "60 percent attempts in 214.17 min; zz bounces = 447053, hyp bounces = 29566, total time of process = 229.227 \n",
      "70 percent attempts in 249.27 min; zz bounces = 522801, hyp bounces = 34402, total time of process = 267.400 \n",
      "80 percent attempts in 284.80 min; zz bounces = 595679, hyp bounces = 39300, total time of process = 305.532 \n",
      "90 percent attempts in 320.72 min; zz bounces = 669735, hyp bounces = 44303, total time of process = 343.623 \n",
      "100 percent attempts in 356.05 min; zz bounces = 742322, hyp bounces = 49304, total time of process = 381.812 \n",
      "10 percent attempts in 39.25 min; zz bounces = 99723, hyp bounces = 8267, total time of process = 37.918 \n",
      "20 percent attempts in 77.16 min; zz bounces = 184911, hyp bounces = 16298, total time of process = 75.843 \n",
      "30 percent attempts in 112.83 min; zz bounces = 256065, hyp bounces = 24640, total time of process = 113.919 \n",
      "40 percent attempts in 149.64 min; zz bounces = 334349, hyp bounces = 32899, total time of process = 151.887 \n",
      "50 percent attempts in 186.59 min; zz bounces = 411048, hyp bounces = 41148, total time of process = 189.906 \n",
      "60 percent attempts in 222.67 min; zz bounces = 486993, hyp bounces = 49291, total time of process = 227.951 \n",
      "70 percent attempts in 259.15 min; zz bounces = 566393, hyp bounces = 57526, total time of process = 266.021 \n",
      "80 percent attempts in 294.91 min; zz bounces = 639159, hyp bounces = 65680, total time of process = 304.132 \n",
      "90 percent attempts in 330.48 min; zz bounces = 710176, hyp bounces = 73926, total time of process = 342.273 \n",
      "100 percent attempts in 366.13 min; zz bounces = 776114, hyp bounces = 82115, total time of process = 380.482 \n",
      "10 percent attempts in 39.37 min; zz bounces = 99630, hyp bounces = 13787, total time of process = 37.597 \n",
      "20 percent attempts in 76.94 min; zz bounces = 180246, hyp bounces = 27309, total time of process = 75.529 \n",
      "30 percent attempts in 114.17 min; zz bounces = 261614, hyp bounces = 40884, total time of process = 113.499 \n",
      "40 percent attempts in 151.07 min; zz bounces = 336433, hyp bounces = 54653, total time of process = 151.536 \n",
      "50 percent attempts in 187.89 min; zz bounces = 409241, hyp bounces = 68278, total time of process = 189.668 \n",
      "60 percent attempts in 224.88 min; zz bounces = 479479, hyp bounces = 82031, total time of process = 227.891 \n",
      "70 percent attempts in 263.22 min; zz bounces = 552852, hyp bounces = 95854, total time of process = 266.114 \n",
      "80 percent attempts in 301.90 min; zz bounces = 629940, hyp bounces = 109634, total time of process = 304.212 \n",
      "90 percent attempts in 338.66 min; zz bounces = 696680, hyp bounces = 123326, total time of process = 342.604 \n",
      "100 percent attempts in 375.70 min; zz bounces = 768137, hyp bounces = 136965, total time of process = 380.895 \n",
      "10 percent attempts in 40.48 min; zz bounces = 97760, hyp bounces = 22524, total time of process = 37.510 \n",
      "20 percent attempts in 78.91 min; zz bounces = 176249, hyp bounces = 45171, total time of process = 75.293 \n",
      "30 percent attempts in 116.93 min; zz bounces = 253775, hyp bounces = 67923, total time of process = 113.195 \n",
      "40 percent attempts in 154.51 min; zz bounces = 328244, hyp bounces = 90570, total time of process = 151.127 \n",
      "50 percent attempts in 193.31 min; zz bounces = 403355, hyp bounces = 113254, total time of process = 189.044 \n",
      "60 percent attempts in 231.14 min; zz bounces = 470582, hyp bounces = 136026, total time of process = 227.115 \n",
      "70 percent attempts in 268.72 min; zz bounces = 539204, hyp bounces = 158875, total time of process = 265.105 \n",
      "80 percent attempts in 305.19 min; zz bounces = 602640, hyp bounces = 181684, total time of process = 303.080 \n",
      "90 percent attempts in 342.27 min; zz bounces = 669202, hyp bounces = 204541, total time of process = 341.109 \n",
      "100 percent attempts in 381.82 min; zz bounces = 747070, hyp bounces = 226969, total time of process = 379.048 \n",
      "10 percent attempts in 40.69 min; zz bounces = 100070, hyp bounces = 36905, total time of process = 37.104 \n",
      "20 percent attempts in 79.77 min; zz bounces = 179538, hyp bounces = 74395, total time of process = 74.638 \n",
      "30 percent attempts in 119.06 min; zz bounces = 261505, hyp bounces = 111721, total time of process = 112.208 \n",
      "40 percent attempts in 157.62 min; zz bounces = 338574, hyp bounces = 149303, total time of process = 149.926 \n",
      "50 percent attempts in 196.61 min; zz bounces = 409886, hyp bounces = 187212, total time of process = 187.691 \n",
      "60 percent attempts in 235.06 min; zz bounces = 480290, hyp bounces = 224895, total time of process = 225.421 \n",
      "70 percent attempts in 273.41 min; zz bounces = 552701, hyp bounces = 262345, total time of process = 263.151 \n",
      "80 percent attempts in 311.74 min; zz bounces = 621826, hyp bounces = 300005, total time of process = 300.822 \n",
      "90 percent attempts in 348.87 min; zz bounces = 692872, hyp bounces = 337613, total time of process = 338.475 \n",
      "100 percent attempts in 376.09 min; zz bounces = 762482, hyp bounces = 375242, total time of process = 376.162 \n",
      "Total time = 1856.33 minutes"
     ]
    }
   ],
   "source": [
    "start = time()\n",
    "for lambda in lambda_list[6:10]\n",
    "    run_sampler(max_attempts, lambda, mb_size, adapt_speed) \n",
    "end\n",
    "print(\"Total time = \", round((time()-start)/60,2), \" minutes\")"
   ]
  },
  {
   "cell_type": "code",
   "execution_count": null,
   "metadata": {
    "collapsed": true
   },
   "outputs": [],
   "source": []
  },
  {
   "cell_type": "code",
   "execution_count": null,
   "metadata": {
    "collapsed": true
   },
   "outputs": [],
   "source": []
  }
 ],
 "metadata": {
  "kernelspec": {
   "display_name": "Julia 0.6.4",
   "language": "julia",
   "name": "julia-0.6"
  },
  "language_info": {
   "file_extension": ".jl",
   "mimetype": "application/julia",
   "name": "julia",
   "version": "0.6.4"
  }
 },
 "nbformat": 4,
 "nbformat_minor": 2
}
