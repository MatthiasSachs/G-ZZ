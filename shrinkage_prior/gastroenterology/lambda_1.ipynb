{
 "cells": [
  {
   "cell_type": "markdown",
   "metadata": {},
   "source": [
    "### [Shrinkage]"
   ]
  },
  {
   "cell_type": "code",
   "execution_count": 1,
   "metadata": {},
   "outputs": [
    {
     "data": {
      "text/plain": [
       "run_sampler (generic function with 2 methods)"
      ]
     },
     "execution_count": 1,
     "metadata": {},
     "output_type": "execute_result"
    }
   ],
   "source": [
    "using Distributions, TimeIt, ProgressMeter, PyPlot\n",
    "include(\"temp_gastroenterology.jl\")"
   ]
  },
  {
   "cell_type": "code",
   "execution_count": 2,
   "metadata": {
    "collapsed": true
   },
   "outputs": [],
   "source": [
    "lambda_list = logspace(1,3,10)\n",
    "adapt_speed = \"by_var\"\n",
    "mb_size = 5\n",
    "max_attempts = 2*10^7;"
   ]
  },
  {
   "cell_type": "code",
   "execution_count": 3,
   "metadata": {},
   "outputs": [
    {
     "name": "stdout",
     "output_type": "stream",
     "text": [
      "10 percent attempts in 38.41 min; zz bounces = 94558, hyp bounces = 407, total time of process = 37.945 \n",
      "20 percent attempts in 74.26 min; zz bounces = 176639, hyp bounces = 780, total time of process = 76.136 \n",
      "30 percent attempts in 110.16 min; zz bounces = 254856, hyp bounces = 1174, total time of process = 114.382 \n",
      "40 percent attempts in 145.40 min; zz bounces = 333074, hyp bounces = 1586, total time of process = 152.741 \n",
      "50 percent attempts in 180.06 min; zz bounces = 407556, hyp bounces = 1972, total time of process = 191.108 \n",
      "60 percent attempts in 215.03 min; zz bounces = 480011, hyp bounces = 2375, total time of process = 229.460 \n",
      "70 percent attempts in 250.46 min; zz bounces = 551123, hyp bounces = 2769, total time of process = 267.780 \n",
      "80 percent attempts in 285.68 min; zz bounces = 627060, hyp bounces = 3150, total time of process = 306.233 \n",
      "90 percent attempts in 320.89 min; zz bounces = 702476, hyp bounces = 3521, total time of process = 344.714 \n",
      "100 percent attempts in 356.31 min; zz bounces = 780781, hyp bounces = 3919, total time of process = 383.089 \n",
      "10 percent attempts in 38.81 min; zz bounces = 100631, hyp bounces = 640, total time of process = 37.891 \n",
      "20 percent attempts in 75.97 min; zz bounces = 183782, hyp bounces = 1307, total time of process = 76.044 \n",
      "30 percent attempts in 112.01 min; zz bounces = 260544, hyp bounces = 1972, total time of process = 114.382 \n",
      "40 percent attempts in 147.38 min; zz bounces = 335248, hyp bounces = 2657, total time of process = 152.788 \n",
      "50 percent attempts in 183.59 min; zz bounces = 414317, hyp bounces = 3243, total time of process = 191.105 \n",
      "60 percent attempts in 219.58 min; zz bounces = 488273, hyp bounces = 3827, total time of process = 229.477 \n",
      "70 percent attempts in 255.14 min; zz bounces = 556747, hyp bounces = 4461, total time of process = 267.928 \n",
      "80 percent attempts in 290.99 min; zz bounces = 631416, hyp bounces = 5144, total time of process = 306.246 \n",
      "90 percent attempts in 325.72 min; zz bounces = 702085, hyp bounces = 5781, total time of process = 344.628 \n",
      "100 percent attempts in 361.11 min; zz bounces = 774575, hyp bounces = 6420, total time of process = 383.018 \n",
      "10 percent attempts in 39.08 min; zz bounces = 97265, hyp bounces = 1050, total time of process = 37.993 \n",
      "20 percent attempts in 76.59 min; zz bounces = 184465, hyp bounces = 2122, total time of process = 76.145 \n",
      "30 percent attempts in 112.89 min; zz bounces = 261025, hyp bounces = 3172, total time of process = 114.412 \n",
      "40 percent attempts in 149.80 min; zz bounces = 341294, hyp bounces = 4244, total time of process = 152.772 \n",
      "50 percent attempts in 185.25 min; zz bounces = 414585, hyp bounces = 5279, total time of process = 191.202 \n",
      "60 percent attempts in 221.68 min; zz bounces = 494513, hyp bounces = 6364, total time of process = 229.627 \n",
      "70 percent attempts in 259.23 min; zz bounces = 574552, hyp bounces = 7451, total time of process = 268.085 \n",
      "80 percent attempts in 296.60 min; zz bounces = 655290, hyp bounces = 8562, total time of process = 306.410 \n",
      "90 percent attempts in 332.44 min; zz bounces = 724962, hyp bounces = 9641, total time of process = 344.918 \n",
      "100 percent attempts in 368.18 min; zz bounces = 793808, hyp bounces = 10666, total time of process = 383.480 \n",
      "10 percent attempts in 38.45 min; zz bounces = 99905, hyp bounces = 1708, total time of process = 37.986 \n",
      "20 percent attempts in 76.22 min; zz bounces = 182445, hyp bounces = 3484, total time of process = 76.415 \n",
      "30 percent attempts in 112.99 min; zz bounces = 262293, hyp bounces = 5200, total time of process = 114.778 \n",
      "40 percent attempts in 149.75 min; zz bounces = 339116, hyp bounces = 7014, total time of process = 153.059 \n",
      "50 percent attempts in 186.18 min; zz bounces = 407034, hyp bounces = 8831, total time of process = 191.415 \n",
      "60 percent attempts in 223.44 min; zz bounces = 479422, hyp bounces = 10538, total time of process = 229.715 \n",
      "70 percent attempts in 259.76 min; zz bounces = 549471, hyp bounces = 12240, total time of process = 268.192 \n",
      "80 percent attempts in 294.46 min; zz bounces = 618299, hyp bounces = 14078, total time of process = 306.560 \n",
      "90 percent attempts in 330.65 min; zz bounces = 691482, hyp bounces = 15903, total time of process = 344.978 \n",
      "100 percent attempts in 365.87 min; zz bounces = 756492, hyp bounces = 17754, total time of process = 383.453 \n",
      "10 percent attempts in 39.54 min; zz bounces = 99436, hyp bounces = 2913, total time of process = 37.743 \n",
      "20 percent attempts in 77.68 min; zz bounces = 177669, hyp bounces = 5829, total time of process = 75.924 \n",
      "30 percent attempts in 115.23 min; zz bounces = 255666, hyp bounces = 8801, total time of process = 114.207 \n",
      "40 percent attempts in 151.92 min; zz bounces = 326151, hyp bounces = 11774, total time of process = 152.478 \n",
      "50 percent attempts in 189.47 min; zz bounces = 404871, hyp bounces = 14689, total time of process = 190.677 \n",
      "60 percent attempts in 226.46 min; zz bounces = 480223, hyp bounces = 17693, total time of process = 228.955 \n",
      "70 percent attempts in 263.52 min; zz bounces = 552540, hyp bounces = 20681, total time of process = 267.269 \n",
      "80 percent attempts in 300.26 min; zz bounces = 624085, hyp bounces = 23635, total time of process = 305.648 \n",
      "90 percent attempts in 336.28 min; zz bounces = 688492, hyp bounces = 26554, total time of process = 344.074 \n",
      "100 percent attempts in 373.13 min; zz bounces = 757125, hyp bounces = 29574, total time of process = 382.470 \n",
      "Total time = 1825.09 minutes"
     ]
    }
   ],
   "source": [
    "start = time()\n",
    "for lambda in lambda_list[1:5]\n",
    "    run_sampler(max_attempts, lambda, mb_size, adapt_speed) \n",
    "end\n",
    "print(\"Total time = \", round((time()-start)/60,2), \" minutes\")"
   ]
  },
  {
   "cell_type": "code",
   "execution_count": null,
   "metadata": {
    "collapsed": true
   },
   "outputs": [],
   "source": []
  },
  {
   "cell_type": "code",
   "execution_count": null,
   "metadata": {
    "collapsed": true
   },
   "outputs": [],
   "source": []
  }
 ],
 "metadata": {
  "kernelspec": {
   "display_name": "Julia 0.6.4",
   "language": "julia",
   "name": "julia-0.6"
  },
  "language_info": {
   "file_extension": ".jl",
   "mimetype": "application/julia",
   "name": "julia",
   "version": "0.6.4"
  }
 },
 "nbformat": 4,
 "nbformat_minor": 2
}
