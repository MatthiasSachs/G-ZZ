{
 "cells": [
  {
   "cell_type": "markdown",
   "metadata": {},
   "source": [
    "### [Shrinkage]"
   ]
  },
  {
   "cell_type": "code",
   "execution_count": 1,
   "metadata": {},
   "outputs": [
    {
     "data": {
      "text/plain": [
       "run_sampler (generic function with 2 methods)"
      ]
     },
     "execution_count": 1,
     "metadata": {},
     "output_type": "execute_result"
    }
   ],
   "source": [
    "using Distributions, TimeIt, ProgressMeter, PyPlot\n",
    "include(\"temp_gastroenterology.jl\")"
   ]
  },
  {
   "cell_type": "code",
   "execution_count": 2,
   "metadata": {
    "collapsed": true
   },
   "outputs": [],
   "source": [
    "lambda = 1e2\n",
    "adapt_speed = \"by_var\"\n",
    "mb_size_list = 1:10\n",
    "max_attempts = 2*10^7;"
   ]
  },
  {
   "cell_type": "code",
   "execution_count": 3,
   "metadata": {},
   "outputs": [
    {
     "name": "stdout",
     "output_type": "stream",
     "text": [
      "10 percent attempts in 38.55 min; zz bounces = 136197, hyp bounces = 3795, total time of process = 37.830 \n",
      "20 percent attempts in 76.66 min; zz bounces = 245478, hyp bounces = 7592, total time of process = 75.917 \n",
      "30 percent attempts in 112.55 min; zz bounces = 339091, hyp bounces = 11411, total time of process = 114.041 \n",
      "40 percent attempts in 147.53 min; zz bounces = 424945, hyp bounces = 15311, total time of process = 152.149 \n",
      "50 percent attempts in 182.39 min; zz bounces = 513811, hyp bounces = 19075, total time of process = 190.225 \n",
      "60 percent attempts in 217.38 min; zz bounces = 604318, hyp bounces = 22994, total time of process = 228.427 \n",
      "70 percent attempts in 252.30 min; zz bounces = 687342, hyp bounces = 26834, total time of process = 266.720 \n",
      "80 percent attempts in 287.95 min; zz bounces = 781971, hyp bounces = 30628, total time of process = 304.958 \n",
      "90 percent attempts in 321.74 min; zz bounces = 863684, hyp bounces = 34581, total time of process = 343.318 \n",
      "100 percent attempts in 356.68 min; zz bounces = 956936, hyp bounces = 38465, total time of process = 381.590 \n",
      "10 percent attempts in 37.73 min; zz bounces = 115189, hyp bounces = 3765, total time of process = 37.640 \n",
      "20 percent attempts in 73.50 min; zz bounces = 208505, hyp bounces = 7559, total time of process = 75.541 \n",
      "30 percent attempts in 109.75 min; zz bounces = 295678, hyp bounces = 11320, total time of process = 113.677 \n",
      "40 percent attempts in 145.65 min; zz bounces = 385174, hyp bounces = 15157, total time of process = 151.894 \n",
      "50 percent attempts in 181.63 min; zz bounces = 472088, hyp bounces = 19064, total time of process = 190.086 \n",
      "60 percent attempts in 215.95 min; zz bounces = 550032, hyp bounces = 22956, total time of process = 228.369 \n",
      "70 percent attempts in 251.75 min; zz bounces = 634671, hyp bounces = 26734, total time of process = 266.647 \n",
      "80 percent attempts in 286.24 min; zz bounces = 711703, hyp bounces = 30616, total time of process = 305.100 \n",
      "90 percent attempts in 321.25 min; zz bounces = 793064, hyp bounces = 34340, total time of process = 343.487 \n",
      "100 percent attempts in 356.41 min; zz bounces = 872598, hyp bounces = 38154, total time of process = 381.881 \n",
      "10 percent attempts in 38.06 min; zz bounces = 105791, hyp bounces = 3857, total time of process = 37.861 \n",
      "20 percent attempts in 74.91 min; zz bounces = 194780, hyp bounces = 7618, total time of process = 76.190 \n",
      "30 percent attempts in 110.64 min; zz bounces = 274896, hyp bounces = 11508, total time of process = 114.620 \n",
      "40 percent attempts in 146.76 min; zz bounces = 355639, hyp bounces = 15479, total time of process = 153.071 \n",
      "50 percent attempts in 182.32 min; zz bounces = 429520, hyp bounces = 19441, total time of process = 192.182 \n",
      "60 percent attempts in 219.24 min; zz bounces = 514057, hyp bounces = 23360, total time of process = 231.388 \n",
      "70 percent attempts in 255.12 min; zz bounces = 590951, hyp bounces = 27289, total time of process = 270.585 \n",
      "80 percent attempts in 290.64 min; zz bounces = 662054, hyp bounces = 31153, total time of process = 309.763 \n",
      "90 percent attempts in 325.21 min; zz bounces = 727353, hyp bounces = 34979, total time of process = 348.935 \n",
      "100 percent attempts in 360.75 min; zz bounces = 799124, hyp bounces = 38908, total time of process = 387.952 \n",
      "10 percent attempts in 38.30 min; zz bounces = 100785, hyp bounces = 3772, total time of process = 37.876 \n",
      "20 percent attempts in 75.78 min; zz bounces = 186652, hyp bounces = 7557, total time of process = 76.022 \n",
      "30 percent attempts in 111.64 min; zz bounces = 269030, hyp bounces = 11475, total time of process = 114.110 \n",
      "40 percent attempts in 146.80 min; zz bounces = 349649, hyp bounces = 15356, total time of process = 152.246 \n",
      "50 percent attempts in 181.75 min; zz bounces = 423329, hyp bounces = 19221, total time of process = 190.572 \n",
      "60 percent attempts in 217.03 min; zz bounces = 499591, hyp bounces = 22944, total time of process = 228.944 \n",
      "70 percent attempts in 251.73 min; zz bounces = 573887, hyp bounces = 26704, total time of process = 267.227 \n",
      "80 percent attempts in 286.33 min; zz bounces = 644303, hyp bounces = 30492, total time of process = 305.631 \n",
      "90 percent attempts in 320.38 min; zz bounces = 714104, hyp bounces = 34285, total time of process = 344.069 \n",
      "100 percent attempts in 355.17 min; zz bounces = 785591, hyp bounces = 38022, total time of process = 382.388 \n",
      "10 percent attempts in 36.30 min; zz bounces = 96264, hyp bounces = 3712, total time of process = 37.904 \n",
      "20 percent attempts in 72.52 min; zz bounces = 176208, hyp bounces = 7526, total time of process = 76.059 \n",
      "30 percent attempts in 109.36 min; zz bounces = 259320, hyp bounces = 11322, total time of process = 114.177 \n",
      "40 percent attempts in 144.94 min; zz bounces = 332960, hyp bounces = 15255, total time of process = 152.467 \n",
      "50 percent attempts in 179.62 min; zz bounces = 399495, hyp bounces = 19044, total time of process = 190.813 \n",
      "60 percent attempts in 214.14 min; zz bounces = 466662, hyp bounces = 22939, total time of process = 229.210 \n",
      "70 percent attempts in 248.40 min; zz bounces = 528608, hyp bounces = 26707, total time of process = 267.616 \n",
      "80 percent attempts in 283.00 min; zz bounces = 593360, hyp bounces = 30570, total time of process = 306.005 \n",
      "90 percent attempts in 317.23 min; zz bounces = 652539, hyp bounces = 34426, total time of process = 344.376 \n",
      "100 percent attempts in 352.26 min; zz bounces = 720594, hyp bounces = 38389, total time of process = 382.753 \n",
      "Total time = 1781.77 minutes"
     ]
    }
   ],
   "source": [
    "start = time()\n",
    "for mb_size in mb_size_list[1:5]\n",
    "    run_sampler(max_attempts, lambda, mb_size, adapt_speed) \n",
    "end\n",
    "print(\"Total time = \", round((time()-start)/60,2), \" minutes\")"
   ]
  },
  {
   "cell_type": "code",
   "execution_count": null,
   "metadata": {
    "collapsed": true
   },
   "outputs": [],
   "source": []
  },
  {
   "cell_type": "code",
   "execution_count": null,
   "metadata": {
    "collapsed": true
   },
   "outputs": [],
   "source": []
  },
  {
   "cell_type": "code",
   "execution_count": null,
   "metadata": {
    "collapsed": true
   },
   "outputs": [],
   "source": []
  },
  {
   "cell_type": "code",
   "execution_count": null,
   "metadata": {
    "collapsed": true
   },
   "outputs": [],
   "source": []
  },
  {
   "cell_type": "code",
   "execution_count": null,
   "metadata": {
    "collapsed": true
   },
   "outputs": [],
   "source": []
  }
 ],
 "metadata": {
  "kernelspec": {
   "display_name": "Julia 0.6.4",
   "language": "julia",
   "name": "julia-0.6"
  },
  "language_info": {
   "file_extension": ".jl",
   "mimetype": "application/julia",
   "name": "julia",
   "version": "0.6.4"
  }
 },
 "nbformat": 4,
 "nbformat_minor": 2
}
