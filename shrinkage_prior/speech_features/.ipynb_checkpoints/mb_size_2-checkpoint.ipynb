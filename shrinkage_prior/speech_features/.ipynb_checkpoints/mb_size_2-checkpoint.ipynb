{
 "cells": [
  {
   "cell_type": "markdown",
   "metadata": {},
   "source": [
    "### [Shrinkage]"
   ]
  },
  {
   "cell_type": "code",
   "execution_count": 1,
   "metadata": {},
   "outputs": [
    {
     "data": {
      "text/plain": [
       "1000.0"
      ]
     },
     "execution_count": 1,
     "metadata": {},
     "output_type": "execute_result"
    }
   ],
   "source": [
    "include(\"temp_speech_features.jl\")\n",
    "max_attempts = 10^8\n",
    "lambda = 1e3"
   ]
  },
  {
   "cell_type": "code",
   "execution_count": 2,
   "metadata": {},
   "outputs": [
    {
     "name": "stdout",
     "output_type": "stream",
     "text": [
      "10 percent attempts in 490.75 min; zz bounces = 410733, hyp bounces = 30434, total time of process = 30.619 \n",
      "20 percent attempts in 955.52 min; zz bounces = 777300, hyp bounces = 60725, total time of process = 60.905 \n",
      "30 percent attempts in 1409.93 min; zz bounces = 1128226, hyp bounces = 91072, total time of process = 91.050 \n",
      "40 percent attempts in 1854.65 min; zz bounces = 1458818, hyp bounces = 121186, total time of process = 121.036 \n",
      "50 percent attempts in 2297.96 min; zz bounces = 1788079, hyp bounces = 150964, total time of process = 150.925 \n",
      "60 percent attempts in 2728.63 min; zz bounces = 2088669, hyp bounces = 180716, total time of process = 180.767 \n",
      "70 percent attempts in 3165.31 min; zz bounces = 2405517, hyp bounces = 210388, total time of process = 210.583 \n",
      "80 percent attempts in 3611.44 min; zz bounces = 2744594, hyp bounces = 240077, total time of process = 240.364 \n",
      "90 percent attempts in 4050.03 min; zz bounces = 3061547, hyp bounces = 270206, total time of process = 270.180 \n",
      "100 percent attempts in 4494.43 min; zz bounces = 3377712, hyp bounces = 300381, total time of process = 299.975 \n",
      "10 percent attempts in 487.91 min; zz bounces = 398920, hyp bounces = 29973, total time of process = 30.160 \n"
     ]
    },
    {
     "ename": "LoadError",
     "evalue": "\u001b[91mInterruptException:\u001b[39m",
     "output_type": "error",
     "traceback": [
      "\u001b[91mInterruptException:\u001b[39m",
      "",
      "Stacktrace:",
      " [1] \u001b[1mupdate_bound\u001b[22m\u001b[22m\u001b[1m(\u001b[22m\u001b[22m::linear_bound, ::ll_logistic_sp, ::SS_prior, ::mbsampler_list, ::zz_state\u001b[1m)\u001b[22m\u001b[22m at \u001b[1m/home/postdoc/dsen/Desktop/G-ZZ/jl_files/bounds.jl:23\u001b[22m\u001b[22m",
      " [2] \u001b[1mget_event_time\u001b[22m\u001b[22m\u001b[1m(\u001b[22m\u001b[22m::zz_sampler, ::zz_state, ::model\u001b[1m)\u001b[22m\u001b[22m at \u001b[1m/home/postdoc/dsen/Desktop/G-ZZ/jl_files/zz_samplers.jl:235\u001b[22m\u001b[22m",
      " [3] \u001b[1mcollect\u001b[22m\u001b[22m\u001b[1m(\u001b[22m\u001b[22m::Base.Generator{UnitRange{Int64},##271#272{model,Array{msampler,1},zz_state}}\u001b[1m)\u001b[22m\u001b[22m at \u001b[1m./array.jl:470\u001b[22m\u001b[22m",
      " [4] \u001b[1mZZ_block_sample\u001b[22m\u001b[22m\u001b[1m(\u001b[22m\u001b[22m::model, ::outputscheduler, ::Array{msampler,1}, ::zz_state, ::Bool\u001b[1m)\u001b[22m\u001b[22m at \u001b[1m/home/postdoc/dsen/Desktop/G-ZZ/jl_files/zz_samplers.jl:318\u001b[22m\u001b[22m",
      " [5] \u001b[1mZZ_block_sample\u001b[22m\u001b[22m\u001b[1m(\u001b[22m\u001b[22m::model, ::outputscheduler, ::Array{msampler,1}, ::zz_state\u001b[1m)\u001b[22m\u001b[22m at \u001b[1m/home/postdoc/dsen/Desktop/G-ZZ/jl_files/zz_samplers.jl:308\u001b[22m\u001b[22m",
      " [6] \u001b[1mrun_sampler\u001b[22m\u001b[22m\u001b[1m(\u001b[22m\u001b[22m::Int64, ::Float64, ::Int64\u001b[1m)\u001b[22m\u001b[22m at \u001b[1m/home/postdoc/dsen/Desktop/G-ZZ/shrinkage_prior/speech_features/temp_speech_features.jl:64\u001b[22m\u001b[22m",
      " [7] \u001b[1mmacro expansion\u001b[22m\u001b[22m at \u001b[1m./In[2]:2\u001b[22m\u001b[22m [inlined]",
      " [8] \u001b[1manonymous\u001b[22m\u001b[22m at \u001b[1m./<missing>:?\u001b[22m\u001b[22m",
      " [9] \u001b[1minclude_string\u001b[22m\u001b[22m\u001b[1m(\u001b[22m\u001b[22m::String, ::String\u001b[1m)\u001b[22m\u001b[22m at \u001b[1m./loading.jl:522\u001b[22m\u001b[22m"
     ]
    }
   ],
   "source": [
    "for mb_size in 6:10\n",
    "    run_sampler(max_attempts, lambda, mb_size) \n",
    "end"
   ]
  },
  {
   "cell_type": "code",
   "execution_count": null,
   "metadata": {
    "collapsed": true
   },
   "outputs": [],
   "source": []
  }
 ],
 "metadata": {
  "kernelspec": {
   "display_name": "Julia 0.6.4",
   "language": "julia",
   "name": "julia-0.6"
  },
  "language_info": {
   "file_extension": ".jl",
   "mimetype": "application/julia",
   "name": "julia",
   "version": "0.6.4"
  }
 },
 "nbformat": 4,
 "nbformat_minor": 2
}
