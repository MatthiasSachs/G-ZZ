{
 "cells": [
  {
   "cell_type": "markdown",
   "metadata": {},
   "source": [
    "### [Shrinkage]"
   ]
  },
  {
   "cell_type": "code",
   "execution_count": 5,
   "metadata": {},
   "outputs": [
    {
     "data": {
      "text/plain": [
       "5"
      ]
     },
     "execution_count": 5,
     "metadata": {},
     "output_type": "execute_result"
    }
   ],
   "source": [
    "include(\"temp_speech_features.jl\")\n",
    "max_attempts = 10^7\n",
    "mb_size = 5"
   ]
  },
  {
   "cell_type": "code",
   "execution_count": 6,
   "metadata": {},
   "outputs": [
    {
     "ename": "LoadError",
     "evalue": "\u001b[91mInterruptException:\u001b[39m",
     "output_type": "error",
     "traceback": [
      "\u001b[91mInterruptException:\u001b[39m",
      "",
      "Stacktrace:",
      " [1] \u001b[1mfeed\u001b[22m\u001b[22m\u001b[1m(\u001b[22m\u001b[22m::outputscheduler, ::zz_state, ::SS_prior, ::Float64, ::Bool\u001b[1m)\u001b[22m\u001b[22m at \u001b[1m/home/postdoc/dsen/Desktop/G-ZZ/jl_files/zz_samplers.jl:72\u001b[22m\u001b[22m",
      " [2] \u001b[1mZZ_block_sample\u001b[22m\u001b[22m\u001b[1m(\u001b[22m\u001b[22m::model, ::outputscheduler, ::Array{msampler,1}, ::zz_state, ::Bool\u001b[1m)\u001b[22m\u001b[22m at \u001b[1m/home/postdoc/dsen/Desktop/G-ZZ/jl_files/zz_samplers.jl:324\u001b[22m\u001b[22m",
      " [3] \u001b[1mZZ_block_sample\u001b[22m\u001b[22m\u001b[1m(\u001b[22m\u001b[22m::model, ::outputscheduler, ::Array{msampler,1}, ::zz_state\u001b[1m)\u001b[22m\u001b[22m at \u001b[1m/home/postdoc/dsen/Desktop/G-ZZ/jl_files/zz_samplers.jl:308\u001b[22m\u001b[22m",
      " [4] \u001b[1mrun_sampler\u001b[22m\u001b[22m\u001b[1m(\u001b[22m\u001b[22m::Int64, ::Float64, ::Int64\u001b[1m)\u001b[22m\u001b[22m at \u001b[1m/home/postdoc/dsen/Desktop/G-ZZ/shrinkage_prior/speech_features/temp_speech_features.jl:64\u001b[22m\u001b[22m",
      " [5] \u001b[1mmacro expansion\u001b[22m\u001b[22m at \u001b[1m./In[6]:2\u001b[22m\u001b[22m [inlined]",
      " [6] \u001b[1manonymous\u001b[22m\u001b[22m at \u001b[1m./<missing>:?\u001b[22m\u001b[22m",
      " [7] \u001b[1minclude_string\u001b[22m\u001b[22m\u001b[1m(\u001b[22m\u001b[22m::String, ::String\u001b[1m)\u001b[22m\u001b[22m at \u001b[1m./loading.jl:522\u001b[22m\u001b[22m"
     ]
    }
   ],
   "source": [
    "for lambda in logspace(1,4,10)[6:10]\n",
    "    run_sampler(max_attempts, lambda, mb_size) \n",
    "end"
   ]
  },
  {
   "cell_type": "code",
   "execution_count": null,
   "metadata": {
    "collapsed": true
   },
   "outputs": [],
   "source": []
  }
 ],
 "metadata": {
  "kernelspec": {
   "display_name": "Julia 0.6.4",
   "language": "julia",
   "name": "julia-0.6"
  },
  "language_info": {
   "file_extension": ".jl",
   "mimetype": "application/julia",
   "name": "julia",
   "version": "0.6.4"
  }
 },
 "nbformat": 4,
 "nbformat_minor": 2
}
