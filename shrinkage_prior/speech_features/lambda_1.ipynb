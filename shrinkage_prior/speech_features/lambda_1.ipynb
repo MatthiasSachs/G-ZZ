{
 "cells": [
  {
   "cell_type": "markdown",
   "metadata": {},
   "source": [
    "### [Shrinkage]"
   ]
  },
  {
   "cell_type": "code",
   "execution_count": 6,
   "metadata": {},
   "outputs": [
    {
     "data": {
      "text/plain": [
       "5"
      ]
     },
     "execution_count": 6,
     "metadata": {},
     "output_type": "execute_result"
    }
   ],
   "source": [
    "include(\"temp_speech_features.jl\")\n",
    "max_attempts = 10^5\n",
    "mb_size = 5"
   ]
  },
  {
   "cell_type": "code",
   "execution_count": 5,
   "metadata": {},
   "outputs": [
    {
     "name": "stdout",
     "output_type": "stream",
     "text": [
      "10 percent attempts in 479.30 min; zz bounces = 449236, hyp bounces = 318, total time of process = 30.472 \n",
      "20 percent attempts in 932.32 min; zz bounces = 834002, hyp bounces = 614, total time of process = 60.477 \n",
      "30 percent attempts in 1371.49 min; zz bounces = 1188514, hyp bounces = 919, total time of process = 90.353 \n",
      "40 percent attempts in 1804.47 min; zz bounces = 1530171, hyp bounces = 1223, total time of process = 120.226 \n",
      "50 percent attempts in 2237.39 min; zz bounces = 1877246, hyp bounces = 1552, total time of process = 150.061 \n",
      "60 percent attempts in 2666.07 min; zz bounces = 2218759, hyp bounces = 1854, total time of process = 179.828 \n",
      "70 percent attempts in 3093.19 min; zz bounces = 2555385, hyp bounces = 2131, total time of process = 209.641 \n",
      "80 percent attempts in 3524.56 min; zz bounces = 2899457, hyp bounces = 2422, total time of process = 239.507 \n",
      "90 percent attempts in 3952.24 min; zz bounces = 3234565, hyp bounces = 2717, total time of process = 269.403 \n",
      "100 percent attempts in 4378.92 min; zz bounces = 3559938, hyp bounces = 3022, total time of process = 299.285 \n",
      "10 percent attempts in 474.60 min; zz bounces = 431853, hyp bounces = 626, total time of process = 30.209 \n"
     ]
    },
    {
     "ename": "LoadError",
     "evalue": "\u001b[91mInterruptException:\u001b[39m",
     "output_type": "error",
     "traceback": [
      "\u001b[91mInterruptException:\u001b[39m",
      "",
      "Stacktrace:",
      " [1] \u001b[1mcollect_to!\u001b[22m\u001b[22m\u001b[1m(\u001b[22m\u001b[22m::Array{Float64,1}, ::Base.Generator{UnitRange{Int64},##567#568{zz_sampler}}, ::Int64, ::Int64\u001b[1m)\u001b[22m\u001b[22m at \u001b[1m./array.jl:503\u001b[22m\u001b[22m",
      " [2] \u001b[1mcollect_to_with_first!\u001b[22m\u001b[22m\u001b[1m(\u001b[22m\u001b[22m::Array{Float64,1}, ::Float64, ::Base.Generator{UnitRange{Int64},##567#568{zz_sampler}}, ::Int64\u001b[1m)\u001b[22m\u001b[22m at \u001b[1m./array.jl:490\u001b[22m\u001b[22m",
      " [3] \u001b[1mcollect\u001b[22m\u001b[22m\u001b[1m(\u001b[22m\u001b[22m::Base.Generator{UnitRange{Int64},##567#568{zz_sampler}}\u001b[1m)\u001b[22m\u001b[22m at \u001b[1m./array.jl:471\u001b[22m\u001b[22m",
      " [4] \u001b[1mget_event_time\u001b[22m\u001b[22m\u001b[1m(\u001b[22m\u001b[22m::zz_sampler, ::zz_state, ::model\u001b[1m)\u001b[22m\u001b[22m at \u001b[1m/home/postdoc/dsen/Desktop/G-ZZ/jl_files/zz_samplers.jl:236\u001b[22m\u001b[22m",
      " [5] \u001b[1mcollect\u001b[22m\u001b[22m\u001b[1m(\u001b[22m\u001b[22m::Base.Generator{UnitRange{Int64},##579#580{model,Array{msampler,1},zz_state}}\u001b[1m)\u001b[22m\u001b[22m at \u001b[1m./array.jl:470\u001b[22m\u001b[22m",
      " [6] \u001b[1mZZ_block_sample\u001b[22m\u001b[22m\u001b[1m(\u001b[22m\u001b[22m::model, ::outputscheduler, ::Array{msampler,1}, ::zz_state, ::Bool\u001b[1m)\u001b[22m\u001b[22m at \u001b[1m/home/postdoc/dsen/Desktop/G-ZZ/jl_files/zz_samplers.jl:318\u001b[22m\u001b[22m",
      " [7] \u001b[1mZZ_block_sample\u001b[22m\u001b[22m\u001b[1m(\u001b[22m\u001b[22m::model, ::outputscheduler, ::Array{msampler,1}, ::zz_state\u001b[1m)\u001b[22m\u001b[22m at \u001b[1m/home/postdoc/dsen/Desktop/G-ZZ/jl_files/zz_samplers.jl:308\u001b[22m\u001b[22m",
      " [8] \u001b[1mrun_sampler\u001b[22m\u001b[22m\u001b[1m(\u001b[22m\u001b[22m::Int64, ::Float64, ::Int64\u001b[1m)\u001b[22m\u001b[22m at \u001b[1m/home/postdoc/dsen/Desktop/G-ZZ/shrinkage_prior/speech_features/temp_speech_features.jl:64\u001b[22m\u001b[22m",
      " [9] \u001b[1mmacro expansion\u001b[22m\u001b[22m at \u001b[1m./In[5]:2\u001b[22m\u001b[22m [inlined]",
      " [10] \u001b[1manonymous\u001b[22m\u001b[22m at \u001b[1m./<missing>:?\u001b[22m\u001b[22m",
      " [11] \u001b[1minclude_string\u001b[22m\u001b[22m\u001b[1m(\u001b[22m\u001b[22m::String, ::String\u001b[1m)\u001b[22m\u001b[22m at \u001b[1m./loading.jl:522\u001b[22m\u001b[22m"
     ]
    },
    {
     "name": "stderr",
     "output_type": "stream",
     "text": [
      "\u001b[91mERROR (unhandled task failure): \u001b[91mInterruptException:\u001b[39m\n",
      "Stacktrace:\n",
      " [1] \u001b[1mprocess_events\u001b[22m\u001b[22m at \u001b[1m./libuv.jl:82\u001b[22m\u001b[22m [inlined]\n",
      " [2] \u001b[1mwait\u001b[22m\u001b[22m\u001b[1m(\u001b[22m\u001b[22m\u001b[1m)\u001b[22m\u001b[22m at \u001b[1m./event.jl:216\u001b[22m\u001b[22m\n",
      " [3] \u001b[1mwait\u001b[22m\u001b[22m\u001b[1m(\u001b[22m\u001b[22m::Condition\u001b[1m)\u001b[22m\u001b[22m at \u001b[1m./event.jl:27\u001b[22m\u001b[22m\n",
      " [4] \u001b[1mstream_wait\u001b[22m\u001b[22m\u001b[1m(\u001b[22m\u001b[22m::Timer, ::Condition, ::Vararg{Condition,N} where N\u001b[1m)\u001b[22m\u001b[22m at \u001b[1m./stream.jl:42\u001b[22m\u001b[22m\n",
      " [5] \u001b[1mwait\u001b[22m\u001b[22m\u001b[1m(\u001b[22m\u001b[22m::Timer\u001b[1m)\u001b[22m\u001b[22m at \u001b[1m./event.jl:357\u001b[22m\u001b[22m\n",
      " [6] \u001b[1m(::Base.##302#303{IJulia.#send_stderr,Timer})\u001b[22m\u001b[22m\u001b[1m(\u001b[22m\u001b[22m\u001b[1m)\u001b[22m\u001b[22m at \u001b[1m./event.jl:430\u001b[22m\u001b[22m\n",
      "\u001b[39m"
     ]
    }
   ],
   "source": [
    "for lambda in logspace(1,4,10)[1:5]\n",
    "    run_sampler(max_attempts, lambda, mb_size) \n",
    "end"
   ]
  },
  {
   "cell_type": "code",
   "execution_count": null,
   "metadata": {
    "collapsed": true
   },
   "outputs": [],
   "source": []
  }
 ],
 "metadata": {
  "kernelspec": {
   "display_name": "Julia 0.6.4",
   "language": "julia",
   "name": "julia-0.6"
  },
  "language_info": {
   "file_extension": ".jl",
   "mimetype": "application/julia",
   "name": "julia",
   "version": "0.6.4"
  }
 },
 "nbformat": 4,
 "nbformat_minor": 2
}
