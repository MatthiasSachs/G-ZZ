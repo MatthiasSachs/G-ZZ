{
 "cells": [
  {
   "cell_type": "markdown",
   "metadata": {},
   "source": [
    "### [Shrinkage]"
   ]
  },
  {
   "cell_type": "code",
   "execution_count": 3,
   "metadata": {},
   "outputs": [
    {
     "data": {
      "text/plain": [
       "1000.0"
      ]
     },
     "execution_count": 3,
     "metadata": {},
     "output_type": "execute_result"
    }
   ],
   "source": [
    "include(\"temp_speech_features.jl\")\n",
    "max_attempts = 10^7\n",
    "lambda = 1e3"
   ]
  },
  {
   "cell_type": "code",
   "execution_count": 4,
   "metadata": {},
   "outputs": [
    {
     "ename": "LoadError",
     "evalue": "\u001b[91mInterruptException:\u001b[39m",
     "output_type": "error",
     "traceback": [
      "\u001b[91mInterruptException:\u001b[39m",
      "",
      "Stacktrace:",
      " [1] \u001b[1m_methods_by_ftype\u001b[22m\u001b[22m\u001b[1m(\u001b[22m\u001b[22m::Any, ::Int64, ::UInt64, ::Array{UInt64,1}, ::Array{UInt64,1}\u001b[1m)\u001b[22m\u001b[22m at \u001b[1m./reflection.jl:521\u001b[22m\u001b[22m",
      " [2] \u001b[1m_methods_by_ftype\u001b[22m\u001b[22m\u001b[1m(\u001b[22m\u001b[22m::Any, ::Int64, ::UInt64\u001b[1m)\u001b[22m\u001b[22m at \u001b[1m./reflection.jl:507\u001b[22m\u001b[22m",
      " [3] \u001b[1m_methods\u001b[22m\u001b[22m\u001b[1m(\u001b[22m\u001b[22m::ANY, ::ANY, ::Int64, ::UInt64\u001b[1m)\u001b[22m\u001b[22m at \u001b[1m./reflection.jl:503\u001b[22m\u001b[22m",
      " [4] \u001b[1mreturn_type\u001b[22m\u001b[22m\u001b[1m(\u001b[22m\u001b[22m::Any, ::Any\u001b[1m)\u001b[22m\u001b[22m at \u001b[1m./inference.jl:5401\u001b[22m\u001b[22m",
      " [5] \u001b[1mbroadcast_c\u001b[22m\u001b[22m at \u001b[1m./broadcast.jl:312\u001b[22m\u001b[22m [inlined]",
      " [6] \u001b[1mbroadcast\u001b[22m\u001b[22m\u001b[1m(\u001b[22m\u001b[22m::Function, ::Array{Int64,1}, ::Array{Float64,1}\u001b[1m)\u001b[22m\u001b[22m at \u001b[1m./broadcast.jl:455\u001b[22m\u001b[22m",
      " [7] \u001b[1mget_σ2\u001b[22m\u001b[22m\u001b[1m(\u001b[22m\u001b[22m::SS_prior\u001b[1m)\u001b[22m\u001b[22m at \u001b[1m/home/postdoc/dsen/Desktop/G-ZZ/jl_files/priors.jl:137\u001b[22m\u001b[22m",
      " [8] \u001b[1mupdate_bound\u001b[22m\u001b[22m\u001b[1m(\u001b[22m\u001b[22m::linear_bound, ::ll_logistic_sp, ::SS_prior, ::mbsampler_list, ::zz_state\u001b[1m)\u001b[22m\u001b[22m at \u001b[1m/home/postdoc/dsen/Desktop/G-ZZ/jl_files/bounds.jl:23\u001b[22m\u001b[22m",
      " [9] \u001b[1mget_event_time\u001b[22m\u001b[22m\u001b[1m(\u001b[22m\u001b[22m::zz_sampler, ::zz_state, ::model\u001b[1m)\u001b[22m\u001b[22m at \u001b[1m/home/postdoc/dsen/Desktop/G-ZZ/jl_files/zz_samplers.jl:235\u001b[22m\u001b[22m",
      " [10] \u001b[1mcollect\u001b[22m\u001b[22m\u001b[1m(\u001b[22m\u001b[22m::Base.Generator{UnitRange{Int64},##579#580{model,Array{msampler,1},zz_state}}\u001b[1m)\u001b[22m\u001b[22m at \u001b[1m./array.jl:470\u001b[22m\u001b[22m",
      " [11] \u001b[1mZZ_block_sample\u001b[22m\u001b[22m\u001b[1m(\u001b[22m\u001b[22m::model, ::outputscheduler, ::Array{msampler,1}, ::zz_state, ::Bool\u001b[1m)\u001b[22m\u001b[22m at \u001b[1m/home/postdoc/dsen/Desktop/G-ZZ/jl_files/zz_samplers.jl:318\u001b[22m\u001b[22m",
      " [12] \u001b[1mZZ_block_sample\u001b[22m\u001b[22m\u001b[1m(\u001b[22m\u001b[22m::model, ::outputscheduler, ::Array{msampler,1}, ::zz_state\u001b[1m)\u001b[22m\u001b[22m at \u001b[1m/home/postdoc/dsen/Desktop/G-ZZ/jl_files/zz_samplers.jl:308\u001b[22m\u001b[22m",
      " [13] \u001b[1mrun_sampler\u001b[22m\u001b[22m\u001b[1m(\u001b[22m\u001b[22m::Int64, ::Float64, ::Int64\u001b[1m)\u001b[22m\u001b[22m at \u001b[1m/home/postdoc/dsen/Desktop/G-ZZ/shrinkage_prior/speech_features/temp_speech_features.jl:64\u001b[22m\u001b[22m",
      " [14] \u001b[1mmacro expansion\u001b[22m\u001b[22m at \u001b[1m./In[4]:2\u001b[22m\u001b[22m [inlined]",
      " [15] \u001b[1manonymous\u001b[22m\u001b[22m at \u001b[1m./<missing>:?\u001b[22m\u001b[22m",
      " [16] \u001b[1minclude_string\u001b[22m\u001b[22m\u001b[1m(\u001b[22m\u001b[22m::String, ::String\u001b[1m)\u001b[22m\u001b[22m at \u001b[1m./loading.jl:522\u001b[22m\u001b[22m"
     ]
    }
   ],
   "source": [
    "for mb_size in 6:10\n",
    "    run_sampler(max_attempts, lambda, mb_size) \n",
    "end"
   ]
  },
  {
   "cell_type": "code",
   "execution_count": null,
   "metadata": {
    "collapsed": true
   },
   "outputs": [],
   "source": []
  }
 ],
 "metadata": {
  "kernelspec": {
   "display_name": "Julia 0.6.4",
   "language": "julia",
   "name": "julia-0.6"
  },
  "language_info": {
   "file_extension": ".jl",
   "mimetype": "application/julia",
   "name": "julia",
   "version": "0.6.4"
  }
 },
 "nbformat": 4,
 "nbformat_minor": 2
}
