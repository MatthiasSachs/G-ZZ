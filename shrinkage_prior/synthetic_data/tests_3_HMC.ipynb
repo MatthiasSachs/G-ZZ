{
 "cells": [
  {
   "cell_type": "code",
   "execution_count": 1,
   "metadata": {},
   "outputs": [
    {
     "data": {
      "text/plain": [
       "run_sampler (generic function with 4 methods)"
      ]
     },
     "execution_count": 1,
     "metadata": {},
     "output_type": "execute_result"
    }
   ],
   "source": [
    "using Distributions, TimeIt, ProgressMeter, PyPlot, JLD\n",
    "include(\"/home/postdoc/dsen/Desktop/G-ZZ/jl_files/zz_samplers.jl\")\n",
    "include(\"temp.jl\")"
   ]
  },
  {
   "cell_type": "code",
   "execution_count": 2,
   "metadata": {
    "collapsed": true
   },
   "outputs": [],
   "source": [
    "X, y = load(\"shrinkage_data_3.jld\", \"X\", \"y\")\n",
    "d, Nobs = size(X)\n",
    "σ02 = 1\n",
    "my_pr = SS_prior(d, σ02)\n",
    "my_ll = ll_logistic_sp(X,y)\n",
    "my_model = model(my_ll, my_pr);"
   ]
  },
  {
   "cell_type": "markdown",
   "metadata": {},
   "source": [
    "### HMC:"
   ]
  },
  {
   "cell_type": "markdown",
   "metadata": {},
   "source": [
    "### Tune HMC:"
   ]
  },
  {
   "cell_type": "code",
   "execution_count": 3,
   "metadata": {
    "collapsed": true
   },
   "outputs": [],
   "source": [
    "ξ0 = randn(d)\n",
    "Total_time = 10\n",
    "T = 250\n",
    "Metropolise = false\n",
    "Print = false\n",
    "n_leapfrog_list = 20*(1:5)\n",
    "prior = SS_prior(d, σ02);"
   ]
  },
  {
   "cell_type": "code",
   "execution_count": 7,
   "metadata": {
    "collapsed": true
   },
   "outputs": [],
   "source": [
    "xi_samples_hmc, hyper_samples_hmc, acc = \n",
    "zeros(d,T+1,length(n_leapfrog_list)), zeros(hyperparam_size(prior),T+1,length(n_leapfrog_list)), \n",
    "zeros(length(n_leapfrog_list));"
   ]
  },
  {
   "cell_type": "code",
   "execution_count": 8,
   "metadata": {},
   "outputs": [
    {
     "name": "stdout",
     "output_type": "stream",
     "text": [
      "HMC acceptance = 100.0 percent; n_leapfrog = 100 in 16.38 mins \n",
      "HMC acceptance = 100.0 percent; n_leapfrog = 80 in 12.54 mins \n",
      "HMC acceptance = 100.0 percent; n_leapfrog = 60 in 8.86 mins \n"
     ]
    },
    {
     "ename": "LoadError",
     "evalue": "\u001b[91mArgumentError: InverseGamma: the condition α > zero(α) && θ > zero(θ) is not satisfied.\u001b[39m",
     "output_type": "error",
     "traceback": [
      "\u001b[91mArgumentError: InverseGamma: the condition α > zero(α) && θ > zero(θ) is not satisfied.\u001b[39m",
      "",
      "Stacktrace:",
      " [1] \u001b[1mmacro expansion\u001b[22m\u001b[22m at \u001b[1m/home/postdoc/dsen/.julia/v0.6/Distributions/src/utils.jl:6\u001b[22m\u001b[22m [inlined]",
      " [2] \u001b[1mDistributions.InverseGamma{Float64}\u001b[22m\u001b[22m\u001b[1m(\u001b[22m\u001b[22m::Float64, ::Float64\u001b[1m)\u001b[22m\u001b[22m at \u001b[1m/home/postdoc/dsen/.julia/v0.6/Distributions/src/univariate/continuous/inversegamma.jl:33\u001b[22m\u001b[22m",
      " [3] \u001b[1m(::##505#511{SS_prior,Array{Float64,1}})\u001b[22m\u001b[22m\u001b[1m(\u001b[22m\u001b[22m::Int64\u001b[1m)\u001b[22m\u001b[22m at \u001b[1m./<missing>:0\u001b[22m\u001b[22m",
      " [4] \u001b[1mcollect\u001b[22m\u001b[22m\u001b[1m(\u001b[22m\u001b[22m::Base.Generator{UnitRange{Int64},##505#511{SS_prior,Array{Float64,1}}}\u001b[1m)\u001b[22m\u001b[22m at \u001b[1m./array.jl:470\u001b[22m\u001b[22m",
      " [5] \u001b[1mblock_Gibbs_update_hyperparams\u001b[22m\u001b[22m\u001b[1m(\u001b[22m\u001b[22m::SS_prior, ::Array{Float64,1}\u001b[1m)\u001b[22m\u001b[22m at \u001b[1m/home/postdoc/dsen/Desktop/G-ZZ/jl_files/priors.jl:153\u001b[22m\u001b[22m",
      " [6] \u001b[1mGibbsHMC\u001b[22m\u001b[22m\u001b[1m(\u001b[22m\u001b[22m::model, ::Array{Float64,1}, ::Float64, ::Int64, ::Int64, ::Bool, ::Bool\u001b[1m)\u001b[22m\u001b[22m at \u001b[1m/home/postdoc/dsen/Desktop/G-ZZ/jl_files/zz_samplers.jl:632\u001b[22m\u001b[22m",
      " [7] \u001b[1mmacro expansion\u001b[22m\u001b[22m at \u001b[1m./In[8]:7\u001b[22m\u001b[22m [inlined]",
      " [8] \u001b[1manonymous\u001b[22m\u001b[22m at \u001b[1m./<missing>:?\u001b[22m\u001b[22m",
      " [9] \u001b[1minclude_string\u001b[22m\u001b[22m\u001b[1m(\u001b[22m\u001b[22m::String, ::String\u001b[1m)\u001b[22m\u001b[22m at \u001b[1m./loading.jl:522\u001b[22m\u001b[22m"
     ]
    }
   ],
   "source": [
    "for (i,n_leapfrog) in enumerate(reverse(n_leapfrog_list))\n",
    "    start = time()\n",
    "    prior = SS_prior(d, σ02)\n",
    "    my_ll = ll_logistic_sp(X,y)\n",
    "    my_model = model(my_ll, prior)\n",
    "    stepsize = Total_time/n_leapfrog\n",
    "    xi_samples_hmc[:,:,i], hyper_samples_hmc[:,:,i], acc[i] = \n",
    "    GibbsHMC(my_model, ξ0, stepsize, n_leapfrog, T, Metropolise, Print)\n",
    "    print(\"n_leapfrog = \", n_leapfrog, \" in \", round((time()-start)/60,2), \" mins \\n\")\n",
    "end"
   ]
  },
  {
   "cell_type": "code",
   "execution_count": 9,
   "metadata": {
    "scrolled": true
   },
   "outputs": [
    {
     "name": "stdout",
     "output_type": "stream",
     "text": [
      "Total time = 3.0\n",
      "HMC acceptance = 0.0 percent; n_leapfrog = 5 in 1.67 mins \n",
      "HMC acceptance = 1.0 percent; n_leapfrog = 10 in 3.02 mins \n",
      "HMC acceptance = 22.2 percent; n_leapfrog = 15 in 4.44 mins \n",
      "HMC acceptance = 52.2 percent; n_leapfrog = 20 in 7.0 mins \n",
      "HMC acceptance = 69.0 percent; n_leapfrog = 25 in 8.35 mins \n",
      "HMC acceptance = 78.6 percent; n_leapfrog = 30 in 9.59 mins \n",
      "HMC acceptance = 86.8 percent; n_leapfrog = 35 in 10.62 mins \n",
      "HMC acceptance = 85.8 percent; n_leapfrog = 40 in 11.59 mins \n",
      "HMC acceptance = 90.0 percent; n_leapfrog = 45 in 12.15 mins \n",
      "HMC acceptance = 92.8 percent; n_leapfrog = 50 in 13.08 mins \n",
      "Total time = 3.6\n",
      "HMC acceptance = 0.0 percent; n_leapfrog = 5 in 1.49 mins \n",
      "HMC acceptance = 0.2 percent; n_leapfrog = 10 in 2.71 mins \n",
      "HMC acceptance = 7.6 percent; n_leapfrog = 15 in 3.92 mins \n",
      "HMC acceptance = 34.8 percent; n_leapfrog = 20 in 5.22 mins \n",
      "HMC acceptance = 60.6 percent; n_leapfrog = 25 in 6.33 mins \n",
      "HMC acceptance = 63.4 percent; n_leapfrog = 30 in 7.37 mins \n",
      "HMC acceptance = 74.0 percent; n_leapfrog = 35 in 8.48 mins \n",
      "HMC acceptance = 79.4 percent; n_leapfrog = 40 in 9.52 mins \n",
      "HMC acceptance = 90.0 percent; n_leapfrog = 45 in 10.45 mins \n",
      "HMC acceptance = 89.0 percent; n_leapfrog = 50 in 11.52 mins \n",
      "Total time = 4.2\n",
      "HMC acceptance = 0.0 percent; n_leapfrog = 5 in 1.36 mins \n",
      "HMC acceptance = 0.0 percent; n_leapfrog = 10 in 2.48 mins \n",
      "HMC acceptance = 1.2 percent; n_leapfrog = 15 in 3.49 mins \n",
      "HMC acceptance = 20.6 percent; n_leapfrog = 20 in 4.44 mins \n",
      "HMC acceptance = 45.4 percent; n_leapfrog = 25 in 5.52 mins \n",
      "HMC acceptance = 60.0 percent; n_leapfrog = 30 in 6.44 mins \n",
      "HMC acceptance = 64.6 percent; n_leapfrog = 35 in 7.42 mins \n",
      "HMC acceptance = 78.8 percent; n_leapfrog = 40 in 8.43 mins \n",
      "HMC acceptance = 82.0 percent; n_leapfrog = 45 in 9.43 mins \n",
      "HMC acceptance = 86.2 percent; n_leapfrog = 50 in 10.34 mins \n",
      "Total time = 4.8\n",
      "HMC acceptance = 0.0 percent; n_leapfrog = 5 in 1.22 mins \n",
      "HMC acceptance = 0.0 percent; n_leapfrog = 10 in 2.2 mins \n",
      "HMC acceptance = 0.4 percent; n_leapfrog = 15 in 3.15 mins \n",
      "HMC acceptance = 5.8 percent; n_leapfrog = 20 in 4.1 mins \n",
      "HMC acceptance = 25.4 percent; n_leapfrog = 25 in 5.04 mins \n",
      "HMC acceptance = 45.6 percent; n_leapfrog = 30 in 6.18 mins \n",
      "HMC acceptance = 61.4 percent; n_leapfrog = 35 in 7.13 mins \n",
      "HMC acceptance = 71.4 percent; n_leapfrog = 40 in 7.99 mins \n",
      "HMC acceptance = 75.0 percent; n_leapfrog = 45 in 8.88 mins \n",
      "HMC acceptance = 79.2 percent; n_leapfrog = 50 in 9.95 mins \n",
      "Total time = 5.4\n",
      "HMC acceptance = 0.0 percent; n_leapfrog = 5 in 1.17 mins \n",
      "HMC acceptance = 0.0 percent; n_leapfrog = 10 in 2.19 mins \n",
      "HMC acceptance = 0.0 percent; n_leapfrog = 15 in 3.19 mins \n",
      "HMC acceptance = 1.6 percent; n_leapfrog = 20 in 4.19 mins \n",
      "HMC acceptance = 8.4 percent; n_leapfrog = 25 in 5.23 mins \n",
      "HMC acceptance = 35.4 percent; n_leapfrog = 30 in 6.24 mins \n",
      "HMC acceptance = 50.6 percent; n_leapfrog = 35 in 7.08 mins \n",
      "HMC acceptance = 66.4 percent; n_leapfrog = 40 in 8.09 mins \n",
      "HMC acceptance = 67.2 percent; n_leapfrog = 45 in 9.25 mins \n",
      "HMC acceptance = 73.0 percent; n_leapfrog = 50 in 9.85 mins \n",
      "Total time = 6.0\n",
      "HMC acceptance = 0.0 percent; n_leapfrog = 5 in 1.15 mins \n",
      "HMC acceptance = 0.0 percent; n_leapfrog = 10 in 2.19 mins \n",
      "HMC acceptance = 0.0 percent; n_leapfrog = 15 in 3.22 mins \n",
      "HMC acceptance = 0.4 percent; n_leapfrog = 20 in 4.25 mins \n",
      "HMC acceptance = 4.4 percent; n_leapfrog = 25 in 5.15 mins \n",
      "HMC acceptance = 19.4 percent; n_leapfrog = 30 in 5.84 mins \n",
      "HMC acceptance = 42.8 percent; n_leapfrog = 35 in 6.95 mins \n",
      "HMC acceptance = 43.8 percent; n_leapfrog = 40 in 7.83 mins \n",
      "HMC acceptance = 60.8 percent; n_leapfrog = 45 in 8.88 mins \n",
      "HMC acceptance = 69.4 percent; n_leapfrog = 50 in 9.89 mins \n",
      "Total time = 6.6\n",
      "HMC acceptance = 0.0 percent; n_leapfrog = 5 in 1.2 mins \n",
      "HMC acceptance = 0.0 percent; n_leapfrog = 10 in 2.2 mins \n",
      "HMC acceptance = 0.0 percent; n_leapfrog = 15 in 3.13 mins \n",
      "HMC acceptance = 0.0 percent; n_leapfrog = 20 in 4.1 mins \n",
      "HMC acceptance = 1.6 percent; n_leapfrog = 25 in 5.25 mins \n",
      "HMC acceptance = 14.2 percent; n_leapfrog = 30 in 6.0 mins \n",
      "HMC acceptance = 32.4 percent; n_leapfrog = 35 in 7.05 mins \n",
      "HMC acceptance = 47.0 percent; n_leapfrog = 40 in 7.62 mins \n",
      "HMC acceptance = 51.6 percent; n_leapfrog = 45 in 8.54 mins \n",
      "HMC acceptance = 62.6 percent; n_leapfrog = 50 in 9.52 mins \n",
      "Total time = 7.2\n",
      "HMC acceptance = 0.0 percent; n_leapfrog = 5 in 1.1 mins \n",
      "HMC acceptance = 0.0 percent; n_leapfrog = 10 in 2.12 mins \n",
      "HMC acceptance = 0.0 percent; n_leapfrog = 15 in 2.91 mins \n",
      "HMC acceptance = 0.0 percent; n_leapfrog = 20 in 3.76 mins \n",
      "HMC acceptance = 1.2 percent; n_leapfrog = 25 in 4.65 mins \n",
      "HMC acceptance = 4.8 percent; n_leapfrog = 30 in 5.69 mins \n",
      "HMC acceptance = 13.2 percent; n_leapfrog = 35 in 6.54 mins \n",
      "HMC acceptance = 35.8 percent; n_leapfrog = 40 in 7.41 mins \n",
      "HMC acceptance = 45.6 percent; n_leapfrog = 45 in 8.22 mins \n",
      "HMC acceptance = 50.8 percent; n_leapfrog = 50 in 9.15 mins \n",
      "Total time = 7.8\n",
      "HMC acceptance = 0.0 percent; n_leapfrog = 5 in 1.22 mins \n",
      "HMC acceptance = 0.0 percent; n_leapfrog = 10 in 1.92 mins \n",
      "HMC acceptance = 0.0 percent; n_leapfrog = 15 in 2.77 mins \n",
      "HMC acceptance = 0.0 percent; n_leapfrog = 20 in 3.57 mins \n",
      "HMC acceptance = 0.0 percent; n_leapfrog = 25 in 4.55 mins \n",
      "HMC acceptance = 1.4 percent; n_leapfrog = 30 in 5.46 mins \n",
      "HMC acceptance = 9.4 percent; n_leapfrog = 35 in 6.25 mins \n",
      "HMC acceptance = 11.0 percent; n_leapfrog = 40 in 7.28 mins \n",
      "HMC acceptance = 41.8 percent; n_leapfrog = 45 in 8.28 mins \n",
      "HMC acceptance = 46.0 percent; n_leapfrog = 50 in 9.1 mins \n",
      "Total time = 8.4\n",
      "HMC acceptance = 0.0 percent; n_leapfrog = 5 in 1.04 mins \n",
      "HMC acceptance = 0.0 percent; n_leapfrog = 10 in 1.9 mins \n",
      "HMC acceptance = 0.0 percent; n_leapfrog = 15 in 2.94 mins \n",
      "HMC acceptance = 0.0 percent; n_leapfrog = 20 in 3.73 mins \n",
      "HMC acceptance = 0.0 percent; n_leapfrog = 25 in 4.66 mins \n",
      "HMC acceptance = 1.2 percent; n_leapfrog = 30 in 5.54 mins \n",
      "HMC acceptance = 3.6 percent; n_leapfrog = 35 in 6.38 mins \n",
      "HMC acceptance = 19.0 percent; n_leapfrog = 40 in 7.42 mins \n",
      "HMC acceptance = 31.6 percent; n_leapfrog = 45 in 8.25 mins \n",
      "HMC acceptance = 39.8 percent; n_leapfrog = 50 in 9.14 mins \n",
      "Total time = 9.0\n",
      "HMC acceptance = 0.0 percent; n_leapfrog = 5 in 1.09 mins \n",
      "HMC acceptance = 0.0 percent; n_leapfrog = 10 in 1.99 mins \n",
      "HMC acceptance = 0.0 percent; n_leapfrog = 15 in 2.94 mins \n",
      "HMC acceptance = 0.0 percent; n_leapfrog = 20 in 3.81 mins \n",
      "HMC acceptance = 0.0 percent; n_leapfrog = 25 in 4.72 mins \n",
      "HMC acceptance = 0.6 percent; n_leapfrog = 30 in 5.59 mins \n",
      "HMC acceptance = 2.2 percent; n_leapfrog = 35 in 6.48 mins \n",
      "HMC acceptance = 10.6 percent; n_leapfrog = 40 in 7.48 mins \n",
      "HMC acceptance = 23.8 percent; n_leapfrog = 45 in 7.98 mins \n",
      "HMC acceptance = 34.6 percent; n_leapfrog = 50 in 8.92 mins \n"
     ]
    }
   ],
   "source": [
    "Metropolise = true \n",
    "Print = false\n",
    "\n",
    "stepsize = Total_time/50\n",
    "total_times = 3*stepsize*(5:15)\n",
    "n_leapfrog_steps = 5*(1:10)\n",
    "\n",
    "for total_time in total_times\n",
    "    print(\"Total time = \", round(total_time,2), \"\\n\")\n",
    "    for n_leapfrog in n_leapfrog_steps\n",
    "        start = time()\n",
    "        prior = SS_prior(d, σ02)\n",
    "        my_ll = ll_logistic_sp(X,y)\n",
    "        my_model = model(my_ll, prior)\n",
    "        a, b, c = \n",
    "        GibbsHMC(my_model, ξ0, total_time/n_leapfrog, n_leapfrog, 500, Metropolise, Print)\n",
    "        print(\"n_leapfrog = \", n_leapfrog, \" in \", round((time()-start)/60,2), \" mins \\n\")\n",
    "    end\n",
    "end"
   ]
  },
  {
   "cell_type": "code",
   "execution_count": 4,
   "metadata": {},
   "outputs": [
    {
     "ename": "LoadError",
     "evalue": "\u001b[91mInterruptException:\u001b[39m",
     "output_type": "error",
     "traceback": [
      "\u001b[91mInterruptException:\u001b[39m",
      "",
      "Stacktrace:",
      " [1] \u001b[1mpush!\u001b[22m\u001b[22m at \u001b[1m./array.jl:647\u001b[22m\u001b[22m [inlined]",
      " [2] \u001b[1mgetindex\u001b[22m\u001b[22m\u001b[1m(\u001b[22m\u001b[22m::SparseMatrixCSC{Float64,Int64}, ::Int64, ::UnitRange{Int64}\u001b[1m)\u001b[22m\u001b[22m at \u001b[1m./sparse/sparsevector.jl:503\u001b[22m\u001b[22m",
      " [3] \u001b[1mpartial_derivative_vec\u001b[22m\u001b[22m\u001b[1m(\u001b[22m\u001b[22m::ll_logistic_sp, ::Array{Float64,1}, ::Int64, ::UnitRange{Int64}\u001b[1m)\u001b[22m\u001b[22m at \u001b[1m/home/postdoc/dsen/Desktop/G-ZZ/jl_files/models.jl:29\u001b[22m\u001b[22m",
      " [4] \u001b[1m#481\u001b[22m\u001b[22m at \u001b[1m./<missing>:0\u001b[22m\u001b[22m [inlined]",
      " [5] \u001b[1mnext\u001b[22m\u001b[22m at \u001b[1m./generator.jl:45\u001b[22m\u001b[22m [inlined]",
      " [6] \u001b[1mcollect_to!\u001b[22m\u001b[22m\u001b[1m(\u001b[22m\u001b[22m::Array{Float64,1}, ::Base.Generator{UnitRange{Int64},##481#482{ll_logistic_sp,Array{Float64,1}}}, ::Int64, ::Int64\u001b[1m)\u001b[22m\u001b[22m at \u001b[1m./array.jl:503\u001b[22m\u001b[22m",
      " [7] \u001b[1mcollect\u001b[22m\u001b[22m\u001b[1m(\u001b[22m\u001b[22m::Base.Generator{UnitRange{Int64},##481#482{ll_logistic_sp,Array{Float64,1}}}\u001b[1m)\u001b[22m\u001b[22m at \u001b[1m./array.jl:471\u001b[22m\u001b[22m",
      " [8] \u001b[1mgradient\u001b[22m\u001b[22m\u001b[1m(\u001b[22m\u001b[22m::model, ::Array{Float64,1}\u001b[1m)\u001b[22m\u001b[22m at \u001b[1m/home/postdoc/dsen/Desktop/G-ZZ/jl_files/models.jl:66\u001b[22m\u001b[22m",
      " [9] \u001b[1mHMC\u001b[22m\u001b[22m\u001b[1m(\u001b[22m\u001b[22m::model, ::Array{Float64,1}, ::Float64, ::Int64, ::Bool\u001b[1m)\u001b[22m\u001b[22m at \u001b[1m/home/postdoc/dsen/Desktop/G-ZZ/jl_files/zz_samplers.jl:594\u001b[22m\u001b[22m",
      " [10] \u001b[1mGibbsHMC\u001b[22m\u001b[22m\u001b[1m(\u001b[22m\u001b[22m::model, ::Array{Float64,1}, ::Float64, ::Int64, ::Int64, ::Bool, ::Bool\u001b[1m)\u001b[22m\u001b[22m at \u001b[1m/home/postdoc/dsen/Desktop/G-ZZ/jl_files/zz_samplers.jl:629\u001b[22m\u001b[22m",
      " [11] \u001b[1mmacro expansion\u001b[22m\u001b[22m at \u001b[1m./In[4]:12\u001b[22m\u001b[22m [inlined]",
      " [12] \u001b[1manonymous\u001b[22m\u001b[22m at \u001b[1m./<missing>:?\u001b[22m\u001b[22m",
      " [13] \u001b[1minclude_string\u001b[22m\u001b[22m\u001b[1m(\u001b[22m\u001b[22m::String, ::String\u001b[1m)\u001b[22m\u001b[22m at \u001b[1m./loading.jl:522\u001b[22m\u001b[22m"
     ]
    }
   ],
   "source": [
    "total_times_optimal = [3.0, 3.6, 4.2, 4.8, 5.4, 6.0, 6.6]\n",
    "n_leapfrog_optimal =  [25 , 30 , 35 , 38 , 40 , 48 , 52 ]\n",
    "T = 5000\n",
    "Metropolise = true\n",
    "Print = false\n",
    "\n",
    "for (i,total_time) in enumerate(total_times_optimal) \n",
    "    start = time()\n",
    "    prior = SS_prior(d, σ02)\n",
    "    my_ll = ll_logistic_sp(X,y)\n",
    "    my_model = model(my_ll, prior)\n",
    "    xi_samples_hmc, hyper_samples_hmc, acc =\n",
    "    GibbsHMC(my_model, ξ0, total_time/n_leapfrog_optimal[i], n_leapfrog_optimal[i], T, Metropolise, Print)\n",
    "    print(\"n_leapfrog = \", n_leapfrog_optimal[i], \" in \", round((time()-start)/60,2), \" mins \\n\")\n",
    "    filename  = \"/xtmp/GZZ_data/shrinkage_prior/synthetic_data/GibbsHMC:d:\"*string(d)*\"-Nobs:\"*string(Nobs)*\n",
    "                \"-total_time:\"*string(total_time)*\"-n_leapfrog:\"*string(n_leapfrog_optimal[i])*\".jld\"\n",
    "    save(filename, \"xi_samples\", xi_samples_hmc, \"hyper_samples\", hyper_samples_hmc, \"acc\", acc)\n",
    "    xi_samples_hmc, hyper_samples_hmc, acc = [], [], []\n",
    "    gc()\n",
    "end"
   ]
  },
  {
   "cell_type": "raw",
   "metadata": {},
   "source": [
    "maxlag_hmc = 50\n",
    "fig = figure(figsize=(12,4))\n",
    "acfs_hmc = zeros(length(total_times_optimal),size(xi_samples_hmc,1),maxlag_hmc)\n",
    "\n",
    "for i in 1:2 \n",
    "    for j in 1:4\n",
    "        k = 4*(i-1)+j\n",
    "        \n",
    "            total_time, n_leapfrog = total_times_optimal[k], n_leapfrog_optimal[k]\n",
    "            filename  = \"/xtmp/GZZ_data/shrinkage_prior/synthetic_data/GibbsHMC:d:\"*string(d)*\"-Nobs:\"*string(Nobs)*\n",
    "                \"-total_time:\"*string(total_time)*\"-n_leapfrog:\"*string(n_leapfrog)*\".jld\"\n",
    "            xi_samples_hmc = load(filename, \"xi_samples\")\n",
    "\n",
    "            subplot(2,4,k)\n",
    "            for dim in 1:size(xi_samples_hmc,1) \n",
    "                a = acf(xi_samples_hmc[dim,:], maxlag_hmc)\n",
    "                plot(a)\n",
    "                acfs_hmc[k,dim,:] = a\n",
    "            end\n",
    "            grid(true)  \n",
    "            title(\"Total time:\"*string(total_time)*\", \\n n_leapfrog:\"*string(n_leapfrog), fontsize=10)\n",
    "            xi_samples_hmc = []\n",
    "            gc()\n",
    "            if i == 2 xlabel(\"Lag\") end\n",
    "            if i == 1 xticks(alpha=0) end\n",
    "            if j == 1 ylabel(\"ACF\") end\n",
    "        subplots_adjust(hspace=0.4)\n",
    "        \n",
    "    end\n",
    "end\n"
   ]
  },
  {
   "cell_type": "raw",
   "metadata": {},
   "source": [
    "mb_size = 1\n",
    "max_attempts = 2*10^7\n",
    "lambda = 2e1\n",
    "\n",
    "fig = figure(\"pyplot_barplot\",figsize=(5,3))\n",
    "n_samples = 10^4\n",
    "maxlag_gzz = 500\n",
    "acfs_gzz = zeros(d,maxlag_gzz)\n",
    "discard = 0\n",
    "filename  = \"/xtmp/GZZ_data/shrinkage_prior/synthetic_data/lambda:\"*string(lambda)*\n",
    "            \"-d:\"*string(d)*\"-Nobs:\"*string(Nobs)*\"-mb_size:\"*string(mb_size)*\".jld\"\n",
    "xt_skel, bt_skel = load(filename, \"xt_skeleton\", \"bt_skeleton\")\n",
    "xi_samples_gzz = extract_samples(xt_skel[:,discard+1:end], \n",
    "                             bt_skel[:,discard+1:end], \n",
    "                            (bt_skel[end]-bt_skel[discard+1])/n_samples,\n",
    "                            \"linear\")[:,1:end-1]\n",
    "iacts_gzz = zeros(size(xi_samples_gzz,1))\n",
    "for dim in 1:size(xi_samples_gzz,1)\n",
    "    a = acf(xi_samples_gzz[dim,:],maxlag_gzz)\n",
    "    plot(a)\n",
    "    acfs_gzz[dim,:] = a\n",
    "end\n",
    "title(\"ACFs for GZZ\")\n",
    "xlabel(\"Lag\")\n",
    "ylabel(\"ACF\")\n",
    "grid(true)\n",
    "xt_skel, bt_skel, xi_samples = [], [], []\n",
    "gc()"
   ]
  },
  {
   "cell_type": "code",
   "execution_count": 22,
   "metadata": {
    "collapsed": true
   },
   "outputs": [],
   "source": [
    "hmc_mixing = T./maximum(sum(acfs_hmc[:,:,1:20],3),2)\n",
    "hmc_cost = T*n_leapfrog_optimal*Nobs;"
   ]
  },
  {
   "cell_type": "code",
   "execution_count": 23,
   "metadata": {
    "collapsed": true
   },
   "outputs": [],
   "source": [
    "gzz_mixing = n_samples/maximum(sum(acfs_gzz[:,1:100],2))\n",
    "gzz_cost = max_attempts*mb_size;"
   ]
  },
  {
   "cell_type": "code",
   "execution_count": 24,
   "metadata": {},
   "outputs": [
    {
     "data": {
      "text/plain": [
       "10×1×1 Array{Float64,3}:\n",
       "[:, :, 1] =\n",
       "  7.15625\n",
       " 10.0487 \n",
       "  6.72817\n",
       "  3.34612\n",
       "  6.34688\n",
       "  6.17175\n",
       "  7.07985\n",
       "  8.17075\n",
       " 10.5114 \n",
       "  9.66999"
      ]
     },
     "execution_count": 24,
     "metadata": {},
     "output_type": "execute_result"
    }
   ],
   "source": [
    "(gzz_mixing/gzz_cost)./(hmc_mixing./hmc_cost)"
   ]
  },
  {
   "cell_type": "code",
   "execution_count": 234,
   "metadata": {
    "collapsed": true
   },
   "outputs": [],
   "source": []
  },
  {
   "cell_type": "code",
   "execution_count": null,
   "metadata": {
    "collapsed": true
   },
   "outputs": [],
   "source": []
  }
 ],
 "metadata": {
  "kernelspec": {
   "display_name": "Julia 0.6.4",
   "language": "julia",
   "name": "julia-0.6"
  },
  "language_info": {
   "file_extension": ".jl",
   "mimetype": "application/julia",
   "name": "julia",
   "version": "0.6.4"
  }
 },
 "nbformat": 4,
 "nbformat_minor": 2
}
