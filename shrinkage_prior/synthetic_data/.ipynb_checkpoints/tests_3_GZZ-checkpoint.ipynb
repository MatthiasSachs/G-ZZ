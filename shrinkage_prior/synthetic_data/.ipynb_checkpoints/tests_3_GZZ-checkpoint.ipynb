{
 "cells": [
  {
   "cell_type": "code",
   "execution_count": 1,
   "metadata": {},
   "outputs": [
    {
     "data": {
      "text/plain": [
       "run_sampler (generic function with 4 methods)"
      ]
     },
     "execution_count": 1,
     "metadata": {},
     "output_type": "execute_result"
    }
   ],
   "source": [
    "using Distributions, TimeIt, ProgressMeter, PyPlot, JLD\n",
    "include(\"/home/postdoc/dsen/Desktop/G-ZZ/jl_files/zz_samplers.jl\")\n",
    "include(\"temp.jl\")"
   ]
  },
  {
   "cell_type": "raw",
   "metadata": {},
   "source": [
    "d, Nobs = 201, 500\n",
    "pX = 1e-1\n",
    "pξ = 1e-1\n",
    "X = sprandn(d, Nobs, pX)\n",
    "X[1,:] = 1\n",
    "ξ_true = sprandn(d, pξ)\n",
    "y = Float64.([rand(Binomial(1, 1/(1+exp(-ξ_true'X[:,j])))) for j in 1:Nobs])\n",
    "save(\"shrinkage_data_3.jld\", \"X\", X, \"y\", y)"
   ]
  },
  {
   "cell_type": "code",
   "execution_count": 2,
   "metadata": {
    "collapsed": true
   },
   "outputs": [],
   "source": [
    "X, y = load(\"shrinkage_data_3.jld\", \"X\", \"y\")\n",
    "d, Nobs = size(X)\n",
    "σ02 = 1\n",
    "my_pr = SS_prior(d, σ02)\n",
    "my_ll = ll_logistic_sp(X,y)\n",
    "my_model = model(my_ll, my_pr);"
   ]
  },
  {
   "cell_type": "markdown",
   "metadata": {},
   "source": [
    "### GZZ:"
   ]
  },
  {
   "cell_type": "code",
   "execution_count": 8,
   "metadata": {
    "collapsed": true
   },
   "outputs": [],
   "source": [
    "# Sub-sampling without control variates and with weights:\n",
    "mb_size = 1\n",
    "max_attempts = 1.5*10^7\n",
    "lambda = 2e1\n",
    "Print = true;"
   ]
  },
  {
   "cell_type": "code",
   "execution_count": null,
   "metadata": {},
   "outputs": [],
   "source": [
    "start = time()\n",
    "run_sampler(my_model, lambda, max_attempts, mb_size, Print) \n",
    "print(\"Sampling in \", round((time()-start)/60,1), \" mins \\n\")"
   ]
  },
  {
   "cell_type": "code",
   "execution_count": 7,
   "metadata": {},
   "outputs": [
    {
     "ename": "LoadError",
     "evalue": "\u001b[91mFile /xtmp/GZZ_data/shrinkage_prior/synthetic_data/lambda:20.0-d:201-Nobs:500-mb_size:1.jld cannot be found\u001b[39m",
     "output_type": "error",
     "traceback": [
      "\u001b[91mFile /xtmp/GZZ_data/shrinkage_prior/synthetic_data/lambda:20.0-d:201-Nobs:500-mb_size:1.jld cannot be found\u001b[39m",
      "",
      "Stacktrace:",
      " [1] \u001b[1m#jldopen#9\u001b[22m\u001b[22m\u001b[1m(\u001b[22m\u001b[22m::Bool, ::Bool, ::Bool, ::Function, ::String, ::Bool, ::Bool, ::Bool, ::Bool, ::Bool\u001b[1m)\u001b[22m\u001b[22m at \u001b[1m/home/postdoc/dsen/.julia/v0.6/JLD/src/JLD.jl:153\u001b[22m\u001b[22m",
      " [2] \u001b[1m(::JLD.#kw##jldopen)\u001b[22m\u001b[22m\u001b[1m(\u001b[22m\u001b[22m::Array{Any,1}, ::JLD.#jldopen, ::String, ::Bool, ::Bool, ::Bool, ::Bool, ::Bool\u001b[1m)\u001b[22m\u001b[22m at \u001b[1m./<missing>:0\u001b[22m\u001b[22m",
      " [3] \u001b[1m#jldopen#10\u001b[22m\u001b[22m\u001b[1m(\u001b[22m\u001b[22m::Bool, ::Bool, ::Bool, ::Function, ::String, ::String\u001b[1m)\u001b[22m\u001b[22m at \u001b[1m/home/postdoc/dsen/.julia/v0.6/JLD/src/JLD.jl:231\u001b[22m\u001b[22m",
      " [4] \u001b[1mjldopen\u001b[22m\u001b[22m\u001b[1m(\u001b[22m\u001b[22m::String, ::String\u001b[1m)\u001b[22m\u001b[22m at \u001b[1m/home/postdoc/dsen/.julia/v0.6/JLD/src/JLD.jl:231\u001b[22m\u001b[22m",
      " [5] \u001b[1m#jldopen#11\u001b[22m\u001b[22m\u001b[1m(\u001b[22m\u001b[22m::Array{Any,1}, ::Function, ::JLD.##43#45{Tuple{String,String}}, ::String, ::Vararg{String,N} where N\u001b[1m)\u001b[22m\u001b[22m at \u001b[1m/home/postdoc/dsen/.julia/v0.6/JLD/src/JLD.jl:241\u001b[22m\u001b[22m",
      " [6] \u001b[1mload\u001b[22m\u001b[22m\u001b[1m(\u001b[22m\u001b[22m::FileIO.File{FileIO.DataFormat{:JLD}}, ::String, ::String, ::Vararg{String,N} where N\u001b[1m)\u001b[22m\u001b[22m at \u001b[1m/home/postdoc/dsen/.julia/v0.6/JLD/src/JLD.jl:1244\u001b[22m\u001b[22m",
      " [7] \u001b[1m#load#13\u001b[22m\u001b[22m\u001b[1m(\u001b[22m\u001b[22m::Array{Any,1}, ::Function, ::String, ::String, ::Vararg{String,N} where N\u001b[1m)\u001b[22m\u001b[22m at \u001b[1m/home/postdoc/dsen/.julia/v0.6/FileIO/src/loadsave.jl:113\u001b[22m\u001b[22m",
      " [8] \u001b[1mload\u001b[22m\u001b[22m\u001b[1m(\u001b[22m\u001b[22m::String, ::String, ::String, ::Vararg{String,N} where N\u001b[1m)\u001b[22m\u001b[22m at \u001b[1m/home/postdoc/dsen/.julia/v0.6/FileIO/src/loadsave.jl:113\u001b[22m\u001b[22m",
      " [9] \u001b[1minclude_string\u001b[22m\u001b[22m\u001b[1m(\u001b[22m\u001b[22m::String, ::String\u001b[1m)\u001b[22m\u001b[22m at \u001b[1m./loading.jl:522\u001b[22m\u001b[22m"
     ]
    }
   ],
   "source": [
    "fig = figure(\"pyplot_barplot\",figsize=(5,3))\n",
    "n_samples = 10^4\n",
    "maxlag_gzz = 500\n",
    "acfs_gzz = zeros(d,maxlag_gzz)\n",
    "discard = 0\n",
    "filename  = \"/xtmp/GZZ_data/shrinkage_prior/synthetic_data/lambda:\"*string(lambda)*\n",
    "            \"-d:\"*string(d)*\"-Nobs:\"*string(Nobs)*\"-mb_size:\"*string(mb_size)*\".jld\"\n",
    "xt_skel, bt_skel = load(filename, \"xt_skeleton\", \"bt_skeleton\")\n",
    "xi_samples_gzz = extract_samples(xt_skel[:,discard+1:end], \n",
    "                             bt_skel[:,discard+1:end], \n",
    "                            (bt_skel[end]-bt_skel[discard+1])/n_samples,\n",
    "                            \"linear\")[:,1:end-1]\n",
    "iacts_gzz = zeros(size(xi_samples_gzz,1))\n",
    "for dim in 1:size(xi_samples_gzz,1)\n",
    "    a = acf(xi_samples_gzz[dim,:],maxlag_gzz)\n",
    "    plot(a)\n",
    "    acfs_gzz[dim,:] = a\n",
    "end\n",
    "title(\"ACFs for GZZ\")\n",
    "xlabel(\"Lag\")\n",
    "ylabel(\"ACF\")\n",
    "grid(true)\n",
    "xt_skel, bt_skel, xi_samples = [], [], []\n",
    "gc()"
   ]
  },
  {
   "cell_type": "code",
   "execution_count": null,
   "metadata": {
    "collapsed": true
   },
   "outputs": [],
   "source": []
  }
 ],
 "metadata": {
  "kernelspec": {
   "display_name": "Julia 0.6.4",
   "language": "julia",
   "name": "julia-0.6"
  },
  "language_info": {
   "file_extension": ".jl",
   "mimetype": "application/julia",
   "name": "julia",
   "version": "0.6.4"
  }
 },
 "nbformat": 4,
 "nbformat_minor": 2
}
