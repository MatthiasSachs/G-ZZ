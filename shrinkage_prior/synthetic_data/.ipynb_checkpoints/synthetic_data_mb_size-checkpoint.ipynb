{
 "cells": [
  {
   "cell_type": "code",
   "execution_count": 1,
   "metadata": {},
   "outputs": [
    {
     "data": {
      "text/plain": [
       "run_sampler (generic function with 4 methods)"
      ]
     },
     "execution_count": 1,
     "metadata": {},
     "output_type": "execute_result"
    }
   ],
   "source": [
    "using Distributions, TimeIt, ProgressMeter, PyPlot, JLD\n",
    "include(\"temp.jl\")"
   ]
  },
  {
   "cell_type": "code",
   "execution_count": 2,
   "metadata": {
    "collapsed": true
   },
   "outputs": [],
   "source": [
    "X, y, ξ_true = load(\"data.jld\", \"X\", \"y\", \"xi_true\")\n",
    "d, Nobs = size(X)\n",
    "σ02 = 1\n",
    "my_pr = SS_prior(d, σ02)\n",
    "my_ll = ll_logistic_sp(X,y)\n",
    "my_model = model(my_ll, my_pr);"
   ]
  },
  {
   "cell_type": "code",
   "execution_count": 3,
   "metadata": {},
   "outputs": [
    {
     "data": {
      "text/plain": [
       "run_sampler (generic function with 4 methods)"
      ]
     },
     "execution_count": 3,
     "metadata": {},
     "output_type": "execute_result"
    }
   ],
   "source": [
    "include(\"temp.jl\")"
   ]
  },
  {
   "cell_type": "code",
   "execution_count": 4,
   "metadata": {},
   "outputs": [
    {
     "data": {
      "text/plain": [
       "false"
      ]
     },
     "execution_count": 4,
     "metadata": {},
     "output_type": "execute_result"
    }
   ],
   "source": [
    "# Sub-sampling without control variates and with weights:\n",
    "mb_size_list = 2*(1:10)\n",
    "max_attempts = 10^4\n",
    "lambda = 1e1\n",
    "Print = false"
   ]
  },
  {
   "cell_type": "code",
   "execution_count": 5,
   "metadata": {},
   "outputs": [
    {
     "name": "stdout",
     "output_type": "stream",
     "text": [
      "Sampling for mb_size = 2 in 0.3 mins \n",
      "Sampling for mb_size = 4 in 0.1 mins \n",
      "Sampling for mb_size = 6 in 0.1 mins \n",
      "Sampling for mb_size = 8 in 0.1 mins \n",
      "Sampling for mb_size = 10 in 0.1 mins \n",
      "Sampling for mb_size = 12 in 0.1 mins \n",
      "Sampling for mb_size = 14 in 0.1 mins \n",
      "Sampling for mb_size = 16 in 0.1 mins \n",
      "Sampling for mb_size = 18 in 0.1 mins \n",
      "Sampling for mb_size = 20 in 0.1 mins \n",
      "Overall in 1.3 mins"
     ]
    }
   ],
   "source": [
    "start_overall = time()\n",
    "for mb_size in mb_size_list \n",
    "    start = time()\n",
    "    run_sampler(my_model, lambda, max_attempts, mb_size, Print) \n",
    "    print(\"Sampling for mb_size = \", mb_size, \" in \", round((time()-start)/60,1), \" mins \\n\")\n",
    "end\n",
    "print(\"Overall in \", round((time()-start_overall)/60,1), \" mins\")"
   ]
  },
  {
   "cell_type": "code",
   "execution_count": null,
   "metadata": {
    "collapsed": true
   },
   "outputs": [],
   "source": []
  },
  {
   "cell_type": "code",
   "execution_count": null,
   "metadata": {
    "collapsed": true
   },
   "outputs": [],
   "source": []
  }
 ],
 "metadata": {
  "kernelspec": {
   "display_name": "Julia 0.6.4",
   "language": "julia",
   "name": "julia-0.6"
  },
  "language_info": {
   "file_extension": ".jl",
   "mimetype": "application/julia",
   "name": "julia",
   "version": "0.6.4"
  }
 },
 "nbformat": 4,
 "nbformat_minor": 2
}
