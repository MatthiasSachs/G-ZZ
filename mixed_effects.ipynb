{
 "cells": [
  {
   "cell_type": "code",
   "execution_count": 1,
   "metadata": {
    "collapsed": true
   },
   "outputs": [],
   "source": [
    "using Distributions, TimeIt, ProgressMeter, PyPlot"
   ]
  },
  {
   "cell_type": "code",
   "execution_count": 2,
   "metadata": {},
   "outputs": [
    {
     "data": {
      "text/plain": [
       "get_clustering (generic function with 1 method)"
      ]
     },
     "execution_count": 2,
     "metadata": {},
     "output_type": "execute_result"
    }
   ],
   "source": [
    "include(\"zz_structures_DuLuSuSe.jl\")\n",
    "include(\"mbsampler.jl\")"
   ]
  },
  {
   "cell_type": "code",
   "execution_count": 3,
   "metadata": {
    "collapsed": true
   },
   "outputs": [],
   "source": [
    "N = 100\n",
    "K = 20\n",
    "Nobs = N*K\n",
    "\n",
    "d_cov = 5\n",
    "pX = 1.\n",
    "X_cov = sprandn(d_cov, Nobs, pX)\n",
    "ξ_true = rand(Normal(),d_cov)\n",
    "y = [rand(Binomial(1, 1/(1+exp(-ξ_true'X_cov[:,j]))), 1)[1] + 0. for j in 1:Nobs];\n",
    "mb_size = K\n",
    "σ02 = 1\n",
    "\n",
    "d = 1+K+d_cov\n",
    "prior = MM_prior(d_cov, K, 1);"
   ]
  },
  {
   "cell_type": "code",
   "execution_count": 4,
   "metadata": {
    "collapsed": true
   },
   "outputs": [],
   "source": [
    "X = spzeros(N*K,1+K+d_cov)\n",
    "X[:,1] = 1.\n",
    "X[:,K+2:end] = X_cov';\n",
    "for k in 1:K\n",
    "    X[(k-1)*N+1:k*N,k+1] = 1.\n",
    "end\n",
    "X = X';"
   ]
  },
  {
   "cell_type": "code",
   "execution_count": 5,
   "metadata": {
    "collapsed": true
   },
   "outputs": [],
   "source": [
    "my_ll = ll_logistic_sp(X,y);\n",
    "my_model = model(my_ll, prior);\n",
    "root = rand(d);"
   ]
  },
  {
   "cell_type": "code",
   "execution_count": 6,
   "metadata": {
    "collapsed": true
   },
   "outputs": [],
   "source": [
    "# Stratified sub-sampling without CV and with weights \n",
    "\n",
    "cmbsamplers = Array{mbsampler}(d)\n",
    "cmbsamplers[1] = umbsampler(0, Nobs, mb_size)\n",
    "\n",
    "for dim in 2:(1+K)\n",
    "    cmbsamplers[dim] = umbsampler(N*(dim-2), N, 1, 1.,1/(N*K))\n",
    "end\n",
    "\n",
    "weights = sparse(abs.(X))\n",
    "for dim in (1+K+1):(1+K+d_cov) \n",
    "    weights[dim,:] /= sum(weights[dim,:])\n",
    "end\n",
    "\n",
    "ll_pd_root_list = [partial_derivative_vec(my_model.ll, root, dim, 1:Nobs) for dim in 1:d]\n",
    "N_cluster = mb_size\n",
    "for dim in (1+K+1):(1+K+d_cov)\n",
    "    N_cluster_d = min(N_cluster, length(ll_pd_root_list[dim].nzval))\n",
    "    csamplers = Array{mbsampler}(N_cluster_d)\n",
    "    \n",
    "    clusters = []\n",
    "    for k in 1:K \n",
    "        push!(clusters,Array(N*(k-1)+1:N*k))\n",
    "    end\n",
    "    \n",
    "    scp = ones(N_cluster_d)\n",
    "    for (ci, c) in enumerate(clusters)\n",
    "        if dim > 1+K \n",
    "            csamplers[ci] = wumbsampler(size(c,1), scp[ci], weights[dim,c])\n",
    "        end\n",
    "    end\n",
    "    cmbsamplers[dim] = spcmbsampler(csamplers, clusters, weights[dim,:])\n",
    "   \n",
    "end\n",
    "gs_list = mbsampler_list(d,cmbsamplers);"
   ]
  },
  {
   "cell_type": "code",
   "execution_count": 11,
   "metadata": {},
   "outputs": [],
   "source": [
    "A_xi = eye(d)\n",
    "A_hyp = eye(hyperparam_size(prior))\n",
    "\n",
    "opf = projopf(A_xi, A_hyp, 10^3)\n",
    "opt = maxa_opt(10^6)\n",
    "outp = outputscheduler(opf,opt)\n",
    "bb = linear_bound(my_model.ll, my_model.pr, gs_list)\n",
    "mstate = zz_state(d)\n",
    "update_bound(bb, my_ll, prior, gs_list, mstate);"
   ]
  },
  {
   "cell_type": "code",
   "execution_count": 12,
   "metadata": {},
   "outputs": [
    {
     "name": "stdout",
     "output_type": "stream",
     "text": [
      "Initial speed = [1.0, 1.0, 1.0, 1.0, 1.0, 1.0, 1.0, 1.0, 1.0, 1.0, 1.0, 1.0, 1.0, 1.0, 1.0, 1.0, 1.0, 1.0, 1.0, 1.0, 1.0, 1.0, 1.0, 1.0, 1.0, 1.0]"
     ]
    }
   ],
   "source": [
    "print(\"Initial speed = \", opf.alpha_skeleton[:,opf.tcounter+1])"
   ]
  },
  {
   "cell_type": "code",
   "execution_count": 13,
   "metadata": {
    "collapsed": true
   },
   "outputs": [],
   "source": [
    "adapt_speed = \"by_var\"\n",
    "L = 1\n",
    "my_zz_sampler = zz_sampler(0, gs_list, bb, L, adapt_speed)\n",
    "hyper_sampler = block_gibbs_sampler(1e2)\n",
    "blocksampler = Array{msampler}(2)\n",
    "blocksampler[1] = my_zz_sampler\n",
    "blocksampler[2] = hyper_sampler;"
   ]
  },
  {
   "cell_type": "code",
   "execution_count": 14,
   "metadata": {},
   "outputs": [
    {
     "name": "stdout",
     "output_type": "stream",
     "text": [
      "10 percent attempts in 0.27 min; zz bounces = 6986, hyp bounces = 245, total time of process = 2.265 \n",
      "20 percent attempts in 0.54 min; zz bounces = 16645, hyp bounces = 462, total time of process = 4.446 \n",
      "30 percent attempts in 0.81 min; zz bounces = 28571, hyp bounces = 642, total time of process = 6.534 \n",
      "40 percent attempts in 1.06 min; zz bounces = 41575, hyp bounces = 838, total time of process = 8.580 \n",
      "50 percent attempts in 1.33 min; zz bounces = 55298, hyp bounces = 1053, total time of process = 10.615 \n",
      "60 percent attempts in 1.60 min; zz bounces = 68975, hyp bounces = 1230, total time of process = 12.644 \n",
      "70 percent attempts in 1.87 min; zz bounces = 82881, hyp bounces = 1431, total time of process = 14.660 \n",
      "80 percent attempts in 2.13 min; zz bounces = 96856, hyp bounces = 1627, total time of process = 16.680 \n",
      "90 percent attempts in 2.39 min; zz bounces = 111179, hyp bounces = 1830, total time of process = 18.675 \n",
      "100 percent attempts in 2.66 min; zz bounces = 125427, hyp bounces = 2016, total time of process = 20.673 \n",
      "2.66 mins"
     ]
    }
   ],
   "source": [
    "start = time()\n",
    "ZZ_block_sample(my_model, outp, blocksampler, mstate)\n",
    "print( round((time()-start)/60, 2), \" mins\")"
   ]
  },
  {
   "cell_type": "code",
   "execution_count": 15,
   "metadata": {},
   "outputs": [
    {
     "data": {
      "text/plain": [
       "41.81908372303245"
      ]
     },
     "execution_count": 15,
     "metadata": {},
     "output_type": "execute_result"
    }
   ],
   "source": [
    "ξ = rand(d)\n",
    "rand(Gamma(prior.a_ϕ+(prior.K+1)/2, prior.b_ϕ+ξ[1]^2/(2*prior.κ2)+0.5*sum(ξ[2:prior.K+1].^2)))"
   ]
  },
  {
   "cell_type": "code",
   "execution_count": null,
   "metadata": {
    "collapsed": true
   },
   "outputs": [],
   "source": []
  },
  {
   "cell_type": "code",
   "execution_count": null,
   "metadata": {
    "collapsed": true
   },
   "outputs": [],
   "source": []
  },
  {
   "cell_type": "code",
   "execution_count": null,
   "metadata": {
    "collapsed": true
   },
   "outputs": [],
   "source": []
  },
  {
   "cell_type": "code",
   "execution_count": null,
   "metadata": {
    "collapsed": true
   },
   "outputs": [],
   "source": []
  }
 ],
 "metadata": {
  "kernelspec": {
   "display_name": "Julia 0.6.4",
   "language": "julia",
   "name": "julia-0.6"
  },
  "language_info": {
   "file_extension": ".jl",
   "mimetype": "application/julia",
   "name": "julia",
   "version": "0.6.4"
  }
 },
 "nbformat": 4,
 "nbformat_minor": 2
}
